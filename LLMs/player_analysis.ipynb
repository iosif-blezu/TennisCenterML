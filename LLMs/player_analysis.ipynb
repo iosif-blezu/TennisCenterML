{
 "cells": [
  {
   "cell_type": "markdown",
   "id": "e408e21c",
   "metadata": {},
   "source": [
    "# 🎾 Player Match Analysis\n",
    "This notebook fetches:\n",
    "1. Historical head‑to‑head matches  \n",
    "2. A model prediction for the next match  \n",
    "3. Recent news articles for each player\n"
   ]
  },
  {
   "metadata": {
    "ExecuteTime": {
     "end_time": "2025-05-08T15:48:40.174566Z",
     "start_time": "2025-05-08T15:48:40.166243Z"
    }
   },
   "cell_type": "code",
   "source": [
    "from langchain_openai import ChatOpenAI\n",
    "from langchain.prompts import PromptTemplate\n",
    "from langchain.chains import LLMChain\n",
    "from langchain_openai import OpenAIEmbeddings\n",
    "from langchain.vectorstores import Chroma\n",
    "from langchain.schema import Document\n",
    "import os, re, time, json, pathlib, uuid, pandas as pd\n",
    "from utils.predict_between_two_players import predict_match\n",
    "from dotenv import load_dotenv\n",
    "from tavily import TavilyClient\n",
    "from concurrent.futures import ThreadPoolExecutor, as_completed\n",
    "import textwrap\n",
    "\n"
   ],
   "id": "6a79da4c678d16bf",
   "outputs": [],
   "execution_count": 55
  },
  {
   "cell_type": "code",
   "id": "7274bf34",
   "metadata": {
    "ExecuteTime": {
     "end_time": "2025-05-08T15:53:49.606985Z",
     "start_time": "2025-05-08T15:53:49.600174Z"
    }
   },
   "source": [
    "# --- Configuration ---\n",
    "PLAYER1_ID = 207989   # Carlos Alcaraz\n",
    "PLAYER2_ID = 206173   # Jannick Sinner\n",
    "\n",
    "SURFACE   = \"Clay\"   # Hard | Clay | Grass | Carpet\n",
    "BEST_OF   = 3        # 3 or 5\n",
    "DRAW_SIZE = 128      # Optional tournament draw size\n",
    "\n",
    "TIME_RANGE = \"week\"  #  day / week / month / year\n",
    "NEWS_MAX   = 10\n",
    "SCORE_CUT  = 0.4\n"
   ],
   "outputs": [],
   "execution_count": 56
  },
  {
   "cell_type": "code",
   "id": "27fa0b45",
   "metadata": {
    "ExecuteTime": {
     "end_time": "2025-05-08T15:28:26.570308Z",
     "start_time": "2025-05-08T15:28:26.557436Z"
    }
   },
   "source": [
    "\n",
    "DATA_PATH = \"../data/cleanedDataset.csv\"\n",
    "\n",
    "# Helper: historical matches\n",
    "def get_matches_between_players(p1_id: int, p2_id: int, csv_path: str = DATA_PATH) -> pd.DataFrame:\n",
    "    df = pd.read_csv(csv_path)\n",
    "    return df[((df['p1_id'] == p1_id) & (df['p2_id'] == p2_id)) |\n",
    "              ((df['p1_id'] == p2_id) & (df['p2_id'] == p1_id))]\n",
    "\n",
    "# Helper: Tavily news\n",
    "load_dotenv()\n",
    "tavily = TavilyClient(os.getenv(\"TAVILY_API_KEY\"))\n",
    "\n",
    "def tavily_news(player_name: str,\n",
    "                time_range: str,\n",
    "                max_results: int,\n",
    "                score_cut: float) -> list[dict]:\n",
    "    query = f\"What are the latest news for tennis player {player_name}?\"\n",
    "    search = tavily.search(\n",
    "        query=query,\n",
    "        search_depth=\"advanced\",\n",
    "        time_range=time_range,\n",
    "        max_results=max_results,\n",
    "        include_answer=\"basic\"\n",
    "    )\n",
    "    urls = [r['url'] for r in search['results'] if r.get('score',0) >= score_cut]\n",
    "    return tavily.extract(urls=urls)['results'] if urls else []\n"
   ],
   "outputs": [],
   "execution_count": 43
  },
  {
   "cell_type": "code",
   "id": "d3b4e5c4",
   "metadata": {
    "ExecuteTime": {
     "end_time": "2025-05-08T15:28:27.614081Z",
     "start_time": "2025-05-08T15:28:26.593533Z"
    }
   },
   "source": [
    "matches_df = get_matches_between_players(PLAYER1_ID, PLAYER2_ID)\n",
    "print(f\"Found {len(matches_df)} historical matches\")\n",
    "matches_df\n"
   ],
   "outputs": [
    {
     "name": "stdout",
     "output_type": "stream",
     "text": [
      "Found 10 historical matches\n"
     ]
    },
    {
     "data": {
      "text/plain": [
       "      tourney_id          tourney_name surface  draw_size tourney_level  \\\n",
       "84593  2021-0352         Paris Masters    Hard         64             M   \n",
       "88540   2022-540             Wimbledon   Grass        128             G   \n",
       "88718  2022-0439                  Umag    Clay         32             A   \n",
       "89097   2022-560               Us Open    Hard        128             G   \n",
       "90245  2023-0404  Indian Wells Masters    Hard        128             M   \n",
       "90340  2023-0403         Miami Masters    Hard        128             M   \n",
       "91952  2023-0747               Beijing    Hard         32             A   \n",
       "93057  2024-0404  Indian Wells Masters    Hard        128             M   \n",
       "93720   2024-520         Roland Garros    Clay        128             G   \n",
       "94808  2024-0747               Beijing    Hard         32             A   \n",
       "\n",
       "       tourney_date  match_num   p1_id  p1_seed p1_entry  ... p2_1stWon  \\\n",
       "84593      20211101        273  207989      NaN      NaN  ...      33.0   \n",
       "88540      20220627        213  207989      5.0      NaN  ...      61.0   \n",
       "88718      20220725        300  206173      2.0      NaN  ...      31.0   \n",
       "89097      20220829        222  207989      3.0      NaN  ...      75.0   \n",
       "90245      20230306        299  206173     11.0      NaN  ...      38.0   \n",
       "90340      20230320        299  206173     10.0      NaN  ...      41.0   \n",
       "91952      20230927        299  206173      6.0      NaN  ...      27.0   \n",
       "93057      20240304        298  207989      2.0      NaN  ...      30.0   \n",
       "93720      20240527        400  206173      2.0      NaN  ...      68.0   \n",
       "94808      20240926        400  207989      2.0      NaN  ...      47.0   \n",
       "\n",
       "      p2_2ndWon  p2_SvGms p2_bpSaved  p2_bpFaced  p1_rank  p1_rank_points  \\\n",
       "84593      18.0      12.0        9.0        11.0     35.0          1529.0   \n",
       "88540      40.0      21.0        7.0         7.0      7.0          4890.0   \n",
       "88718      14.0      13.0        4.0         9.0     10.0          3185.0   \n",
       "89097      43.0      27.0       15.0        26.0      4.0          5100.0   \n",
       "90245       9.0      11.0        1.0         2.0     13.0          2655.0   \n",
       "90340      21.0      15.0        6.0        12.0     11.0          2925.0   \n",
       "91952       5.0      10.0        3.0         8.0      7.0          4465.0   \n",
       "93057      15.0      12.0        3.0         6.0      2.0          8805.0   \n",
       "93720      25.0      23.0        4.0        10.0      2.0          8770.0   \n",
       "94808      31.0      17.0       12.0        15.0      3.0          6690.0   \n",
       "\n",
       "      p2_rank p2_rank_points RESULT  \n",
       "84593     9.0         3395.0      1  \n",
       "88540    13.0         3185.0      0  \n",
       "88718     5.0         4895.0      1  \n",
       "89097    13.0         3020.0      1  \n",
       "90245     2.0         6780.0      0  \n",
       "90340     1.0         7420.0      1  \n",
       "91952     2.0         8535.0      1  \n",
       "93057     3.0         8270.0      1  \n",
       "93720     3.0         7300.0      0  \n",
       "94808     1.0        11180.0      1  \n",
       "\n",
       "[10 rows x 50 columns]"
      ],
      "text/html": [
       "<div>\n",
       "<style scoped>\n",
       "    .dataframe tbody tr th:only-of-type {\n",
       "        vertical-align: middle;\n",
       "    }\n",
       "\n",
       "    .dataframe tbody tr th {\n",
       "        vertical-align: top;\n",
       "    }\n",
       "\n",
       "    .dataframe thead th {\n",
       "        text-align: right;\n",
       "    }\n",
       "</style>\n",
       "<table border=\"1\" class=\"dataframe\">\n",
       "  <thead>\n",
       "    <tr style=\"text-align: right;\">\n",
       "      <th></th>\n",
       "      <th>tourney_id</th>\n",
       "      <th>tourney_name</th>\n",
       "      <th>surface</th>\n",
       "      <th>draw_size</th>\n",
       "      <th>tourney_level</th>\n",
       "      <th>tourney_date</th>\n",
       "      <th>match_num</th>\n",
       "      <th>p1_id</th>\n",
       "      <th>p1_seed</th>\n",
       "      <th>p1_entry</th>\n",
       "      <th>...</th>\n",
       "      <th>p2_1stWon</th>\n",
       "      <th>p2_2ndWon</th>\n",
       "      <th>p2_SvGms</th>\n",
       "      <th>p2_bpSaved</th>\n",
       "      <th>p2_bpFaced</th>\n",
       "      <th>p1_rank</th>\n",
       "      <th>p1_rank_points</th>\n",
       "      <th>p2_rank</th>\n",
       "      <th>p2_rank_points</th>\n",
       "      <th>RESULT</th>\n",
       "    </tr>\n",
       "  </thead>\n",
       "  <tbody>\n",
       "    <tr>\n",
       "      <th>84593</th>\n",
       "      <td>2021-0352</td>\n",
       "      <td>Paris Masters</td>\n",
       "      <td>Hard</td>\n",
       "      <td>64</td>\n",
       "      <td>M</td>\n",
       "      <td>20211101</td>\n",
       "      <td>273</td>\n",
       "      <td>207989</td>\n",
       "      <td>NaN</td>\n",
       "      <td>NaN</td>\n",
       "      <td>...</td>\n",
       "      <td>33.0</td>\n",
       "      <td>18.0</td>\n",
       "      <td>12.0</td>\n",
       "      <td>9.0</td>\n",
       "      <td>11.0</td>\n",
       "      <td>35.0</td>\n",
       "      <td>1529.0</td>\n",
       "      <td>9.0</td>\n",
       "      <td>3395.0</td>\n",
       "      <td>1</td>\n",
       "    </tr>\n",
       "    <tr>\n",
       "      <th>88540</th>\n",
       "      <td>2022-540</td>\n",
       "      <td>Wimbledon</td>\n",
       "      <td>Grass</td>\n",
       "      <td>128</td>\n",
       "      <td>G</td>\n",
       "      <td>20220627</td>\n",
       "      <td>213</td>\n",
       "      <td>207989</td>\n",
       "      <td>5.0</td>\n",
       "      <td>NaN</td>\n",
       "      <td>...</td>\n",
       "      <td>61.0</td>\n",
       "      <td>40.0</td>\n",
       "      <td>21.0</td>\n",
       "      <td>7.0</td>\n",
       "      <td>7.0</td>\n",
       "      <td>7.0</td>\n",
       "      <td>4890.0</td>\n",
       "      <td>13.0</td>\n",
       "      <td>3185.0</td>\n",
       "      <td>0</td>\n",
       "    </tr>\n",
       "    <tr>\n",
       "      <th>88718</th>\n",
       "      <td>2022-0439</td>\n",
       "      <td>Umag</td>\n",
       "      <td>Clay</td>\n",
       "      <td>32</td>\n",
       "      <td>A</td>\n",
       "      <td>20220725</td>\n",
       "      <td>300</td>\n",
       "      <td>206173</td>\n",
       "      <td>2.0</td>\n",
       "      <td>NaN</td>\n",
       "      <td>...</td>\n",
       "      <td>31.0</td>\n",
       "      <td>14.0</td>\n",
       "      <td>13.0</td>\n",
       "      <td>4.0</td>\n",
       "      <td>9.0</td>\n",
       "      <td>10.0</td>\n",
       "      <td>3185.0</td>\n",
       "      <td>5.0</td>\n",
       "      <td>4895.0</td>\n",
       "      <td>1</td>\n",
       "    </tr>\n",
       "    <tr>\n",
       "      <th>89097</th>\n",
       "      <td>2022-560</td>\n",
       "      <td>Us Open</td>\n",
       "      <td>Hard</td>\n",
       "      <td>128</td>\n",
       "      <td>G</td>\n",
       "      <td>20220829</td>\n",
       "      <td>222</td>\n",
       "      <td>207989</td>\n",
       "      <td>3.0</td>\n",
       "      <td>NaN</td>\n",
       "      <td>...</td>\n",
       "      <td>75.0</td>\n",
       "      <td>43.0</td>\n",
       "      <td>27.0</td>\n",
       "      <td>15.0</td>\n",
       "      <td>26.0</td>\n",
       "      <td>4.0</td>\n",
       "      <td>5100.0</td>\n",
       "      <td>13.0</td>\n",
       "      <td>3020.0</td>\n",
       "      <td>1</td>\n",
       "    </tr>\n",
       "    <tr>\n",
       "      <th>90245</th>\n",
       "      <td>2023-0404</td>\n",
       "      <td>Indian Wells Masters</td>\n",
       "      <td>Hard</td>\n",
       "      <td>128</td>\n",
       "      <td>M</td>\n",
       "      <td>20230306</td>\n",
       "      <td>299</td>\n",
       "      <td>206173</td>\n",
       "      <td>11.0</td>\n",
       "      <td>NaN</td>\n",
       "      <td>...</td>\n",
       "      <td>38.0</td>\n",
       "      <td>9.0</td>\n",
       "      <td>11.0</td>\n",
       "      <td>1.0</td>\n",
       "      <td>2.0</td>\n",
       "      <td>13.0</td>\n",
       "      <td>2655.0</td>\n",
       "      <td>2.0</td>\n",
       "      <td>6780.0</td>\n",
       "      <td>0</td>\n",
       "    </tr>\n",
       "    <tr>\n",
       "      <th>90340</th>\n",
       "      <td>2023-0403</td>\n",
       "      <td>Miami Masters</td>\n",
       "      <td>Hard</td>\n",
       "      <td>128</td>\n",
       "      <td>M</td>\n",
       "      <td>20230320</td>\n",
       "      <td>299</td>\n",
       "      <td>206173</td>\n",
       "      <td>10.0</td>\n",
       "      <td>NaN</td>\n",
       "      <td>...</td>\n",
       "      <td>41.0</td>\n",
       "      <td>21.0</td>\n",
       "      <td>15.0</td>\n",
       "      <td>6.0</td>\n",
       "      <td>12.0</td>\n",
       "      <td>11.0</td>\n",
       "      <td>2925.0</td>\n",
       "      <td>1.0</td>\n",
       "      <td>7420.0</td>\n",
       "      <td>1</td>\n",
       "    </tr>\n",
       "    <tr>\n",
       "      <th>91952</th>\n",
       "      <td>2023-0747</td>\n",
       "      <td>Beijing</td>\n",
       "      <td>Hard</td>\n",
       "      <td>32</td>\n",
       "      <td>A</td>\n",
       "      <td>20230927</td>\n",
       "      <td>299</td>\n",
       "      <td>206173</td>\n",
       "      <td>6.0</td>\n",
       "      <td>NaN</td>\n",
       "      <td>...</td>\n",
       "      <td>27.0</td>\n",
       "      <td>5.0</td>\n",
       "      <td>10.0</td>\n",
       "      <td>3.0</td>\n",
       "      <td>8.0</td>\n",
       "      <td>7.0</td>\n",
       "      <td>4465.0</td>\n",
       "      <td>2.0</td>\n",
       "      <td>8535.0</td>\n",
       "      <td>1</td>\n",
       "    </tr>\n",
       "    <tr>\n",
       "      <th>93057</th>\n",
       "      <td>2024-0404</td>\n",
       "      <td>Indian Wells Masters</td>\n",
       "      <td>Hard</td>\n",
       "      <td>128</td>\n",
       "      <td>M</td>\n",
       "      <td>20240304</td>\n",
       "      <td>298</td>\n",
       "      <td>207989</td>\n",
       "      <td>2.0</td>\n",
       "      <td>NaN</td>\n",
       "      <td>...</td>\n",
       "      <td>30.0</td>\n",
       "      <td>15.0</td>\n",
       "      <td>12.0</td>\n",
       "      <td>3.0</td>\n",
       "      <td>6.0</td>\n",
       "      <td>2.0</td>\n",
       "      <td>8805.0</td>\n",
       "      <td>3.0</td>\n",
       "      <td>8270.0</td>\n",
       "      <td>1</td>\n",
       "    </tr>\n",
       "    <tr>\n",
       "      <th>93720</th>\n",
       "      <td>2024-520</td>\n",
       "      <td>Roland Garros</td>\n",
       "      <td>Clay</td>\n",
       "      <td>128</td>\n",
       "      <td>G</td>\n",
       "      <td>20240527</td>\n",
       "      <td>400</td>\n",
       "      <td>206173</td>\n",
       "      <td>2.0</td>\n",
       "      <td>NaN</td>\n",
       "      <td>...</td>\n",
       "      <td>68.0</td>\n",
       "      <td>25.0</td>\n",
       "      <td>23.0</td>\n",
       "      <td>4.0</td>\n",
       "      <td>10.0</td>\n",
       "      <td>2.0</td>\n",
       "      <td>8770.0</td>\n",
       "      <td>3.0</td>\n",
       "      <td>7300.0</td>\n",
       "      <td>0</td>\n",
       "    </tr>\n",
       "    <tr>\n",
       "      <th>94808</th>\n",
       "      <td>2024-0747</td>\n",
       "      <td>Beijing</td>\n",
       "      <td>Hard</td>\n",
       "      <td>32</td>\n",
       "      <td>A</td>\n",
       "      <td>20240926</td>\n",
       "      <td>400</td>\n",
       "      <td>207989</td>\n",
       "      <td>2.0</td>\n",
       "      <td>NaN</td>\n",
       "      <td>...</td>\n",
       "      <td>47.0</td>\n",
       "      <td>31.0</td>\n",
       "      <td>17.0</td>\n",
       "      <td>12.0</td>\n",
       "      <td>15.0</td>\n",
       "      <td>3.0</td>\n",
       "      <td>6690.0</td>\n",
       "      <td>1.0</td>\n",
       "      <td>11180.0</td>\n",
       "      <td>1</td>\n",
       "    </tr>\n",
       "  </tbody>\n",
       "</table>\n",
       "<p>10 rows × 50 columns</p>\n",
       "</div>"
      ]
     },
     "execution_count": 44,
     "metadata": {},
     "output_type": "execute_result"
    }
   ],
   "execution_count": 44
  },
  {
   "cell_type": "code",
   "id": "51b24f9e",
   "metadata": {
    "ExecuteTime": {
     "end_time": "2025-05-08T15:28:29.032955Z",
     "start_time": "2025-05-08T15:28:27.677296Z"
    }
   },
   "source": [
    "prediction_str = predict_match(\n",
    "    player1_id=PLAYER1_ID,\n",
    "    player2_id=PLAYER2_ID,\n",
    "    surface=SURFACE,\n",
    "    best_of=BEST_OF,\n",
    "    draw_size=DRAW_SIZE\n",
    ")\n",
    "prediction_str\n"
   ],
   "outputs": [
    {
     "data": {
      "text/plain": [
       "'Carlos Alcaraz is predicted to win — Carlos Alcaraz 51.4% | Jannik Sinner 48.6%'"
      ]
     },
     "execution_count": 45,
     "metadata": {},
     "output_type": "execute_result"
    }
   ],
   "execution_count": 45
  },
  {
   "cell_type": "code",
   "id": "481910388a4a0be1",
   "metadata": {
    "ExecuteTime": {
     "end_time": "2025-05-08T15:28:38.506123Z",
     "start_time": "2025-05-08T15:28:29.111946Z"
    }
   },
   "source": [
    "# Get player names (fallback to IDs if the H2H dataframe is empty)\n",
    "p1_name = matches_df.iloc[0]['p1_name'] if not matches_df.empty else str(PLAYER1_ID)\n",
    "p2_name = matches_df.iloc[0]['p2_name'] if not matches_df.empty else str(PLAYER2_ID)\n",
    "\n",
    "# Tavily news search\n",
    "news_p1 = tavily_news(p1_name, TIME_RANGE, NEWS_MAX, SCORE_CUT)\n",
    "news_p2 = tavily_news(p2_name, TIME_RANGE, NEWS_MAX, SCORE_CUT)\n",
    "\n",
    "# Extract raw article text\n",
    "raw_p1_texts = [article.get(\"raw_content\", \"\") for article in news_p1]\n",
    "raw_p2_texts = [article.get(\"raw_content\", \"\") for article in news_p2]\n",
    "\n",
    "print(f\"{p1_name}: {len(news_p1)} articles (raw texts: {len(raw_p1_texts)})\")\n",
    "print(f\"{p2_name}: {len(news_p2)} articles (raw texts: {len(raw_p2_texts)})\")\n"
   ],
   "outputs": [
    {
     "name": "stdout",
     "output_type": "stream",
     "text": [
      "Carlos Alcaraz: 7 articles (raw texts: 7)\n",
      "Jannik Sinner: 6 articles (raw texts: 6)\n"
     ]
    }
   ],
   "execution_count": 46
  },
  {
   "metadata": {
    "ExecuteTime": {
     "end_time": "2025-05-08T15:28:38.595989Z",
     "start_time": "2025-05-08T15:28:38.589391Z"
    }
   },
   "cell_type": "code",
   "source": "raw_p1_texts",
   "id": "3d204942dbfb63e9",
   "outputs": [
    {
     "data": {
      "text/plain": [
       "['Bolavip, like Futbol Sites, is a company owned by Better Collective. All rights reserved.\\n\\nRafael Nadal’s former coach makes something clear about Alcaraz’s ambitions to be the best in history\\n\\nRafael Nadal’s former coach, Carlos Moyá, shared his thoughts on Carlos Alcaraz’s ambitions to become the greatest player in tennis history, highlighting the challenges of his unique approach.\\n\\nUpdated on May 07, 2025 05:46PM EDT\\n\\nBy Gianni Taina\\n\\nWhen many believed no one in Spain could replicate Rafael Nadal’s extraordinary career, Carlos Alcaraz emerged, breaking records and becoming the youngest player in history to achieve the World No. 1 ranking. Now 22, Alcaraz has made it clear that his ultimate goal is to be the best player in tennis history—but on his own terms.\\n\\nAlcaraz’s philosophy has sparked debate, especially following the release of his documentary “Carlos Alcaraz: My Way,” where he spoke candidly about his ambitions and challenges. “I’m paving my way to becoming the best player in history. And I want to do it my way,” Alcaraz said. “Right now, my biggest fear is seeing tennis as an obligation. Sometimes I feel like I’m enslaved to tennis, and that causes anxiety, frustration, and doubts”.\\n\\nAddressing Alcaraz’s comments, Carlos Moyá, a former World No. 1 and Nadal’s longtime coach, acknowledged the young star’s potential to win more Grand Slam titles in the near future. However, he expressed doubts about Alcaraz’s ability to sustain long-term success with his current mindset.\\n\\n“It’s a viable option if you want to win Grand Slams in the short term. In the long term, it’s complicated because tennis is a long-distance race,” Moyá said during an event with Pedro Escudero. “Can he become one of the best in history? I see it as difficult even if he has a normal life. Being a slave to tennis is already very complicated… Although it’s clear that, given his level, he can be”.\\n\\nMoyá further noted that none of the sport’s legends—Nadal, Novak Djokovic, or Roger Federer—achieved their status while living a “normal life.” “Of the three who have achieved it—Nadal, Djokovic, and Federer—none have done it the way Alcaraz envisions. But he’s still a pioneer, and he could make it happen,” Moyá added.\\n\\nsee also\\n\\nCarlos Alcaraz opens up about the possibility of matching Rafael Nadal’s achievements\\n\\nMoyá reflects on Nadal’s balance\\n\\nHaving coached Nadal from 2017 through his retirement, Moyá emphasized that Rafa never let tennis consume his life entirely but he was still able to reach the top of the sport.\\n\\n“Rafa had a great life outside of tennis—not so much attending events like Formula 1 or motorcycling, but he had a very full life off the court,” Moyá explained. “I know him well, and I know he had his hobbies and enjoyed his free time. Rafa was not a slave to tennis”.\\n\\nALSO READ\\n\\nAustralian Open champion Madison Keys reflects on changing tour after Federer, Nadal and Serena’s retirement\\n\\nHe won the US Open, is Spain’s second most successful player behind Nadal and had a strong rivalry with Guillermo Vilas\\n\\nFormer World No. 1 Boris Becker gives new verdict on the GOAT debate between Federer, Djokovic and Nadal\\n\\nIndiana Fever coach Stephanie White issues careful update on Caitlin Clark’s injury\\n\\nALSO READ\\n\\nAustralian Open champion Madison Keys reflects on changing tour after Federer, Nadal and Serena’s retirement\\n\\nHe won the US Open, is Spain’s second most successful player behind Nadal and had a strong rivalry with Guillermo Vilas\\n\\nFormer World No. 1 Boris Becker gives new verdict on the GOAT debate between Federer, Djokovic and Nadal\\n\\nIndiana Fever coach Stephanie White issues careful update on Caitlin Clark’s injury\\n\\nBolavip, like Futbol Sites, is a company owned by Better Collective. All rights reserved.\\n\\n',\n",
       " \"Carlos Alcaraz\\n\\n2025 Stats\\n\\n2 | 0 | 24-5\\nCareer\\n18 | 0 | 233-61\\nCareer\\n\\nGo to\\n\\n\\nCURRENT TOURNAMENTInternazionali BNL d'Italia- Rome, ItalyMay 5, 2025 to May 18, 2025ROUNDOPPONENTRESULTSCOREMen's Singles1stW2ndDusan Lajovic-May 9 7:00 AM ETComplete Results » | ROUND | OPPONENT | RESULT | SCORE | Men's Singles | 1st |  | W |  | 2nd | Dusan Lajovic | - | May 9 7:00 AM ET | \\nROUND | OPPONENT | RESULT | SCORE\\nMen's Singles\\n1st |  | W | \\n2nd | Dusan Lajovic | - | May 9 7:00 AM ET\\nCURRENT TOURNAMENT\\n\\nInternazionali BNL d'Italia - Rome, ItalyMay 5, 2025 to May 18, 2025\\n\\nROUND | OPPONENT | RESULT | SCORE\\nMen's Singles\\n1st |  | W | \\n2nd | Dusan Lajovic | - | May 9 7:00 AM ET\\nComplete Results »\\n\\nSTATS\\n\\nYEAR | PRIZE MONEY | SINGLES TITLES | DOUBLES TITLES | SINGLES W-L\\n2025 | $2,700,922 | 2 | 0 | 24-5\\n2024 | $10,358,429 | 4 | 0 | 54-13\\n2023 | $15,196,504 | 6 | 0 | 65-12\\n2022 | $10,102,330 | 5 | 0 | 57-13\\n2021 | $1,632,676 | 1 | 0 | 32-17\\n2020 | $81,932 | 0 | 0 | 1-1\\nCareer | $40,555,898 | 18 | 0 | 233-61\\nCARLOS ALCARAZ NEWS FEED\\n\\nStruggling Djokovic withdraws from Italian Open\\n\\nNo. 5-ranked Novak Djokovic, in the midst of a three-match losing streak, has pulled out of the Italian Open, putting in question how well he'll be able to play at the French Open.\\n\\nAlcaraz out of Madrid, keys on health for French\\n\\nHome-crowd favorite Carlos Alcaraz has withdrawn from the Madrid Open because of muscle injuries, saying he didn't want to risk making things worse ahead of the French Open.\\n\\nAlcaraz awaiting test results, hopes to play Madrid\\n\\nCarlos Alcaraz said Tuesday he is feeling fine but will wait on results from medical tests on his upper right leg to decide whether he will play at the Madrid Open.\\n\\nCarlos Alcaraz falls in Barcelona Open final to Holger Rune\\n\\nCarlos Alcaraz is unable to get his third Barcelona Open trophy as he falls to Holger Rune in straight sets.\\n\\nRune stuns Alcaraz to win Barcelona Open title\\n\\nHolger Rune defeated Carlos Alcaraz in the Barcelona Open final Sunday to lift his first title in two years.\\n\\nAlcaraz, Rune advance to Barcelona Open final\\n\\nTop-seeded Carlos Alcaraz will play Holger Rune for the Barcelona Open title after straight-set semifinals on Saturday.\\n\\nAlcaraz advances to Barcelona semis; Ruud falls\\n\\nTop-seeded Carlos Alcaraz has earned his season-best eighth straight win after beating Alex de Minaur 7-5, 6-3 in the Barcelona Open quarterfinals. Defending champion Casper Ruud was knocked out by Holger Rune 6-4, 6-2.\\n\\nCarlos Alcaraz wins Monte Carlo Masters\\n\\nCarlos Alcaraz puts the finishing touches on his three-set win over Lorenzo Musetti to win the Monte Carlo Masters.\\n\\nAlcaraz shines on clay, claims Monte Carlo title\\n\\nCarlos Alcaraz won his first Monte Carlo title as he played in his third straight clay-court final and gained momentum ahead of next month's French Open.\\n\\nAlcaraz to take on Musetti in Monte Carlo final\\n\\nCarlos Alcaraz needed six match points to put away Spanish compatriot Alejandro Davidovich Fokina 7-6 (2), 6-4 and reach the final of the Monte Carlo Masters.\\n\\nQUICK FACTS\\n\\nESPN\\n\\nTennis\\n\\n\",\n",
       " 'Grand Slams\\n\\nTours & Events\\n\\nATP\\n\\nWTA\\n\\nLegends\\n\\nGrand Slams\\n\\nTours & Events\\n\\nATP\\n\\nWTA\\n\\nLegends\\n\\nJuan Carlos Ferrero’s public criticism of Carlos Alcaraz labelled ‘a risky move’\\n\\nPatrick Mouratoglou has admitted he was “very surprised” by the comments Juan Carlos Ferrero made about Carlos Alcaraz’s commitment to tennis.\\n\\nAlcaraz‘s Netflix documentary series, Carlos Alcaraz: My Way, was released last month, and the Spanish star’s approach to his career was the central theme.\\n\\nThe four-time major champion stressed that he wants to achieve his lofty ambitions without compromising his happiness.\\n\\n“Right now my biggest fear of all is ending up seeing tennis as an obligation,” Alcaraz explained.\\n\\n“Sometimes I feel like I am enslaved to tennis and that causes anxiety, frustration, doubts.”\\n\\nFerrero, who has coached Alcaraz since\\xa0September 2018, also featured in the series.\\n\\nThe former world No 1 made a revealing admission about Alcaraz’s philosophy being at odds with the way his team sees the sport.\\n\\n“His understanding of work and sacrifice is so different from ours,” said Ferrero. “It’s so different that it makes me doubt whether ‘his way’ of doing things will help him become the best in the world.”\\n\\nMouratoglou, a renowned coach who currently works with Naomi Osaka, gave his verdict on Ferrero’s choice to publicly question Alcaraz.\\n\\n“First of all, what Carlos has accomplished at a young age is unbelievable,” the Frenchman said in an Instagram video.\\n\\n“I was very surprised to read that his coach said publicly that he was not committing 100%. It will bring a lot of criticism. It’s really difficult to manage that.\\n\\nATP Tour News\\n\\nRafael Nadal’s ex-coach warns Carlos Alcaraz about his ‘best in history’ ambition\\n\\nThe 22 active players who have won an ATP Masters 1000 title after Casper Ruud’s Madrid triumph\\n\\n“Apparently, the way he deals with pressure is to not commit 100%, which is actually a behaviour that is quite usual for professional athletes. That’s a way to take pressure away.\\n\\n“Is it the right way? For sure not. I would try to solve the problem between him and me. He (Ferrero) probably did try and probably doesn’t work, so probably, he goes to the next level. Ferrero is trying to motivate his player.\\n\\n“Is it the right way? I don’t know. If it works, then bravo. If it hurts the player and hurts the relationship between the two, then I would say it’s not a good job.\\n\\n“So, we will see what are the consequences — the positive one or the negative one, or maybe a bit of both. Let’s see how Carlos received it. Maybe he will have a reaction to that, a positive one. But it’s risky.”\\n\\nAlcaraz will play Yoshihito Nishioka or Dusan Lajovic in his first match at the Italian Open as he seeks his third title of the 2025 season.\\n\\nREAD NEXT:\\xa0Carlos Alcaraz vs Alexander Zverev: Battle for world No 2 at Italian Open\\n\\nRelated Articles\\n\\nRafael Nadal’s ex-coach warns Carlos Alcaraz about his ‘best in history’ ambition\\n\\nCarlos Moya reveals what he finds \"shocking\" about Carlos Alcaraz\\'s big goal.\\n\\nThe 11 men who earned most ATP Ranking points during Sinner’s ban. Zverev down in 10th\\n\\nIt\\'s not been a good three-month period for Alexander Zverev in terms of ranking points.\\n\\nCarlos Alcaraz vs Alexander Zverev: Battle for world No 2 at Italian Open\\n\\nCarlos Alcaraz is well-placed to regain the world No 2 ranking from Alexander Zverev in Rome.\\n\\nThe 22 active players who have won an ATP Masters 1000 title after Casper Ruud’s Madrid triumph\\n\\nA look at every current player to win a Masters title.\\n\\nFeatures\\n\\nIga Swiatek’s latest comments confirm she is growing tired of the constant negativity coming her way\\n\\nCarlos Alcaraz vs Alexander Zverev: Battle for world No 2 at Italian Open\\n\\nATP Rankings Race To Turin: Alcaraz leads, Ruud & Draper climb, Sinner & Djokovic drop\\n\\nFacts & Stats\\n\\nIga Swiatek extends Italian Open record as she serves up incredible stats with\\xa052-minute win\\n\\nA guide to Novak Djokovic, Rafael Nadal & Roger Federer’s Italian Open history as 25-year streak ends\\n\\nThe 22 active players who have won an ATP Masters 1000 title after Casper Ruud’s Madrid triumph\\n\\nVideo\\n\\nWATCH: Aryna Sabalenka’s rival says she ‘is never winning a sportsman award’\\xa0after Madrid Open controversy\\n\\nWATCH: Madrid Open plunged into darkness as national power outage causes cancellation on Monday\\n\\nWATCH: Jannik Sinner returns to ‘official’ practice after suspension\\n\\nPlanet Sport Network\\n\\nPlanet Sport Group\\n\\nPlanet Sport Partners\\n\\nTennis365 Info\\n\\nSocial\\n\\n© Planet Sport Limited 2025 • All Rights Reserved\\n\\n',\n",
       " 'Follow us on\\n\\nNews\\n\\nWhat happened in practice match between Carlos Alcaraz and Alex de Minaur and how the Spaniard’s injury looked\\n\\nCarlos Alcaraz is back in action at the Italian Open, following time out due to his adductor injury.\\n\\nAlcaraz suffered the injury in Barcelona, which he received treatment for during his final against Holger Rune, where the Dane emerged victorious.\\n\\nAfter withdrawing from the Madrid Open, the Spaniard is now healthy enough to compete at the Italian Open in Rome, which he missed last year due to an arm injury.\\n\\nAlcaraz is looking for his third title of the season, having already added to his collection in Rotterdam and Monte-Carlo.\\n\\nBefore his first-round matchup against Dusan Lajovic, the three-time grand slam champion took to the practice courts with world number eight Alex de Minaur.\\n\\nCarlos Alcaraz looked healthy in practice set victory over Alex de Minaur\\n\\nAs reported by Spanish outlet Marca, Alcaraz and de Minaur trained for an hour on Court 6 of the Foro Italico tennis complex, where they played a set after half an hour of rallying.\\n\\nThe Spaniard won 6-2, after de Minaur equalised a 2-0 deficit at the start, before losing four consecutive games.\\n\\nIt was clear to see that Alcaraz has regained mobility and is looking to be back to his best, despite wearing a black protection sleeve on his right leg.\\n\\nAt the end of the practice, Alcaraz greeted Brazilian rising star Joao Fonseca on the way to the locker room.\\n\\nThe world number three also played a practice set against Alexander Zverev, which he lost, but is clearly wanting to test himself against the very best, and can’t have too many concerns about the injury.\\n\\nCarlos Alcaraz’s 2025 season so far\\n\\nAlcaraz has enjoyed a successful season on the ATP Tour this year, despite the injury setback in Barcelona.\\n\\nAfter exiting the Australian Open in the quarter-final at the hands of Novak Djokovic, the 22-year-old immediately bounced back in Rotterdam, where he won the title after defeating de Minaur in the final.\\n\\nAlcaraz lost in the Doha quarter-final to Jiri Lehecka, but reached the final four in the first Masters 1000 tournament of the year at Indian Wells, where he ultimately fell to a red-hot Jack Draper.\\n\\nTournament | Result | Opponent\\nAustralian Open | Quarter-Final | Novak Djokovic (L)\\nATP Rotterdam | Winner | Alex de Minaur (W)\\nQatar Open | Quarter-Final | Jiri Lehecka (L)\\nIndian Wells | Semi-Final | Jack Draper (L)\\nMiami Open | First-Round | David Goffin (L)\\nMonte-Carlo | Winner | Lorenzo Musetti (W)\\nBarcelona Open | Final | Holger Rune (L)\\nFollowing a first-round exit in Miami, Alcaraz clinched the biggest title of his season so far, emerging victorious in Monte Carlo, picking up his first Masters 1000 title in 13 months.\\n\\nHaving suffered a loss in the Barcelona final while carrying an injury, Alcaraz will now look to win his 19th career title in the Italian capital.\\n\\n',\n",
       " 'Advertising\\n\\nBaseline\\n\\nCarlos Alcaraz may be running out of room for his sneaker collection\\n\\nGame, Set, Recharge: Frances Tiafoe talks hoop dreams and sleep hacks\\n\\nOutfit of the Day: Anastasia Pavlyuchenkova designs Agassi, Serena-inspired denim in Rome\\n\\nLacoste honors Novak Djokovic\\'s \"undisputed GOAT status\" with golden net cape\\n\\nQuote of the Day: Maria Sakkari sees you watching her matches\\n\\nNo days off for Aryna Sabalenkaâ\\x80\\x94not even on her birthday ð\\x9f\\x8e\\x82\\n\\nPHOTOS: Serena Williams feels like \"modern day Cinderellaâ\\x80\\x9d in showstopping Met Gala look\\n\\nWhen in Rome: Coco Gauff, Iga Swiatek want to check in on the Vatican\\'s papal conclave\\n\\nAlex De Minaur grow vintage car collection, talks Fiat, Ferrari in Rome ð\\x9f\\x9a\\x97\\n\\nPHOTOS: Venus Williams, Lacoste team up to ace Met Gala with tenniscore tribute\\n\\nCarlos Alcaraz may be running out of room for his sneaker collection\\n\\nThe four-time Grand Slam winner revealed his favorite way to splurge after a big win on this episode of VIP Tennis Lounge with GarbiÃ±e Muguruza.ByTennis ChannelPublished May 06, 2025 copy_link\\n\\nPublished May 06, 2025\\n\\n© Matt Fitzgerald\\n\\nCarlos Alcaraz has won four Grand Slam titles and 14 trophies on the ATP Tourâ\\x80\\x94and he keeps them all at his parentsâ\\x80\\x99 place in Murcia, Spain, where he still sleeps on a twin-sized bed.But just because heâ\\x80\\x99s a simple guy doesnâ\\x80\\x99t mean he canâ\\x80\\x99t treat himself, as Alcaraz revealed on a Spanish-only episode of Tennis Channelâ\\x80\\x99s VIP Tennis Lounge with GarbiÃ±e Muguruza.The former world No. 1s chatted about the glitz and glamour of tour life, with Alcaraz telling Muguruza exactly how he plans to spend his next big tennis paycheck.>>PHOTOS: GarbiÃ±e Muguruza hosts Tennis Channel\\'s VIP Tennis Loungeâ\\x80\\x9cMaybe not after every big win, but for example at the Grand Slams, if I reach the semifinals I like to buy myself a new pair of sneakers,â\\x80\\x9d said Alcaraz.\\n\\nBut just because heâ\\x80\\x99s a simple guy doesnâ\\x80\\x99t mean he canâ\\x80\\x99t treat himself, as Alcaraz revealed on a Spanish-only episode of Tennis Channelâ\\x80\\x99s VIP Tennis Lounge with GarbiÃ±e Muguruza.The former world No. 1s chatted about the glitz and glamour of tour life, with Alcaraz telling Muguruza exactly how he plans to spend his next big tennis paycheck.>>PHOTOS: GarbiÃ±e Muguruza hosts Tennis Channel\\'s VIP Tennis Loungeâ\\x80\\x9cMaybe not after every big win, but for example at the Grand Slams, if I reach the semifinals I like to buy myself a new pair of sneakers,â\\x80\\x9d said Alcaraz.\\n\\nThe former world No. 1s chatted about the glitz and glamour of tour life, with Alcaraz telling Muguruza exactly how he plans to spend his next big tennis paycheck.>>PHOTOS: GarbiÃ±e Muguruza hosts Tennis Channel\\'s VIP Tennis Loungeâ\\x80\\x9cMaybe not after every big win, but for example at the Grand Slams, if I reach the semifinals I like to buy myself a new pair of sneakers,â\\x80\\x9d said Alcaraz.\\n\\n>>PHOTOS: GarbiÃ±e Muguruza hosts Tennis Channel\\'s VIP Tennis Loungeâ\\x80\\x9cMaybe not after every big win, but for example at the Grand Slams, if I reach the semifinals I like to buy myself a new pair of sneakers,â\\x80\\x9d said Alcaraz.\\n\\nâ\\x80\\x9cMaybe not after every big win, but for example at the Grand Slams, if I reach the semifinals I like to buy myself a new pair of sneakers,â\\x80\\x9d said Alcaraz.\\n\\n\"Sneakers? You\\'re such a responsible guy. This is VIP Tennis Lounge, we want to hear about something expensive!\" Muguruza said.\\xa0© Matt Fitzgerald\\n\\n© Matt Fitzgerald\\n\\nAdvertising\\n\\nThat might not seem like the biggest splurge when you consider heâ\\x80\\x99s racked up $40 million in career prize money and counting, but as the 22-year-old reminds us: â\\x80\\x9cThere are some types of sneakers that can get veryâ\\x80¦!â\\x80\\x9dIf he keeps winning more big titles, he might soon need a new place to store all of it. As he took viewers around his bedroom on his Netflix docuseries, he revealed that his ever-growing sneaker collection occupies the same bookshelves as his tennis trophiesâ\\x80\\x94and heâ\\x80\\x99s already running out of room.Luckily for Alcaraz, heâ\\x80\\x99s a guy who likes to have options:â\\x80\\x9cIf I feel like I had a good season, at the end of the year Iâ\\x80\\x99ll buy myself a nice watch.â\\x80\\x9dViewers in Spain can check out their full conversation in Spanish on Tennis Channel. For viewers in the US, watch VIP Tennis Lounge with GarbiÃ±e Muguruza for unique conversations and fun vibes featuring Nick Kyrgios, Mirra Andreeva, Coco Gauff and more.\\n\\nIf he keeps winning more big titles, he might soon need a new place to store all of it. As he took viewers around his bedroom on his Netflix docuseries, he revealed that his ever-growing sneaker collection occupies the same bookshelves as his tennis trophiesâ\\x80\\x94and heâ\\x80\\x99s already running out of room.Luckily for Alcaraz, heâ\\x80\\x99s a guy who likes to have options:â\\x80\\x9cIf I feel like I had a good season, at the end of the year Iâ\\x80\\x99ll buy myself a nice watch.â\\x80\\x9dViewers in Spain can check out their full conversation in Spanish on Tennis Channel. For viewers in the US, watch VIP Tennis Lounge with GarbiÃ±e Muguruza for unique conversations and fun vibes featuring Nick Kyrgios, Mirra Andreeva, Coco Gauff and more.\\n\\nLuckily for Alcaraz, heâ\\x80\\x99s a guy who likes to have options:â\\x80\\x9cIf I feel like I had a good season, at the end of the year Iâ\\x80\\x99ll buy myself a nice watch.â\\x80\\x9dViewers in Spain can check out their full conversation in Spanish on Tennis Channel. For viewers in the US, watch VIP Tennis Lounge with GarbiÃ±e Muguruza for unique conversations and fun vibes featuring Nick Kyrgios, Mirra Andreeva, Coco Gauff and more.\\n\\nâ\\x80\\x9cIf I feel like I had a good season, at the end of the year Iâ\\x80\\x99ll buy myself a nice watch.â\\x80\\x9dViewers in Spain can check out their full conversation in Spanish on Tennis Channel. For viewers in the US, watch VIP Tennis Lounge with GarbiÃ±e Muguruza for unique conversations and fun vibes featuring Nick Kyrgios, Mirra Andreeva, Coco Gauff and more.\\n\\nViewers in Spain can check out their full conversation in Spanish on Tennis Channel. For viewers in the US, watch VIP Tennis Lounge with GarbiÃ±e Muguruza for unique conversations and fun vibes featuring Nick Kyrgios, Mirra Andreeva, Coco Gauff and more.\\n\\nCarlos Alcaraz\\'s \"bad mood is a happy mood for 99 percent of the planet\"\\n\\n',\n",
       " \"Follow Us\\n\\nCarlos Alcaraz News\\n\\nFeatures\\n\\nPopular Topics\\n\\nFollow Us\\n\\nFree Newsletters\\n\\nOn Facebook\\n\\nOn Twitter\\n\\nOn Flipboard\\n\\nOn YouTube\\n\\nCarlos Alcaraz's Coach Risks His Harsh Words About Alcaraz Could Backfire\\n\\nCarlos Alcaraz's coach, Juan Carlos Ferrero, made some risky statements that could backfire in the future. Alcaraz is arguably one of the two best tennis players of his generation.\\n\\nCarlos Alcaraz Reveals How He Likes To Spend His Earned Millions\\n\\nCarlos Alcaraz revealed what he enjoys purchasing for himself when he travels to major tournaments, giving insight into his on-court habits. Despite only turning 22 a few days ago, Alcaraz has already established himself as one of the marketable athletes worldwide.\\n\\nCarlos Moya fires back on idea of Rafael Nadal being 'a slave to tennis' as mentioned in Carlos Alcaraz documentary\\n\\nThe newest Netflix documentary focused on Spanish tennis sensation Carlos Alcaraz sparked some controversy, as it was insinuated that retried compatriot Rafael Nadal was 'a slave to tennis'.\\n\\nDaily Dose of Social Media: Birthday twins Carlos Alcaraz and Aryna Sabalenka enjoy Rome celebrations\\n\\nIn a new Daily Dose of Social Media, Carlos Alcaraz and Aryna Sabalenka were the protagonists of the day as they celebrated their birthdays while preparing for the Rome Open.\\n\\n2025 Italian Open Rome ATP Draw With Sinner, Alcaraz, Zverev &\\xa0More\\n\\nThe draw for the 2025 Italian Open has been released, and it will make Italian fans happy, as Jannik Sinner's name appears in it. The last ATP Masters 1000 tournament on clay will run from May 7th until May 18th, and only for the second time this season, Jannik Sinner's name will be in the draw of a professional tennis tournament.\\n\\n'Don’t judge him harshly,' Boris Becker addresses the comparison between Carlos Alcaraz and Rafael Nadal\\n\\nFor the past few months, there have been focus on the comparison between Carlos Alcaraz amd Rafael Nadal. The duo shares unique resemblance in their style of play and are from the same country.\\n\\nCarlos Alcaraz's possible path to the final of the Rome Open 2025\\n\\nThe draw for the Rome Open 2025 has been confirmed. Carlos Alcaraz will return to the competition after missing the Madrid Open due to injury. The Spaniard won the Monte Carlo Masters, but was unable to play his home ATP 1000.\\n\\nCarlos Alcaraz Makes Decision About 2025 Italian Open After Injury Setback\\n\\nCarlos Alcaraz seemingly made his decision about the 2025 Italian Open in Rome, which is the final Masters 1000 tournament on clay this season. Alcaraz sustained an adductor injury in the 2025 Barcelona Open final against Holger Rune.\\n\\n'Carlos has more natural talent': Boris Becker analyzes the comparisons between Alcaraz and Nadal\\n\\nSix-time Grand Slam champion Boris Becker addressed the comparisons between Carlos Alcaraz and the Big Three, focusing on the comparisons being made with fellow Spaniard Rafael Nadal.\\n\\nCarlos Alcaraz’s ex-coach weighs in on the evolution of the Spaniard since his early years\\n\\nCarlos Alcaraz has become one of the best players of his generation. He has established himself in the ATP elites just five years after making his debut at the 2020 Barcelona Open.\\n\\nCarlos Alcaraz's Former Coach Explains Why Leaving Him Was 'Best Decision Ever'\\n\\nCoaching Carlos Alcaraz would certainly feel like a privilege for many coaches, but one of his former coaches doesn't regret leaving the young Spaniard.\\n\\nCarlos Alcaraz Gives Huge Injury Update Ahead Of Roland Garros\\n\\nCarlos Alcaraz was almost set to miss the final Masters 1000 tournament on clay this season at the Italian Open. The Spaniard recently missed the Madrid Open after enduring a groin injury during the Barcelona Open final against Holger Rune.\\n\\nFrancisco Cerundolo says he doesn’t consider himself 'a slave to tennis' just like Carlos Alcaraz\\n\\nCarlos Alcaraz has had a near-perfect career just in his fifth year in the ATP. The 21-year-old has established himself in the ATP elites since 2022 and has continued to soar in his game.\\n\\nWatch: Carlos Alcaraz returns to the tennis courts to send major update on his Italian Open participation\\xa0next\\xa0week\\n\\nCarlos Alcaraz was expected to skip the upcoming Rome Masters after pulling out of the Madrid Open due to injury. He suffered the injury during his loss to Holger Rune in the Barcelona Open final.\\n\\nRoland Garros priority: Carlos Alcaraz may skip Rome Open despite training return\\n\\nCarlos Alcaraz returned to training this week, but his participation in the Rome Open is still uncertain after suffering an injury that forced him to withdraw from the Madrid Open hours before his debut.\\n\\n'There’s much harder work out there': Jack Draper’s reflection after Carlos Alcaraz’s documentary\\n\\nJack Draper achieved a resounding victory against Tommy Paul (6-2, 6-2) and advanced for the fourth time in his career to the quarterfinals of a Masters 1000, although for the first time on clay courts.\\n\\nWatch: Carlos Alcaraz Returns To Practice But With Very Worrying Signs\\n\\nCarlos Alcaraz returned to the tennis courts after taking some time away because of injuries that forced him to miss the Madrid Open. Alcaraz started this clay-court season at the Monte-Carlo Masters, where he won the title before reaching the final in Barcelona.\\n\\nWhy Carlos Alcaraz Is Not Rafael Nadal 2.0\\n\\nSpanish tennis star Carlos Alcaraz is already making gigantic strides in tennis. The 21-year-old has won four Grand Slam titles and six Masters 1000 titles and became the youngest player to finish the season as World No.\\n\\nRafael Nadal convinced Carlos Alcaraz will have ‘one of the best careers’ but warns him about ‘this’\\n\\nCarlos Alcaraz has become a cynosure of all eyes, but along with praises, criticism and pressure, too, has become his daily companion. It’s due to his inconsistent performance.\\n\\nDaily Dose of Social Media: From Bublik’s hilarious rant to ITF madness after obscene gesture\\n\\nIn a new Daily Dose of Social Media, Alexander Bublik showed his frustration against Jakub Mensik with a funny comment to the umpire in the middle of the match, while a strange situation occurred on the ITF Tour when a player was disqualified for obscene gestures to the chair umpire in the middle of the third set.\\n\\n'It doesn't matter if you're number one in the world': Agent Albert Molina shares one incident where Carlos Alcaraz made him 'very angry'\\n\\nSpain’s Carlos Alcaraz’s agent Albert Molina has revealed that he humbled the former world number one because of an interesting reason. The 21-year-old is already regarded as one of the best players currently playing in men’s tennis in the singles category.\\n\\nCoco Gauff declares she’ll ‘never’ copy Carlos Alcaraz’s ‘this’ habit\\n\\nCarlos Alcaraz loves tattoos on his body. He has commemorated all his first Grand Slam victories by getting tattoos. Coco Gauff, however, is not a fan of inking her body.\\n\\nCarlos Alcaraz withdraws in Madrid with right adductor strain\\n\\nCarlos Alcaraz withdrew from the Madrid Open on Thursday because of a groin injury, shifting his focus to taking the court in Rome and then returning to defend his French Open title.\\n\\nCarlos Alcaraz to undergo MRI after injury scare in Barcelona final\\n\\nWorld No. 3 Carlos Alcaraz is set to undergo an MRI after suffering an injury scare in the Barcelona Open final. After a lukewarm start to the season, by his standards, the four-time major champion was really starting to pick up steam over the past few weeks.\\n\\nCarlos Alcaraz's disastrous 2025 continues\\n\\nAlcaraz suffered a shock loss to David Goffin in the opening round of the Miami Open over the weekend, continuing a recent trend of early ousters from big tournaments for the World No. 3.\\n\\nBreaking News\\n\\nTrending News\\n\\nMy Favorites\\n\\nNFL\\n\\t\\t\\t\\t\\t\\tNews\\n\\nMLB\\n\\t\\t\\t\\t\\t\\tNews\\n\\nNBA\\n\\t\\t\\t\\t\\t\\tNews\\n\\nNHL\\n\\t\\t\\t\\t\\t\\tNews\\n\\nCollege Football\\n\\t\\t\\t\\t\\t\\tNews\\n\\nCollege Basketball\\n\\t\\t\\t\\t\\t\\tNews\\n\\nCustomize Your Newsletter\\n\\nGet the latest news and rumors, customized to your favorite sports and teams. Emailed daily. Always free!\\n\\nPopular Quizzes\\n\\nCan you name the NHL players with multiple hat tricks in the Stanley Cup Playoffs?\\n\\nCan you name every NFL head coach with multiple trips to the Super Bowl?\\n\\nCan you name every NBA Sixth Man of the Year Award winner?\\n\\nCan you name every Hart Trophy winner since 1983?\\n\\nCan you name the NBA players to score 45+ points in a playoff loss?\\n\\nCan you name the NFL receiving yards leaders since the 2022 season?\\n\\nToday's Latest News\\n\\nWhat history says about Shedeur Sanders' chances of winning Browns QB competition\\n\\nReport indicates Steelers have already reached out to NFC foe about WR trade\\n\\nCeltics make unwanted NBA history in Game 2 collapse\\n\\nUrban Meyer called out for his comments about punishing coaches\\n\\nWinners and losers through MLB's first six weeks\\n\\nEvery record Thunder broke in historic rout of Nuggets\\n\\nFive incredible notes from the NBA playoffs so far\\n\\nJuan Soto shares who has helped him the most amid slow start to Mets tenure\\n\\n\",\n",
       " \"Menu Idiomas\\n\\nMain menu - Top - EN\\n\\nSECTIONS\\n\\nCorporate\\n\\nSchedule and where to watch on TV and online Carlos Alcaraz's debut in Rome 2025 against Dusan Lajovic\\n\\nThe Spanish tennis player, who returns to the courts after experiencing physical discomfort in the Conde de Godó final\\xa0that prevented him from playing at the Mutua Madrid Open, will make his debut in the Italian tournament against Dusan Lajovic.\\n\\nStreaming ATP Rome live tennis\\n\\n 🎾 Roberto Carballes Baena vs Sebastian Ofner\\n * You can watch and bet on this match live here..\\n\\n\\n\\n\\n\\n\\n\\n\\n\\n\\n\\n            \\xa0PUBLICIDAD\\n\\nCarlos Alcaraz has already overcome the physical discomfort that prevented him from playing in the Mutua Madrid Open. It all happened in the final of the Conde de Godó against Holger Rune, and despite the efforts of the Murcian to play in the Spanish capital, he decided not to take risks and focus on what was to come. After a few rest days at home and several training sessions, the El Palmar native is ready to play at the ATP Rome, as a prelude to his main goal of this clay court tour: Roland Garros.\\n\\nThe current world number three will make an appearance at a tournament in which he has only participated once, in 2023, and fell in the third round against Fabian Marozsan. Additionally, he will coincide at the Foro Italico with Jannik Sinner, who is returning to the circuit after serving his three-month suspension and with whom he could face in a hypothetical final. The Spaniard will start his journey against Dusan Lajovic, a Serbian player whom he has faced four times and defeated on all occasions.\\n\\n- What time does Alcaraz play in the second round of the ATP Rome 2025 against Dusan Lajovic\\n\\nThe match between Carlos Alcaraz and Dusan Lajovic, corresponding to the second round of the ATP Rome, will take place this upcoming Friday, May 9th in the second turn on the central court. This means that the match will be no earlier than 13:00 hours, Spanish mainland time. It can be watched live in Spain through Movistar+, either on channel 7, on #Vamos, or on one of its Deportes+ package channels, while in Latin America, it will be broadcasted by ESPN and Disney+. Additionally, Tennis TV will broadcast it worldwide, allowing viewing from any device using its pay-per-view streaming system.\\n\\n\\n\\n\\n\\nYou can also watch the match live for free at the betting house Bet365, thanks to its live streaming service. You just need to register, make a deposit, and you will automatically have the transmission enabled for Carlos Alcaraz's event at the ATP Rome 2025.\\n\\nThis news is an automatic translation. You can read the original news, Horario y dónde ver en TV y online el debut de Carlos Alcaraz en Roma 2025 ante Dusan Lajovic\\n\\nView the discussion thread.\\n\\nLatest articles\\n\\n8 may. 2025 18:10\\n\\nMattia Bellucci\\n              \\n Pedro Martínez Portero\\n\\nPRONÓSTICO\\n\\nMartínez -2.5 juegos.\\n\\nCuota: 1.9\\n\\n8 may. 2025 19:00\\n\\nJacob Fearnley\\n              \\n Fabio Fognini\\n\\nPRONÓSTICO\\n\\nFognini +3.5 juegos.\\n\\nCuota: 1.77\\n\\nSections\\n\\nOther group websites\\n\\nCorporate\\n\\n\"]"
      ]
     },
     "execution_count": 47,
     "metadata": {},
     "output_type": "execute_result"
    }
   ],
   "execution_count": 47
  },
  {
   "metadata": {
    "ExecuteTime": {
     "end_time": "2025-05-08T15:28:38.797310Z",
     "start_time": "2025-05-08T15:28:38.740902Z"
    }
   },
   "cell_type": "code",
   "source": "raw_p2_texts",
   "id": "a8f6417d",
   "outputs": [
    {
     "data": {
      "text/plain": [
       "['Published Time: 2025-05-05T09:26:36Z\\nJannik Sinner\\'s doping ban has expired, Italian Open welcomes him back in style\\n\\n\\nWatch\\nSearch\\n\\nLogin\\nEdit Profile\\nLogout\\n\\n\\nLive Scores\\n\\nNews\\nTournaments\\nPlayers & Rankings\\nINTERVIEWS\\nBaseline\\n\\nATP Challenger Tour\\n\\n\\nLive Scores\\n\\nNews\\nTournaments\\nPlayers & Rankings\\nINTERVIEWS\\nBaseline\\n\\nATP Challenger Tour\\n\\n\\n\\n\\n\\n\\n\\n\\nAdvertising\\nRome, Italy Jannik Sinner\\'s doping ban has expired, Italian Open welcomes him back in style ------------------------------------------------------------------------------- By Associated Press May 05, 2025Rome, Italy Novak Djokovic withdraws from Rome after early exits in Madrid and Monte-Carlo ------------------------------------------------------------------------------ By TENNIS.com Apr 29, 2025Rome, Italy Andy Roddick: Jannik Sinner “has to set the table in different ways” on clay ---------------------------------------------------------------------------- By David Kane Apr 27, 2025Rome, Italy “I can dream again”: On Alexander Zverev’s Rome triumph and what awaits him in Paris ------------------------------------------------------------------------------------ By Steve Tignor May 19, 2024Rome, Italy Alexander Zverev outdoes Nicolas Jarry to win second Rome title, sixth Masters 1000 crown ----------------------------------------------------------------------------------------- By John Berkok May 19, 2024Rome, Italy Iga Swiatek stands alone on the WTA after completing Madrid-Rome double ----------------------------------------------------------------------- By Steve Tignor May 18, 2024Rome, Italy Rome ATP Final Preview: Alexander Zverev and Nicolas Jarry cap another surprising men’s week -------------------------------------------------------------------------------------------- By Steve Tignor May 18, 2024Rome, Italy Iga Swiatek defeats Aryna Sabalenka to win Rome and complete rare Madrid-Rome sweep ----------------------------------------------------------------------------------- By John Berkok May 18, 2024Rome, Italy Rome: Nicolas Jarry seeks Chile\\'s first Masters 1000 title in 25 years after edging Tommy Paul ---------------------------------------------------------------------------------------------- By TENNIS.com May 18, 2024Rome, Italy Iga Swiatek vs. Aryna Sabalenka: What their Rome final could mean for their rivalry ----------------------------------------------------------------------------------- By Steve Tignor May 17, 2024\\nRome, Italy\\nJannik Sinner\\'s doping ban has expired, Italian Open welcomes him back in style\\nThe conclave to elect a new pope isn’t the only international event attracting visitors to Rome this week.\\nByAssociated Press\\nPublished May 05, 2025\\n\\n\\n\\n\\ncopy_link\\n\\n\\n© Copyright 2022 The Associated Press. All rights reserved\\nROME (AP)—The conclave to elect a new pope isn\\'t the only international event attracting visitors to Rome this week.\\nThe return of top-ranked Jannik Sinner from a three-month doping ban at the Italian Open tennis tournament just up the road from the Vatican is stirring up so much attention that local headlines are declaring \"Habemus Sinner\"—a variant of the Latin words “Habemus Papam!” that are announced from the balcony of St. Peter\\'s Basilica when a pope is elected.\\nIt will mark the first time that Italy has had a No. 1 player for its home tournament. Every move that Sinner makes is being documented with the same sort of detail reserved for cardinals moving around the Vatican before the conclave starts on Wednesday.\\nThe ban, which was agreed on in a settlement with the World Anti-Doping Agency, expired on Monday morning and Sinner was scheduled to hold an open practice session later on Campo Centrale that is expected to attract a soldout crowd of 10,500 spectators. It will be broadcast live on Italian TV.\\nBefore the practice session, Sinner is to be honored alongside his Davis Cup teammates and the Billie Jean King Cup players after Italy swept both of tennis\\' biggest team titles last year.\\nAdvertising\\nJannik Sinner returns from doping ban at Internazionali BNL d\\'Italia | The Break\\nSinner hasn\\'t played a match since he won his second straight Australian Open title in January.\\nThe settlement in the doping case was made in February, after WADA appealed a decision last year by the International Tennis Integrity Agency to fully exonerate Sinner for what it deemed to be an accidental contamination by a banned anabolic steroid in March, 2024.\\nThe settlement raised questions, since it conveniently allows Sinner to return at his home tournament and not miss any Grand Slams. The Italian Open is the last big clay-court tournament before the French Open — the year\\'s second Grand Slam — starts on May 25.\\nMany fellow pros feel that Sinner was treated too lightly. But there likely won\\'t be much criticism of Sinner in Rome. Especially since his main detractor, Nick Kyrgios, is not competing. Kyrgios hasn\\'t played the Italian Open since he threw a chair onto the red clay in a fit of rage during a 2019 match and was defaulted from the tournament.\\nSinner, who has a first-round bye, will be play his opening match Friday or Saturday. The last Italian man to win the title in Rome was Adriano Panatta in 1976.\\nIt\\'s not just Sinner that the locals are hoping to see. Italian tennis is booming.\\nAdvertising\\nJannik Sinner\\'s doping ban has expired and the Italian Open is welcoming him back in style\\n\\n\\n\\n1 / 3\\n/\\nItalian Open Sinner Returns\\nLorenzo Musetti joined Sinner in the top 10 of the rankings at No. 9 on Monday after reaching the Monte Carlo Masters final and the semifinals of the Madrid Open.\\nRome-born Matteo Berrettini has shown signs of rediscovering the form that took him to the Wimbledon final in 2021. Matteo Arnaldi beat Novak Djokovic in Madrid and 18-year-old Federico Cina has won matches at his first two Masters 1000 events.\\nWith six-time champion Djokovic having withdrawn from Rome and record 10-time champion Rafael Nadal retiring last year, even more attention is being directed to Sinner. Alexander Zverev is the defending champion in Rome and No. 3 Carlos Alcaraz is expected back after withdrawing from Madrid due to muscle injuries.\\nOn the women\\'s side, Jasmine Paolini reached the final of both the French Open and Wimbledon last year, then led Italy to the Billie Jean King Cup trophy.\\nAlso, 17-year-old Tyra Grant, a three-time junior Grand Slam doubles champion, announced that she was switching nationalities from the United States to Italy—the country where she grew up as the daughter of American basketball player Tyrone Grant and Italian mother Cinzia Giovinco, who taught her to play tennis.\\nGrant was given a wild card to play the Italian Open.\\n\\n\\nTennis Channel\\nPress\\nCareers\\nAbout\\nContact us\\nMedia Kit\\nPrivacy Policy\\nTerms & Conditions\\nCookie PreferencesDo Not Sell or Share\\nCookie Policy\\n\\nsweepstakes\\n\\n\\n\\n\\n\\n\\n\\n\\nAll rights reserved.© 2025',\n",
       " \"Tennis\\n\\nJannik Sinner’s doping case explained: What three-month ban and Italian Open comeback mean for tennis\\n\\nMay 5 2025: This story has been updated to reflect Jannik Sinner’s return from his anti-doping ban at the Italian Open in Rome.\\n\\nJannik Sinner’s doping case has been one of the biggest stories in tennis since shortly before the 2024 U.S. Open. On August 20 2024, the International Tennis Integrity Agency (ITIA) — the worldwide anti-doping agency for the sport — announced that Sinner, the men’s world No. 1, had twice tested positive for clostebol, a banned anabolic steroid, in March of that year.\\n\\nAdvertisement\\n\\nIt also announced that an independent hearing, convened by the ITIA, had found Sinner bore “no fault or negligence” for those positive tests, accepting his explanation that he had been contaminated by a healing spray purchased by his physio, Umberto Ferrara. Sinner’s physiotherapist, Giacomo Naldi, used the spray on a cut on his hand and then subsequently gave Sinner a massage on his back and applied treatments to his feet.\\n\\nSinner parted company with Ferrara and Naldi, part of the team that took him to world No. 1, on the eve of the U.S. Open, which Sinner won against Taylor Fritz.\\n\\nJust over a month after the ITIA decision, the World Anti-Doping Agency (WADA) announced that it would appeal the “no fault or negligence” ruling at the Court of Arbitration for Sport (CAS). WADA, which sits above the ITIA as the worldwide authority in sports doping is seeking “a period of ineligibility of between one and two years,” in which the two-time Grand Slam champion would be banned from playing tennis.\\n\\nA week later, CAS confirmed its receipt of WADA’s appeal.\\n\\nThen, over three months later CAS set April 16 and 17 2025 as the date for the WADA appeal into Sinner’s case.\\n\\nThat appeal was never heard. Sinner and WADA entered into a case resolution agreement, in which he received a three-month ban. The ban ran February 9 to May 4, meaning that he did not miss any of the four Grand Slam tournaments before returning to competitive tennis at his home event: the Italian Open, in Rome.\\n\\nGO DEEPER\\n\\nWorld No. 1 Jannik Sinner penalized after twice testing positive for banned substance\\n\\nWhen is Sinner’s first competitive match after the ban?\\n\\nThe world No. 1 has been drawn in the top half of the Italian Open. As a seeded player, he receives a bye in the first round, so he will play his opening match May 10. His opponent will be Mariano Navone of Argentina or another Italian, Federico Cinà.\\n\\nWhat did Sinner say about his return to tennis?\\n\\nSpeaking at the Foro Italico in Rome ahead of the Italian Open, Sinner said that he was not scared of returning to competitive tennis, but that he would use the event to test his level.\\n\\nHe explained that he “did not want” to accept the case resolution agreement from WADA, because he “knew what really happened,” but accepted that doing so negated the possibility of a worse outcome at any CAS hearing.\\n\\nWhen did WADA announce Sinner’s ban?\\n\\nWADA confirmed that Sinner would be banned from tennis for three months the morning of Saturday Feb. 15.\\n\\n“Under the Code and by virtue of CAS precedent, an athlete bears responsibility for the entourage’s negligence,” it said, deeming a three-month suspension applicable to the “unique set of facts in this case.”\\n\\nAdvertisement\\n\\nWhich tennis tournaments did Sinner miss?\\n\\nSinner had entered the ATP 500 tournament in Doha, Qatar, which begins February 17. He missed that event, as well as the Sunshine Double: the two prestigious ATP Masters 1,000 events in Indian Wells, Calif., and Miami, Fla., in March.\\n\\nHe then missed two more ATP 1,000s — the Monte Carlo Masters and the Madrid Open — as well as the 500-level Bavarian Open, held in Munich, in between.\\n\\nHow did the ban affect his world No. 1 ranking?\\n\\nSinner already lost his ranking points from last year’s Indian Wells event, as part of tennis anti-doping authorities’ initial sanction for his two positive tests.\\n\\nHe lost 1,000 points from Miami, which he won in 2024; 400 from Monte Carlo and 200 from Madrid, where he reached the semifinals and quarterfinals respectively. He also dropped 500 points from not defending his title in Rotterdam, the Netherlands, in February — but the decision to skip that event was not connected to his doping case.\\n\\nHis ranking points have dropped from 11,830 to 9,730, but nearest rivals Carlos Alcaraz or Alexander Zverev have not fully capitalized on his absence. Despite needing 2,500 points over the course of three months to overtake Sinner, Zverev, who only had 900 points to defend in that time, is 1,645 points behind Sinner as the Italian Open begins. The German won that tournament in 2024, so he needs to win it again just to maintain that gap. Sinner, who did not play the event last year, will gain points for every match that he wins in the Italian capital.\\n\\nAlcaraz, who was defending 1,000 points at Indian Wells, lost in the semifinals there. Despite winning the Monte Carlo Masters and reaching the final of the Barcelona Open, he also remains behind Sinner in the world rankings.\\n\\n# | Player | Ranking Points | Minimum points after Italian Open | Projected ranking after Italian Open\\n1 | Jannik Sinner | 9,730 | 9,730 | 1\\n2 | Alexander Zverev | 8,085 | 7,095 | 3\\n3 | Carlos Alcaraz | 7,850 | 7,850 | 2\\nWhat is a case resolution agreement?\\n\\nA case resolution agreement is part of the WADA World Anti-Doping Code, and can only be considered if an athlete admits to an anti-doping rule violation or violations. The mechanism, under Article 10.8.2, allows for cases to be completed if the athlete accepts “Consequences” acceptable to the anti-doping authority (in this case the ITIA) and to WADA for the violations admitted. The athlete does not have any say in what constitutes those consequences, but they are agreed between the athlete and the doping authorities.\\n\\nAdvertisement\\n\\nA WADA spokesperson said: “This provision 10.8.2 was introduced to the Code in 2021. Since then it has been used dozens of times for cases with exceptional circumstances such as this one.\\n\\n“Given there are many thousands of cases, it is not used that often and is the exception rather than the rule but there has been plenty of precedent for this. Ultimately in this case three months represents a fair outcome under the specific circumstances.” The spokesperson described the exceptional circumstances as the “full body of facts and evidence” in Sinner’s case.\\n\\nWhen did Sinner test positive?\\n\\nBoth of Sinner’s positive tests came in March 2024. The first was an in-competition test on March 10 at the BNP Paribas Open held in Indian Wells, California. The second was an out-of-competition test on March 18.\\n\\nWhat is clostebol?\\n\\nClostebol is an anabolic steroid. It is best known for its role in East Germany’s state-sponsored doping programs of the 1970s and 1980s. It shortens recovery times following intense workouts and allows for the expedited production of muscle mass, in a similar manner to testosterone. Its potential legitimate uses have included treating muscle-wasting disease and osteoporosis. It’s also an ingredient in certain healing creams and sprays that are readily available in Italy, though not in many other countries.\\n\\nSinner’s test samples contained 86 picograms/litre on 10 March, and 76pg/litre on 18 March, when adjusted for the application of a normal specific gravity.\\n\\n“Even if the administration had been intentional, the minute amounts likely to have been administered would not have had any relevant doping, or performance enhancing, effect upon the player,” said Professor David Cowan, a member of the ITIA tribunal for its final ruling on the case.\\n\\nWhat did the ITIA charge Sinner with?\\n\\nThe ITIA charged Sinner with violating Article 2.1 and Article 2.2 of the Tennis Anti-Doping Programme (TADP). Those articles govern “the presence of a prohibited substance or any of its metabolites or markers in a player’s sample,” and “use or attempted use by a player of a prohibited substance or a prohibited method.”\\n\\nBoth Articles are subject to Article 2.1.1, which states that it is “each player’s personal duty to ensure that no prohibited substance enters their body.”\\n\\nWhat explanation did Sinner give?\\n\\nSinner stated that his fitness coach, Umberto Ferrara, had brought an over-the-counter healing spray containing clostebol to Indian Wells (under the brand name Trofodermin, the spray is available over the counter in Italy). Sinner’s physiotherapist, Giacomo Naldi, cut his hand and then used the spray on that cut. Naldi then conducted massages on Sinner, which led to transdermal contamination with the clostebol from the healing spray.\\n\\nGO DEEPER\\n\\nJannik Sinner built the team that made him world No. 1. Then he blew it up\\n\\nWhat did the ITIA investigation find?\\n\\nThe ITIA’s investigation concluded with an independent panel, overseen by arbitrator Sport Resolutions, on August 15. At that hearing, the panel ruled that Sinner bore “no fault or negligence” for the two violations of the (TADP), but nevertheless found him to have committed the two violations.\\n\\nThe tribunal accepted Sinner’s version of events as outlined above and, as such, ruled that he should not be banned but should lose his prize money, results and ranking points from Indian Wells.\\n\\nAdvertisement\\n\\nWhat does ‘no fault or negligence’ actually mean?\\n\\nThat phrase is part of the ITIA’s framework for assessing and prosecuting anti-doping violations and comes into consideration when a player has successfully shown that they did not intentionally dope.\\n\\nThe usual sanction for Sinner’s violations, if proven that he intended to dope, would be a four-year ban. That drops to two years when a player can prove they did not intentionally dope.\\n\\n“No fault or negligence” governs the possibility of reducing that two-year ban further, or to nothing, under Article 10.5 of the TADP.\\n\\nThe TADP requires that a player “did not know or suspect, and could not reasonably have known or suspected even with the exercise of utmost caution, that they had used or been administered the prohibited substance.”\\n\\nOne level below this is “no significant fault or negligence,” which requires the player “establishing that their fault or negligence, when viewed in totality of the circumstances and taking into account the criteria for no fault or negligence, was not significant in relation to the anti-doping rule violation.”\\n\\nThis is significant because the distinction is at the center of WADA’s appeal against the initial ruling in Sinner’s case.\\n\\nWhy was Sinner allowed to continue to play?\\n\\nAs soon as athletes test positive for a performance-enhancing drug that fits the criteria of what that anti-doping world refers to as an “adverse analytical finding,” they are subject to a provisional suspension while an investigation takes place.\\n\\nSinner received a provisional suspension following each positive test for clostebol. However, athletes have the right to appeal these provisional suspensions. Separate tribunals convened by the ITIA heard those appeals quickly and in each case accepted his explanation, which he was able to back up with testimony from his support team and receipts showing that his trainer had purchased the healing spray with clostebol in it.\\n\\nAdvertisement\\n\\nThose decisions allowed Sinner to keep playing while authorities pursued a full investigation. Under these circumstances, ITIA rules allow for the test results and the investigation to remain confidential until the final hearing adjudication. That occurred on August 15, after which the ITIA publicized the case.\\n\\nWhat has Sinner said about the case?\\n\\nDuring the U.S. Open, Sinner answered numerous questions about the positive tests and the process he has been through. He has replaced his trainer and physiotherapist. He spoke openly about how the case weighed on him the past six months and the relief the end of the process brought. After WADA announced that it was appealing the ruling to CAS, he released the following statement:\\n\\n“I am disappointed to hear that WADA have chosen to appeal the result of my ITIA hearing after the independent judges had exonerated me and deemed me to be innocent.\\n\\n“Over the past few months and throughout this process, there have been three separate hearings in each case confirming my innocence. Several months of interviews and investigations culminated in three senior judges scrutinizing every detail through a formal hearing. They issued an in-depth judgement explaining why they determined me not at fault, with clear evidence provided and my cooperation throughout.\\n\\n“On the back of such a robust process, both the ITIA and the Italian anti-doping authority accepted it and waived their rights to appeal. I understand these things need to be thoroughly investigated to maintain the integrity of the sport we all love.\\n\\n“However, it is difficult to see what will be gained by asking a different set of three judges to look at the same facts and documentation all over again. This being said, I have nothing to hide, and as I have done throughout the summer, I will cooperate fully with the appeal process and provide whatever may be needed to prove my innocence once again.”\\n\\nSpeaking at the 2025 Australian Open just before CAS confirmed the date for the appeal hearing — at which point Sinner did not know when it would be — he admitted that waiting to know when the appeal would happen had weighed on him.\\n\\n“I would lie if I would tell you I forget,” he said.\\n\\nWhat do other tennis players think about the case?\\n\\nPlayer reaction has run the gamut.\\n\\nNick Kyrgios, the outspoken Australian, said Sinner should have automatically been banned for two years. Others have questioned whether, as the world No. 1, Sinner received special treatment.\\n\\nIt can take months for players to have their appeals on their provisional suspensions heard. Sinner’s appeals were heard and adjudicated within weeks, so quickly that he didn’t have to miss any tournaments.\\n\\nAdvertisement\\n\\n“Different rules for different players,” Denis Shapovalov tweeted after news of the positive tests broke.\\n\\nShapovalov later told the website Tennis Majors that his comment wasn’t directed at Sinner, but at an anti-doping process that has not given other players the same benefit of the doubt and quick attention that players saw the ITIA granting to Sinner. The British player Tara Moore, who was charged with an anti-doping violation later shown to be caused by contamination that took far longer to wind its way through, joined the chorus, as did her compatriot Liam Broady.\\n\\n“Whether Sinner was\\xa0doping or not, this is not right,” Broady wrote on social media. “Plenty of players go through the same thing and have to wait months or years for their innocence to be declared. Not a good look.”\\n\\nThe Professional Tennis Players Association (PTPA) labelled the ITIA’s processes as “broken” in a letter sent to the body, as well as the ATP and WTA Tours and four Grand Slams.\\n\\nThe ITIA said that “it is currently our belief that ITIA investigators work according to the rules, with respect and reflecting our values.”\\n\\nGO DEEPER\\n\\nTennis player association led by Novak Djokovic calls anti-doping processes 'broken' in letter\\n\\nThe ITIA and Sinner’s team have said that Sinner’s case was heard quickly because everyone knew immediately the source of the clostebol contamination and had the ability to back up their statements with the necessary hard evidence. That Sinner, as world No. 1, could mobilize more effective legal resources more quickly than another player in this situation is not in doubt, but the process by which he did so does not fall outside of normal ITIA protocol.\\n\\nIn its quarterly report into anti-doping and anti-corruption processes released October 17 2024, the ITIA said that “the case management process for anti-doping cases is complex, and we appreciate that it can be confusing to understand the differences in outcome, or perceived inconsistencies in the process.\\n\\n“The way we manage cases does not change, irrespective of the profile of the player involved. The way a case unfolds is determined by its unique circumstances, facts and science.”\\n\\nWhy did WADA appeal?\\n\\nWADA sees things differently to the independent tribunal that settled on a verdict of “no fault or negligence” for the two violations.\\n\\n“It is WADA’s view that the finding of ‘no fault or negligence’ was not correct under the applicable rules,” it said in a statement on Saturday. As such, the organization is pushing for a ban of one or two years — though not a disqualification of any results, beyond Indian Wells as per the original verdict.\\n\\nAdvertisement\\n\\nThis shows that WADA, like the ITIA, accepts that Sinner did not intentionally dope. A one or two-year ban would result in a change in the final ruling from “no fault or negligence” to “no significant fault or negligence,” as outlined above.\\n\\nThis summer saw a bitter dispute between the U.S. and China over allegations surrounding doping by Chinese swimmers before the 2021 Tokyo Olympics\\xa0and suggestions from the United States Anti-Doping Agency (USADA) that WADA had not been strong enough in enforcing its rules. WADA has rebutted these claims, but it would be understandable if the organization wished to show itself to be weighing in on Sinner’s case.\\n\\nWADA retains the right to appeal any judgement by any anti-doping authority across the globe, as it has done here.\\n\\nGO DEEPER\\n\\nWhat is the WADA appeal of Jannik Sinner's doping case really about?\\n\\nWhat would have happened to Sinner if WADA’s appeal had been successful?\\n\\nHe will not be able to compete in a professional tennis event for up to two years, depriving him of the chance to earn millions of dollars in prize money. A suspension would likely do significant damage to his reputation. Sinner is 23, so he would have time to prosper after the suspension, but it’s hard to overestimate the damage that missing two prime years of his career would exact.\\n\\nWhat does this mean for tennis?\\n\\nWhichever way you cut it, this has not been a great look for tennis — the world’s best male player being under investigation for doping offences. There will be some who follow tennis who will lose trust in what they are seeing. Likewise, there will be many who won’t feel this is such a big deal given there’s no real suggestion that the amount of clostebol Sinner had in his system would have given him much of a competitive advantage.\\n\\nBut the longer it drags on the more damage it will do to tennis, with everyone wanting a swift resolution to end all talks of asterisks and relitigation.\\n\\nThe resolution reached, however, in which Sinner is banned but during a period of the tennis calendar that does little harm to his fortunes at the top of the sport, will only reopen wounds of players who feel there are disparities in treatment, even though the process is in accordance with anti-doping regulations.\\n\\n(Top photo: Tim Clayton / Corbis via Getty Images)\\n\\n\",\n",
       " \"Recommended\\n\\nJannik Sinner clarifies relationship status after photos with model surface\\n\\nJannik Sinner is in his singles era.\\n\\nSpeaking to reporters Monday after completing a three-month doping ban ahead of the Italian Open, the three-time Grand Slam champion — who was involved with fellow tennis pro Anna Kalinskaya in 2024 — said he is “not in a relationship” after being linked to Russian model Lara Leito in April.\\n\\n“I was very surprised to see some pictures, which, you know, nothing serious … I’m not in a relationship,” Sinner said, as covered by People. “So, whoever is asking, that’s it. It’s all good.”\\n\\nThe comments from Sinner, 23, come after Italian publication Chi Magazine published snaps of the reigning U.S. Open victor with Leito.\\n\\nExplore More\\n\\nEx-NFL player sentenced to 30 years for murdering girlfriend, burning her corpse\\n\\nCeltics employee desperately calls for security as Knicks fans refuse to leave arena after stunning win\\n\\nKnicks fans at TD Garden, MSG go wild after New York's unbelievable Game 2 rally over Celtics\\n\\nChi reported last month that as the Italian athlete trained at the Monte Carlo Country Club, Leito was in the stands.\\n\\nLeito, who boasts more than 350,000 followers on Instagram, previously dated Oscar winner Adrien Brody, according to reports.\\n\\nA post shared by LARA LEITO (@laraleito)\\n\\nSinner, currently the top-ranked player in the world, previously confirmed his relationship with Kalinskaya, 26, in May 2024 during the French Open.\\n\\n“I don’t like to talk about my private life much, but yes, Anna and I are dating,” he said at the time.\\n\\nSinner and Kalinskaya were photographed kissing last September after his U.S. Open triumph against American Taylor Fritz.\\n\\nHe last competed at the Australian Open in January, defeating Germany’s Alexander Zverev in straight sets in the final, to claim back-to-back grand slam titles Down Under.\\n\\nIn February, Sinner accepted a three-month ban in a settlement with the World Anti-Doping Agency stemming from two positive doping tests.\\n\\nHe said the positive tests resulted from his trainer buying an over-the-counter spray containing Clostebol, which was given to Sinner’s\\xa0physiotherapist to treat a cut\\xa0on their finger.\\n\\nThe physiotherapist tended to Sinner sans gloves.\\n\\n“I didn’t want to do it in the beginning, and also it was a bit not easy for me to accept it, because I know what really happened,” Sinner said, per ESPN. “But sometimes we have to choose the best in a very bad moment, and that’s what we did. So it’s all over now. So I’m happy to play tennis again.”\\n\\nSinner will compete in the first round of the Italian Open on May 9.\\n\\nUnlock full access to Post sports columnists and newsletters\\n\\nLPGA's most recognizable star shares Scott Scheffler similarities as she chases 2024 magic\\n\\nCeltics should be very worried now with Knicks built for this moment\\n\\nKnicks and their fans got to hear sweetest sound of all\\n\\nSports Podcasts\\n\\n\\n\\nUp in the Blue Seats - Rangers\\n\\nThe Show with Joel Sherman and Jon Heyman\\n\\nBlue Rush: NY Giants Football Podcast\\n\\nGang’s All Here: A NY Jets Football Podcast\\n\\nNY Got Game: Basketball\\n\\nPinstripe Post - Yankees\\n\\nAgainst the Cage - Combat Sports\\n\\nScoreboard\\n\\n\\n\\nAdvertisement\\n\\nMore Stories\\n\\nPage Six\\n\\nBethenny Frankel reveals daughter Bryn's desperate plea to move to Florida: 'She cried to me'\\n\\nNYPost\\n\\nLI teen tech whiz -- creator of $30M health app -- makes college decision after all 8 Ivy League schools rejected him\\n\\n\",\n",
       " 'Advertising\\n\\nJannik Sinner shoots down relationship rumors, talks Rome return\\n\\nRome: Naomi Osaka revisits documentary after previewing Carlos Alcaraz Netflix series\\n\\nPaula Badosa, Petra Kvitova out of Rome due to injuries\\n\\nâ\\x80\\x9cItâ\\x80\\x99s a rough roadâ\\x80\\x9d: Marta Kostyuk talks Alexandra Eala, pitfalls of young stardom\\n\\nCoco Gauff, Alexandra Eala to make team debut in Rome doubles event\\n\\nJoao Fonseca vs. Fabian Maroszan: Where to Watch, Rome Preview, Betting Odds\\n\\nFabio Fognini in Rome \"with a smile in my face\" after confirming final Italian Open appearance\\n\\nVictoria Azarenka calls for major changes in anti-doping protocols, tennis scheduling\\n\\nNaomi Osaka channels Andre Agassi in â\\x80\\x98Challengersâ\\x80\\x99 trip to Saint-Malo\\n\\nJoyâ\\x80\\x94not resultsâ\\x80\\x94brought Petra Kvitova back to tennis\\n\\nJannik Sinner shoots down relationship rumors, talks Rome return\\n\\nThe world No. 1 is curious about his level after serving a three-month anti-doping ban.ByDavid KanePublished May 05, 2025 copy_link\\n\\nPublished May 05, 2025\\n\\nROME, Italyâ\\x80\\x94Jannik Sinner arrived to a smattering of applause ahead of a standing room only pre-tournament press conference at the Internazionali BNL dâ\\x80\\x99Italia.The world No. 1 is playing at home for his first tournament since serving a three-month anti-doping ban for two positive tests in 2024, and opened with an apparent eagerness to address a media interest that has only amplified since he was last on court at the Australian Open.Read more: A complete timeline of Jannik Sinner\\'s anti-doping caseâ\\x80\\x9cThereâ\\x80\\x99s a lot of attention,â\\x80\\x9d said Sinner, who is competing in Rome for the first time since 2023.â\\x80\\x9cAlso, off the court, I was surprised to see some pictures, which, nothing serious,â\\x80\\x9d he added with a laugh, referencing paparazzi photos of him and model Laura Leito last month. â\\x80\\x9cIâ\\x80\\x99m not in a relationship!â\\x80\\x9dSinner addressed more serious questions about his time away from the game, having served a ban that wouldnâ\\x80\\x99t prevent him from competing at any major tournaments in 2025.\\n\\nThe world No. 1 is playing at home for his first tournament since serving a three-month anti-doping ban for two positive tests in 2024, and opened with an apparent eagerness to address a media interest that has only amplified since he was last on court at the Australian Open.Read more: A complete timeline of Jannik Sinner\\'s anti-doping caseâ\\x80\\x9cThereâ\\x80\\x99s a lot of attention,â\\x80\\x9d said Sinner, who is competing in Rome for the first time since 2023.â\\x80\\x9cAlso, off the court, I was surprised to see some pictures, which, nothing serious,â\\x80\\x9d he added with a laugh, referencing paparazzi photos of him and model Laura Leito last month. â\\x80\\x9cIâ\\x80\\x99m not in a relationship!â\\x80\\x9dSinner addressed more serious questions about his time away from the game, having served a ban that wouldnâ\\x80\\x99t prevent him from competing at any major tournaments in 2025.\\n\\nRead more: A complete timeline of Jannik Sinner\\'s anti-doping caseâ\\x80\\x9cThereâ\\x80\\x99s a lot of attention,â\\x80\\x9d said Sinner, who is competing in Rome for the first time since 2023.â\\x80\\x9cAlso, off the court, I was surprised to see some pictures, which, nothing serious,â\\x80\\x9d he added with a laugh, referencing paparazzi photos of him and model Laura Leito last month. â\\x80\\x9cIâ\\x80\\x99m not in a relationship!â\\x80\\x9dSinner addressed more serious questions about his time away from the game, having served a ban that wouldnâ\\x80\\x99t prevent him from competing at any major tournaments in 2025.\\n\\nâ\\x80\\x9cThereâ\\x80\\x99s a lot of attention,â\\x80\\x9d said Sinner, who is competing in Rome for the first time since 2023.â\\x80\\x9cAlso, off the court, I was surprised to see some pictures, which, nothing serious,â\\x80\\x9d he added with a laugh, referencing paparazzi photos of him and model Laura Leito last month. â\\x80\\x9cIâ\\x80\\x99m not in a relationship!â\\x80\\x9dSinner addressed more serious questions about his time away from the game, having served a ban that wouldnâ\\x80\\x99t prevent him from competing at any major tournaments in 2025.\\n\\nâ\\x80\\x9cAlso, off the court, I was surprised to see some pictures, which, nothing serious,â\\x80\\x9d he added with a laugh, referencing paparazzi photos of him and model Laura Leito last month. â\\x80\\x9cIâ\\x80\\x99m not in a relationship!â\\x80\\x9dSinner addressed more serious questions about his time away from the game, having served a ban that wouldnâ\\x80\\x99t prevent him from competing at any major tournaments in 2025.\\n\\nSinner addressed more serious questions about his time away from the game, having served a ban that wouldnâ\\x80\\x99t prevent him from competing at any major tournaments in 2025.\\n\\nAdvertising\\n\\nJannik Sinner returns from doping ban at Internazionali BNL d\\'Italia | The Break\\n\\nâ\\x80\\x9cThe body still has to adjust,â\\x80\\x9d said the top seed who, following a first-round bye will play his opening-round match against either Mariano Navone or Italian wild card Federico CinÃ\\xa0. â\\x80\\x9cThe blisters on the hands, theyâ\\x80\\x99ll come again when youâ\\x80\\x99re not used to it anymore.â\\x80\\x9cBut all good. Iâ\\x80\\x99m just very happy and very curious to see where Iâ\\x80\\x99m at.â\\x80\\x9dSinner was initially found to bear No Fault or Negligence by the International Tennis Integrity Association (ITIA) for tests, both in and out of competition dating back to the 2024 BNP Paribas Open, that revealed the presence of banned substance Clostebol.At the time, Sinner and his team successfully argued that the substance came into his system from a massage given by physiotherapist Giacomo Naldi. Naldi had used an anti-septic spray containing the banned substance last March and proceeded to treat Sinner with a bandaged but ungloved hand.Though the ITIA, who provisionally suspended Sinner upon notice of the positive tests, initially declined to hand the now-three-time Grand Slam champion a suspension, the World Anti-Doping Agency (WADA) appealed the decision, leading to the three-month ban that Sinner served in what was described by some as a \"plea deal\".\\n\\nâ\\x80\\x9cBut all good. Iâ\\x80\\x99m just very happy and very curious to see where Iâ\\x80\\x99m at.â\\x80\\x9dSinner was initially found to bear No Fault or Negligence by the International Tennis Integrity Association (ITIA) for tests, both in and out of competition dating back to the 2024 BNP Paribas Open, that revealed the presence of banned substance Clostebol.At the time, Sinner and his team successfully argued that the substance came into his system from a massage given by physiotherapist Giacomo Naldi. Naldi had used an anti-septic spray containing the banned substance last March and proceeded to treat Sinner with a bandaged but ungloved hand.Though the ITIA, who provisionally suspended Sinner upon notice of the positive tests, initially declined to hand the now-three-time Grand Slam champion a suspension, the World Anti-Doping Agency (WADA) appealed the decision, leading to the three-month ban that Sinner served in what was described by some as a \"plea deal\".\\n\\nSinner was initially found to bear No Fault or Negligence by the International Tennis Integrity Association (ITIA) for tests, both in and out of competition dating back to the 2024 BNP Paribas Open, that revealed the presence of banned substance Clostebol.At the time, Sinner and his team successfully argued that the substance came into his system from a massage given by physiotherapist Giacomo Naldi. Naldi had used an anti-septic spray containing the banned substance last March and proceeded to treat Sinner with a bandaged but ungloved hand.Though the ITIA, who provisionally suspended Sinner upon notice of the positive tests, initially declined to hand the now-three-time Grand Slam champion a suspension, the World Anti-Doping Agency (WADA) appealed the decision, leading to the three-month ban that Sinner served in what was described by some as a \"plea deal\".\\n\\nAt the time, Sinner and his team successfully argued that the substance came into his system from a massage given by physiotherapist Giacomo Naldi. Naldi had used an anti-septic spray containing the banned substance last March and proceeded to treat Sinner with a bandaged but ungloved hand.Though the ITIA, who provisionally suspended Sinner upon notice of the positive tests, initially declined to hand the now-three-time Grand Slam champion a suspension, the World Anti-Doping Agency (WADA) appealed the decision, leading to the three-month ban that Sinner served in what was described by some as a \"plea deal\".\\n\\nThough the ITIA, who provisionally suspended Sinner upon notice of the positive tests, initially declined to hand the now-three-time Grand Slam champion a suspension, the World Anti-Doping Agency (WADA) appealed the decision, leading to the three-month ban that Sinner served in what was described by some as a \"plea deal\".\\n\\nAdvertising\\n\\nThis kind of agreement, I didnâ\\x80\\x99t want to do it in the beginning. It was not easy for me to accept it because I know what really happened, but sometimes we have to choose the best in a very bad moment. Jannik Sinner\\n\\nâ\\x80\\x9cThis kind of agreement, I didnâ\\x80\\x99t want to do it in the beginning,â\\x80\\x9d Sinner admitted on Monday. â\\x80\\x9cIt was not easy for me to accept it because I know what really happened, but sometimes we have to choose the best in a very bad moment.â\\x80\\x9dSinnerâ\\x80\\x99s suspension not only kept him from competing at the last four Masters 1000 tournaments, he was further prevented from attending any professional sporting events.â\\x80\\x9cI donâ\\x80\\x99t know how many knows this, but for example, to watch a simple match in a football stadium, I couldnâ\\x80\\x99t go watch it,â\\x80\\x9d said Sinner. â\\x80\\x9cI wanted to support my friends in cycling or motorsport; I couldnâ\\x80\\x99t go there. That, for me, was the toughest part.â\\x80\\x9cBut all things considered, I tried to make the best out of it, being ready mentally for the point when I started to play tennis again. Itâ\\x80\\x99s all fine. Iâ\\x80\\x99m very glad to have spent that time with my family.â\\x80\\x9dSinner went on to speak of the emotional toll of the last 12 months that culminated in his ban, and his low expectations as he officially begins preparations for Roland Garros, the yearâ\\x80\\x99s second major tournament in Paris.\\n\\nSinnerâ\\x80\\x99s suspension not only kept him from competing at the last four Masters 1000 tournaments, he was further prevented from attending any professional sporting events.â\\x80\\x9cI donâ\\x80\\x99t know how many knows this, but for example, to watch a simple match in a football stadium, I couldnâ\\x80\\x99t go watch it,â\\x80\\x9d said Sinner. â\\x80\\x9cI wanted to support my friends in cycling or motorsport; I couldnâ\\x80\\x99t go there. That, for me, was the toughest part.â\\x80\\x9cBut all things considered, I tried to make the best out of it, being ready mentally for the point when I started to play tennis again. Itâ\\x80\\x99s all fine. Iâ\\x80\\x99m very glad to have spent that time with my family.â\\x80\\x9dSinner went on to speak of the emotional toll of the last 12 months that culminated in his ban, and his low expectations as he officially begins preparations for Roland Garros, the yearâ\\x80\\x99s second major tournament in Paris.\\n\\nâ\\x80\\x9cI donâ\\x80\\x99t know how many knows this, but for example, to watch a simple match in a football stadium, I couldnâ\\x80\\x99t go watch it,â\\x80\\x9d said Sinner. â\\x80\\x9cI wanted to support my friends in cycling or motorsport; I couldnâ\\x80\\x99t go there. That, for me, was the toughest part.â\\x80\\x9cBut all things considered, I tried to make the best out of it, being ready mentally for the point when I started to play tennis again. Itâ\\x80\\x99s all fine. Iâ\\x80\\x99m very glad to have spent that time with my family.â\\x80\\x9dSinner went on to speak of the emotional toll of the last 12 months that culminated in his ban, and his low expectations as he officially begins preparations for Roland Garros, the yearâ\\x80\\x99s second major tournament in Paris.\\n\\nâ\\x80\\x9cBut all things considered, I tried to make the best out of it, being ready mentally for the point when I started to play tennis again. Itâ\\x80\\x99s all fine. Iâ\\x80\\x99m very glad to have spent that time with my family.â\\x80\\x9dSinner went on to speak of the emotional toll of the last 12 months that culminated in his ban, and his low expectations as he officially begins preparations for Roland Garros, the yearâ\\x80\\x99s second major tournament in Paris.\\n\\nSinner went on to speak of the emotional toll of the last 12 months that culminated in his ban, and his low expectations as he officially begins preparations for Roland Garros, the yearâ\\x80\\x99s second major tournament in Paris.\\n\\nAdvertising\\n\\nA post shared by Tennis (@tennischannel)\\n\\nâ\\x80\\x9cFor me, look, last year was very difficult. I had a lot of personal pressure, holding everything. I couldnâ\\x80\\x99t talk with many people about what happened. I was in a tough situation at the beginning of the Australian Open. I struggled a lot, so it was nice to take a small break. Three monthsâ\\x80¦but it is what it is. A small break was good. I could feel that Iâ\\x80\\x99m not playing for quite a long time.â\\x80\\x9cWhatâ\\x80\\x99s missing for me is the complete feedback of where my level is. Thatâ\\x80\\x99s going to come slowly with time of playing. After the first-round match, Iâ\\x80\\x99m going to have a good picture of myself and where Iâ\\x80\\x99m at. â\\x80\\x9cHaving only just arrived at the Foro Italico about an hour prior, he had yet to meaningfully interact with his fellow players. But Holger Rune, who practiced in Monte Carlo with Sinner last month, expressed enthusiasm for his return in a pre-match interview.\\n\\nâ\\x80\\x9cWhatâ\\x80\\x99s missing for me is the complete feedback of where my level is. Thatâ\\x80\\x99s going to come slowly with time of playing. After the first-round match, Iâ\\x80\\x99m going to have a good picture of myself and where Iâ\\x80\\x99m at. â\\x80\\x9cHaving only just arrived at the Foro Italico about an hour prior, he had yet to meaningfully interact with his fellow players. But Holger Rune, who practiced in Monte Carlo with Sinner last month, expressed enthusiasm for his return in a pre-match interview.\\n\\nHaving only just arrived at the Foro Italico about an hour prior, he had yet to meaningfully interact with his fellow players. But Holger Rune, who practiced in Monte Carlo with Sinner last month, expressed enthusiasm for his return in a pre-match interview.\\n\\nAdvertising\\n\\nA post shared by Tennis (@tennischannel)\\n\\nâ\\x80\\x9cJannik is Jannik,â\\x80\\x9d Rune told Tennis Channel. â\\x80\\x9cHeâ\\x80\\x99s an amazing player and it was good to share the court with him. Heâ\\x80\\x99s the best player we have in the world right now. Itâ\\x80\\x99s nice to be able to test your level, for him also, being away for a while, to test his level against me.â\\x80\\x9cWhatever happened is in the past now. Weâ\\x80\\x99re over it. I wish him the best for the future.â\\x80\\x9dDespite the time away from court, Sinner managed to retain his No. 1 ranking. He did drop to No. 4 in the Race to Turin, which will determine who competes at the Nitto ATP Finals, a title he won for the first time last year.\\n\\nâ\\x80\\x9cWhatever happened is in the past now. Weâ\\x80\\x99re over it. I wish him the best for the future.â\\x80\\x9dDespite the time away from court, Sinner managed to retain his No. 1 ranking. He did drop to No. 4 in the Race to Turin, which will determine who competes at the Nitto ATP Finals, a title he won for the first time last year.\\n\\nDespite the time away from court, Sinner managed to retain his No. 1 ranking. He did drop to No. 4 in the Race to Turin, which will determine who competes at the Nitto ATP Finals, a title he won for the first time last year.\\n\\nAdvertising\\n\\nWhatâ\\x80\\x99s missing for me is the complete feedback of where my level is. Thatâ\\x80\\x99s going to come slowly with time of playing. After the first-round match, Iâ\\x80\\x99m going to have a good picture of myself and where Iâ\\x80\\x99m at. Jannik Sinner\\n\\nâ\\x80\\x9cTo be honest, I was barely looking at any match, especially at the beginning,â\\x80\\x9d said Sinner. â\\x80\\x9cI wasnâ\\x80\\x99t following Indian Wells and Miami. Of course, I saw the results because itâ\\x80\\x99s normal, but the tennis itself, I was not watching as much. I started again from Madrid, trying to study and trying to understand some of the players which are very interesting to see.â\\x80\\x9cI couldnâ\\x80\\x99t control anything. The new players, new generation is coming stronger and stronger. For me, whatâ\\x80\\x99s most important is the race to Turin, which gives you a bigger picture of how players play in that moment. Iâ\\x80\\x99m happy with the position Iâ\\x80\\x99m in, but I would be happy to be No. 3 or No. 4 in the world, to be honest. Iâ\\x80\\x99m back here and happy to play again in front of the fans.In what might serve as a warning to the field, Sinner added, â\\x80\\x9cI also have a goal in front of my eyes.â\\x80\\x9d\\n\\nâ\\x80\\x9cI couldnâ\\x80\\x99t control anything. The new players, new generation is coming stronger and stronger. For me, whatâ\\x80\\x99s most important is the race to Turin, which gives you a bigger picture of how players play in that moment. Iâ\\x80\\x99m happy with the position Iâ\\x80\\x99m in, but I would be happy to be No. 3 or No. 4 in the world, to be honest. Iâ\\x80\\x99m back here and happy to play again in front of the fans.In what might serve as a warning to the field, Sinner added, â\\x80\\x9cI also have a goal in front of my eyes.â\\x80\\x9d\\n\\nIn what might serve as a warning to the field, Sinner added, â\\x80\\x9cI also have a goal in front of my eyes.â\\x80\\x9d\\n\\n',\n",
       " \"Header 2\\n\\nHeader 3\\n\\nTOURNAMENT RESULTS\\n\\n{{tournament.SponsorTitle}}\\n\\nPLAYER RESULTS\\n\\nSinner: 'Very curious to see where I am at'\\n\\nJannik Sinner returns to action at the Internazionali BNL d’Italia in Rome not with bold predictions, but with quiet curiosity and a sense of purpose.\\n\\nThe 23-year-old Italian is set to compete in his first event since winning the Australian Open in January, after completing a three-month period of ineligibility in a case resolution agreement with WADA. While the anticipation surrounding his return to the capital builds, Sinner, who has never progressed past the quarter-finals at the Italian ATP Masters 1000, is keeping his expectations to a minimum.\\n\\n“It's a very, very low expectation tournament in general, talking results wise,” said Sinner, who faces Mariano Navone or wild card Federico Cina in his opening match. “For me, what's missing is the complete feedback of where my level is. That's going to come slowly with time. After the first round match, I'm going to have a better picture of myself, where I am at.\\n\\n“It's very strange feeling again in the beginning to be around so many people and attention. But it's nice to be back, me and my team are very happy.”\\n\\nYou May Also Like: Sinner faces Navone or Cina first in Rome, in opposite half to Alcaraz \\nDespite his absence from the ATP Tour, Sinner has maintained his spot as the No. 1 player in the PIF ATP Rankings. The Italian, who remains unbeaten in his previous 21 tour-level matches, claims not to have been casting a watchful eye on Tour proceedings as his peers continue to build momentum.\\nSinner has, however, been keeping tabs on the PIF ATP Live Race To Turin, in which he currently sits at fourth after claiming his third major title at the Australian Open.\\n“To be honest, I was barely looking at any match, especially in the beginning,” Sinner said of his absence. “Of course I saw the results because it's normal, but the tennis itself, I was not watching as much. I started again from Madrid, trying to study and then trying to understand some of the players which are very interesting to see.\\n“For me, what's most important is the Race To Turin, which gives you a better picture of how players [are] in that moment. Now I'm happy in the position I am, but I would be happy even if I'm No. 3 or No. 4 in the world, to be honest, I'm just happy to be back here. I'm happy to play again in front of the fans.”\\n\\nFans in Rome have been forced to wait 24 months for Sinner’s return to the capital after he withdrew from last year’s tournament with a hip injury. The 23-year-old was unsurprisingly greeted with raucous cheers as he passed over the bridge at the Foro Italico on his way to Monday’s press conference.\\nSinner owns a 9-5 record in Rome, according to the Infosys ATP Win/Loss Index, with his best result coming in his quarter-final run in 2022, when he lost to Stefanos Tsitsipas. Following the draw ceremony, the Italian is seeded to set a quarter-final clash with Casper Ruud, who is fresh from claiming his maiden Masters 1000 trophy in Madrid.\\n\\n\\n\\n\\n\\n\\n\\n\\n\\n\\n\\n\\n\\n\\n\\n\\n\\n\\n\\n\\n\\n\\n\\n\\n\\n\\n\\n\\n\\n\\n\\n\\n\\n\\n\\n\\n\\n\\n\\n\\n\\n\\n\\n\\n\\n\\n\\n\\n\\n\\n\\n\\n\\n\\n\\n\\n\\n\\n\\n\\n\\n\\n\\n\\n\\n\\n\\n\\n\\n\\n\\n\\n\\n\\n\\n\\n\\n\\n\\n\\n\\n\\n{{player.PlayerFirstName}}\\n{{player.PlayerLastName}}\\n\\n\\n\\n {{player.PlayerCountryCode}}\\n\\n\\n\\n\\n\\n\\n\\n\\n\\n\\n\\n\\n\\n\\n {{player.PlayerLastName}}\\n\\n\\n {{player.PartnerLastName}}\\n\\n\\n\\n\\n\\n\\n\\n{{player.Record}}\\n\\n\\n\\n\\n\\n\\n\\n\\n\\nVswins\\n\\n{{opponent.Record}}\\n\\n\\n Show H2H Detail \\n\\n\\n\\n\\n\\n\\n\\n\\n\\n{{opponent.PlayerFirstName}}\\n{{opponent.PlayerLastName}}\\n\\n\\n\\n {{opponent.PlayerCountryCode}}\\n\\n\\n\\n\\n\\n\\n\\n\\n\\n\\n\\n\\n\\n\\n {{ opponent.PlayerLastName }}\\n\\n\\n {{opponent.PartnerLastName}}\\n\\n\\n\\n\\n\\n\\n\\n\\n\\n\\n{{player.Ranking}}\\nRank\\n{{opponent.Ranking}}\\n\\n\\n{{player.Age ? player.Age : '-'}}\\nAge\\n{{opponent.Age ? opponent.Age : '-'}}\\n\\n\\n\\n\\n\\n\\n\\n\\n\\n\\n\\n\\n\\nThe 19-time tour-level champion, Sinner will look to quickly build some rhythm as he heads into the remainder of the European clay-court swing.\\n“[They have been] very long months, but I was glad to share some great moments with my family, with my friends,” said Sinner. “We were practising very hard, especially in the gym in the beginning, coming back to court again.\\n“It was good, but I could feel that I'm not playing for quite a long time. The body still has to adjust, the blisters in hands… They didn't come again because you're not used to it anymore, but all good, I'm just very happy, very curious to see where I am at.”\\nJannik Sinner practises with Jiri Lehecka on Monday in Rome. Photo:\\xa0TIZIANA FABI/AFP via Getty Images.\\nAfter his media duties, Sinner then offered fans a glimpse of the preparation that has been going on behind the scenes. Met with a chorus of “Ole, Ole, Ole, Sinner” from the buzzing crowd in attendance at Campo Centrale, the home favourite practised with World No. 38 Jiri Lehecka.\\nWhile there were inevitable signs of rust, including a framed forehand sent into the upper stands during the warmup, Sinner also unleashed his trademark power with a barrage of groundstrokes. Yet Lehecka was able to go toe to toe with Sinner during the practice set, and it was the Czech player who broke first for a 4-3 lead.\\nNevertheless, the Foro Italico remained in hysteria. “We love you, Jannik,” shouted one Italian teenager, summing up the mood.\\nSinner has cultivated a deep connection with the Italian public over the past two years, notably after becoming the first player from his country to reach No. 1 in the history of the PIF ATP Rankings in June 2024, and leading Italy to consecutive Davis Cup titles in 2023-24.\\n\\xa0\\n\\n\\n\\n\\nRead More News\\nView All News \\n\\n\\n\\n\\n\\n\\n\\n\\n\\n\\n\\n\\n\\n\\n\\n\\nView Related Videos\\nView All Videos\\n\\nDespite his absence from the ATP Tour, Sinner has maintained his spot as the No. 1 player in the PIF ATP Rankings. The Italian, who remains unbeaten in his previous 21 tour-level matches, claims not to have been casting a watchful eye on Tour proceedings as his peers continue to build momentum.\\n\\nSinner has, however, been keeping tabs on the PIF ATP Live Race To Turin, in which he currently sits at fourth after claiming his third major title at the Australian Open.\\n\\n“To be honest, I was barely looking at any match, especially in the beginning,” Sinner said of his absence. “Of course I saw the results because it's normal, but the tennis itself, I was not watching as much. I started again from Madrid, trying to study and then trying to understand some of the players which are very interesting to see.\\n\\n“For me, what's most important is the Race To Turin, which gives you a better picture of how players [are] in that moment. Now I'm happy in the position I am, but I would be happy even if I'm No. 3 or No. 4 in the world, to be honest, I'm just happy to be back here. I'm happy to play again in front of the fans.”\\n\\n\\n\\nFans in Rome have been forced to wait 24 months for Sinner’s return to the capital after he withdrew from last year’s tournament with a hip injury. The 23-year-old was unsurprisingly greeted with raucous cheers as he passed over the bridge at the Foro Italico on his way to Monday’s press conference.\\n\\nSinner owns a 9-5 record in Rome, according to the Infosys ATP Win/Loss Index, with his best result coming in his quarter-final run in 2022, when he lost to Stefanos Tsitsipas. Following the draw ceremony, the Italian is seeded to set a quarter-final clash with Casper Ruud, who is fresh from claiming his maiden Masters 1000 trophy in Madrid.\\n\\n{{player.PlayerFirstName}}\\n{{player.PlayerLastName}}\\n\\n\\n\\n {{player.PlayerCountryCode}}\\n\\n\\n\\n\\n\\n\\n\\n\\n\\n\\n\\n\\n\\n\\n {{player.PlayerLastName}}\\n\\n\\n {{player.PartnerLastName}}\\n\\n\\n\\n\\n\\n\\n\\n{{player.Record}}\\n\\n\\n\\n\\n\\n\\n\\n\\n\\nVswins\\n\\n{{opponent.Record}}\\n\\n\\n Show H2H Detail \\n\\n\\n\\n\\n\\n\\n\\n\\n\\n{{opponent.PlayerFirstName}}\\n{{opponent.PlayerLastName}}\\n\\n\\n\\n {{opponent.PlayerCountryCode}}\\n\\n\\n\\n\\n\\n\\n\\n\\n\\n\\n\\n\\n\\n\\n {{ opponent.PlayerLastName }}\\n\\n\\n {{opponent.PartnerLastName}}\\n\\n\\n\\n\\n\\n\\n\\n\\n\\n\\n{{player.Ranking}}\\nRank\\n{{opponent.Ranking}}\\n\\n\\n{{player.Age ? player.Age : '-'}}\\nAge\\n{{opponent.Age ? opponent.Age : '-'}}\\n\\n\\n\\n\\n\\n\\n\\n\\n\\n\\n\\n\\n\\nThe 19-time tour-level champion, Sinner will look to quickly build some rhythm as he heads into the remainder of the European clay-court swing.\\n“[They have been] very long months, but I was glad to share some great moments with my family, with my friends,” said Sinner. “We were practising very hard, especially in the gym in the beginning, coming back to court again.\\n“It was good, but I could feel that I'm not playing for quite a long time. The body still has to adjust, the blisters in hands… They didn't come again because you're not used to it anymore, but all good, I'm just very happy, very curious to see where I am at.”\\nJannik Sinner practises with Jiri Lehecka on Monday in Rome. Photo:\\xa0TIZIANA FABI/AFP via Getty Images.\\nAfter his media duties, Sinner then offered fans a glimpse of the preparation that has been going on behind the scenes. Met with a chorus of “Ole, Ole, Ole, Sinner” from the buzzing crowd in attendance at Campo Centrale, the home favourite practised with World No. 38 Jiri Lehecka.\\nWhile there were inevitable signs of rust, including a framed forehand sent into the upper stands during the warmup, Sinner also unleashed his trademark power with a barrage of groundstrokes. Yet Lehecka was able to go toe to toe with Sinner during the practice set, and it was the Czech player who broke first for a 4-3 lead.\\nNevertheless, the Foro Italico remained in hysteria. “We love you, Jannik,” shouted one Italian teenager, summing up the mood.\\nSinner has cultivated a deep connection with the Italian public over the past two years, notably after becoming the first player from his country to reach No. 1 in the history of the PIF ATP Rankings in June 2024, and leading Italy to consecutive Davis Cup titles in 2023-24.\\n\\xa0\\n\\n\\n\\n\\nRead More News\\nView All News \\n\\n\\n\\n\\n\\n\\n\\n\\n\\n\\n\\n\\n\\n\\n\\n\\nView Related Videos\\nView All Videos\\n\\nThe 19-time tour-level champion, Sinner will look to quickly build some rhythm as he heads into the remainder of the European clay-court swing.\\n\\n“[They have been] very long months, but I was glad to share some great moments with my family, with my friends,” said Sinner. “We were practising very hard, especially in the gym in the beginning, coming back to court again.\\n\\n“It was good, but I could feel that I'm not playing for quite a long time. The body still has to adjust, the blisters in hands… They didn't come again because you're not used to it anymore, but all good, I'm just very happy, very curious to see where I am at.”\\n\\nJannik Sinner practises with Jiri Lehecka on Monday in Rome. Photo:\\xa0TIZIANA FABI/AFP via Getty Images.\\n\\nAfter his media duties, Sinner then offered fans a glimpse of the preparation that has been going on behind the scenes. Met with a chorus of “Ole, Ole, Ole, Sinner” from the buzzing crowd in attendance at Campo Centrale, the home favourite practised with World No. 38 Jiri Lehecka.\\n\\nWhile there were inevitable signs of rust, including a framed forehand sent into the upper stands during the warmup, Sinner also unleashed his trademark power with a barrage of groundstrokes. Yet Lehecka was able to go toe to toe with Sinner during the practice set, and it was the Czech player who broke first for a 4-3 lead.\\n\\nNevertheless, the Foro Italico remained in hysteria. “We love you, Jannik,” shouted one Italian teenager, summing up the mood.\\n\\nSinner has cultivated a deep connection with the Italian public over the past two years, notably after becoming the first player from his country to reach No. 1 in the history of the PIF ATP Rankings in June 2024, and leading Italy to consecutive Davis Cup titles in 2023-24.\\n\\n\\n\\nRead More News\\nView All News\\n\\nView Related Videos\\nView All Videos\\n\\n\\n\\n\\n\\n\\n\\n\\n\\nPROFILE\\n\\n{{playerData.PlayerFirstName}}\\n{{playerData.PlayerLastName}}\\n\\n\\n\\n\\n\\nDOWNLOAD OFFICIAL ATP WTA LIVE APP\\n\\nPartners\\n\\n\\n\\n\\n\\n© Copyright 1994 - 2024 ATP Tour, Inc. All Rights Reserved. No part of this site may be reproduced, stored in a retrieval system or transmitted in any way or by any means (including photocopying, recording or storing it in any medium by electronic means), without the written permission of ATP Tour, Inc.. Terms & Conditions\\xa0| Privacy \\xa0|\\xa0Community Social Media Policy | Modern Slavery Statement\\xa0|\\xa0Feedback  | Cookies  | Your Privacy Choices\\n\\n\",\n",
       " 'Games\\n\\nDeals\\n\\nFOX Business\\n\\nScience & Tech\\n\\nWatch Live\\n\\nApps & Products\\n\\nGames\\n\\nDeals\\n\\nFOX Business\\n\\nScience & Tech\\n\\nWatch Live\\n\\nApps & Products\\n\\nThis material may not be published, broadcast, rewritten, or redistributed. ©2025 FOX News Network, LLC. All rights reserved. Quotes displayed in real-time or delayed by at least 15 minutes. Market data provided by Factset. Powered and implemented by FactSet Digital Solutions. Legal Statement. Mutual Fund and ETF data provided by Refinitiv Lipper.\\n\\nRecommended Videos\\n\\nSeahawks new QB Sam Darnold gives advice to Shedeur Sanders\\n\\nAntisemitism watchdog calls on FIFA, Trump task force to combat anti-Israel soccer campaign\\n\\nNFL player dedicates career to brother killed in New Orleans terror attack\\n\\nDave Portnoy rescinds offer to Temple student after Philadelphia Barstool bar antisemitic incident\\n\\nSports capital: Trump touts new DC stadium amid NFL Draft announcement\\n\\nTrump makes major announcement about the NFL Draft\\n\\nBill Belichick slams CBS after his girlfriend interjects in major interview\\n\\nBill Belichick considers hiring PR help after viral interview\\n\\nJohn Elway retains attorney after friend dies in golf cart accident\\n\\nMichele Tafoya says Bill Belichick’s CBS interview drama is ‘not a good look’ for him\\n\\nESPN host dishes on if the media protects Shedeur, Deion Sanders\\n\\nGRAPHIC VIDEO: Baseball fan falls plummets from stands to field at Pirates game\\n\\nPackers\\' Matthew Golden on how faith drives him in football\\n\\nPackers rookie Matthew Golden wants to use signing bonus to get grandma\\'s house back\\n\\nFamed NFL agent Leigh Steinberg analyzes Shedeur Sanders\\' unprecedented NFL Draft fall\\n\\nTyrus sounds off on ‘methods’ behind Shedeur Sanders prank call\\n\\nJulie Banderas\\' new book \\'A Monumental Mistake\\' teaches children an important message\\n\\nGiants\\' Cam Skattebo could be \\'steal of the draft,\\' ex-NFL star says\\n\\nFormer NFL star Eddie George dishes on Shedeur Sanders\\' historic NFL Draft freefall\\n\\nQuarterback Joe Flacco previews NFL Draft, talks return to Browns\\n\\nJannik Sinner reveals major life update after returning from 3-month suspension: \\'It\\'s all good\\'\\n\\nSinner confirmed relationship with Anna Kalinskaya nearly year before announcing he\\'s now single\\n\\nFox News Flash top sports headlines for May 7\\n\\nFox News Flash top sports headlines are here. Check out what\\'s clicking on Foxnews.com.\\n\\nJannik Sinner has officially returned to the court after serving a three-month suspension resulting from a positive drug test. He’s also officially single.\\n\\nThe top-ranked men’s singles\\xa0tennis pro clarified his relationship status ahead of the Italian Open this week after an Italian publication shared photos of him spending time with Russian model Lara Leito last month.\\n\\nItaly\\'s Jannik Sinner speaks during a press conference for the Italian Open in Rome on May 5, 2025. (Alfredo Falcone/LaPresse via AP)\\n\\nThe news seemingly confirmed Sinner’s split from fellow tennis pro Anna Kalinskaya.\\n\\nCLICK HERE FOR MORE SPORTS COVERAGE ON FOXNEWS.COM\\n\\n\"I’m very happy to be back here. It has been three very long months,\" Sinner said during a press conference on Tuesday. \"I was glad to share some great moments with my family, with my friends. We were practicing very hard, especially in the gym in the beginning, coming back to the court again.\"\\n\\nOn top of sharing information about his training, Sinner got ahead of reporters to confirm that he is \"single.\"\\n\\n\"I saw there is a lot of attention also kind of off the court, and I was also very surprised to see some pictures which, nothing serious, let’s say like this: I’m not in a relationship, so for whoever is asking, it’s all good.\"\\n\\nSinner and Kalinskaya were linked last year, which he confirmed at the\\xa0French Open in May 2024, the New York Post reported. The couple shared a kiss a few months later after he won the U.S. Open in September.\\n\\nAnna Kalinskaya (Geoff Burke/Imagn Images)\\n\\nTENNIS ORGANIZATION DRAWS MIXED REACTION AFTER ‘CREEPY’ ANTI-DOPING POLICY SURFACES ON SOCIAL MEDIA\\n\\nBut the paparazzi snaps and Sinner’s comments this week have confirmed their split.\\n\\nBack on the court, Sinner expressed joy at returning to tennis after the World Anti-Doping Agency (WADA) suspended him as a result of testing positive for a banned anabolic steroid twice more than a year ago.\\n\\n\"I didn’t want to do it in the beginning, and also it was a bit not easy for me to accept it, because I know what really happened,\" Sinner said. \"But sometimes we have to choose the best in a very bad moment, and that’s what we did. So it’s all over now. So I’m happy to play tennis again.\"\\n\\nJannik Sinner (Mike Frey-Imagn Images)\\n\\nCLICK HERE TO GET THE FOX NEWS APP\\n\\nSinner, 23, tested positive for low levels of metabolite of clostebol, a banned anabolic steroid that can be used for ophthalmological and dermatological use, in March 2024. Eight days after the Indian Wells tournament, Sinner tested positive again in an out-of-competition sample.\\n\\nAccording to the International Tennis Integrity Agency’s initial findings, Sinner explained that he tested positive after receiving a massage from a trainer who had used an over-the-counter spray that contained clostebol to treat a small wound after cutting his own finger.\\n\\nWhile WADA accepted the no-fault explanation, the organization said the three-month suspension was necessary as \"an athlete bears responsibility for the entourage’s negligence.\"\\n\\nFollow Fox News Digital’s\\xa0sports coverage on X, and subscribe to\\xa0the Fox News Sports Huddle newsletter.\\n\\nPaulina Dedaj is a Sports Reporter for Fox News Digital.\\n\\nRelated Topics\\n\\nFox News First\\n\\nGet all the stories you need-to-know from the most powerful name in news delivered first thing every morning to your inbox.\\n\\nBy entering your email and clicking the Subscribe button, you agree to the Fox News Privacy Policy and Terms of Use, and\\n        agree to receive content and promotional communications from Fox News. You understand that you can\\n        opt-out at any time.\\n\\nSubscribed\\n\\nYou\\'ve successfully subscribed to this newsletter!\\n\\nU.S.\\n\\nPolitics\\n\\nWorld\\n\\nOpinion\\n\\nMedia\\n\\nEntertainment\\n\\nSports\\n\\nLifestyle\\n\\nDeals\\n\\nFOX Business\\n\\nScience & Tech\\n\\nGames\\n\\nWatch Live\\n\\nAbout\\n\\nApps & Products\\n\\nU.S.\\n\\nPolitics\\n\\nWorld\\n\\nOpinion\\n\\nMedia\\n\\nEntertainment\\n\\nSports\\n\\nLifestyle\\n\\nDeals\\n\\nFOX Business\\n\\nScience & Tech\\n\\nGames\\n\\nWatch Live\\n\\nAbout\\n\\nApps & Products\\n\\nThis material may not be published, broadcast, rewritten, or redistributed. ©2025 FOX News Network, LLC. All rights reserved. Quotes displayed in real-time or delayed by at least 15 minutes. Market data provided by\\n        Factset. Powered and implemented by\\n        FactSet Digital Solutions.\\n        Legal Statement. Mutual Fund and ETF data provided by\\n        Refinitiv Lipper.\\n\\n']"
      ]
     },
     "execution_count": 48,
     "metadata": {},
     "output_type": "execute_result"
    }
   ],
   "execution_count": 48
  },
  {
   "metadata": {
    "ExecuteTime": {
     "end_time": "2025-05-08T15:29:06.319319Z",
     "start_time": "2025-05-08T15:28:38.844663Z"
    }
   },
   "cell_type": "code",
   "source": [
    "load_dotenv()\n",
    "\n",
    "llm = ChatOpenAI(model_name=\"gpt-3.5-turbo-0125\", temperature=0)  # 0 for deterministic cleaning\n",
    "\n",
    "clean_prompt = PromptTemplate(\n",
    "    input_variables=[\"article\"],\n",
    "    template=\"\"\"You are a meticulous copy-editor. Given a raw scrape of a news article,\n",
    "remove everything that is not the core story text (ads, navigation links, repeated lists,\n",
    "social-media prompts, newsletters, quizzes, etc.). Return only clean, well-formatted\n",
    "paragraphs of the article in its original language—no commentary, no summary.\n",
    "\n",
    "RAW ARTICLE:\n",
    "----------------\n",
    "{article}\n",
    "----------------\n",
    "CLEAN ARTICLE:\"\"\"\n",
    ")\n",
    "clean_chain = LLMChain(llm=llm, prompt=clean_prompt)\n",
    "\n",
    "# --- quick regex to drop obvious junk before the LLM ---------------------------\n",
    "_noise_re = re.compile(r\"(Advertising|Follow (Us|us)|Trending News|Free Newsletters\"\n",
    "                       r\"|Popular Topics|Subscribe|Latest News).*\", re.I)\n",
    "\n",
    "def _pre_clean(text: str) -> str:\n",
    "    return \"\\n\".join(\n",
    "        ln for ln in text.splitlines() if ln.strip() and not _noise_re.match(ln)\n",
    "    )\n",
    "\n",
    "# --- worker that one thread will run ------------------------------------------\n",
    "def _clean_single(raw: str) -> str:\n",
    "    # LLMChain.invoke returns a dict {'text': ...}\n",
    "    result = clean_chain.invoke({\"article\": _pre_clean(raw)})\n",
    "    return result[\"text\"] if isinstance(result, dict) else result\n",
    "\n",
    "# --- public helper -------------------------------------------------------------\n",
    "def clean_articles_fast(raw_list: list[str],\n",
    "                        *,\n",
    "                        max_workers: int = 8,\n",
    "                        rpm_cap: int = 90) -> list[str]:\n",
    "    \"\"\"\n",
    "    Clean many articles in parallel.\n",
    "      • max_workers  – number of concurrent threads (tweak for your CPU/rate limit)\n",
    "      • rpm_cap      – OpenAI requests-per-minute cap to avoid 429s\n",
    "    \"\"\"\n",
    "    delay = 60 / rpm_cap if rpm_cap else 0\n",
    "    cleaned = []\n",
    "    with ThreadPoolExecutor(max_workers=max_workers) as pool:\n",
    "        futures = {pool.submit(_clean_single, art): i\n",
    "                   for i, art in enumerate(raw_list) if art.strip()}\n",
    "        for fut in as_completed(futures):\n",
    "            try:\n",
    "                cleaned.append(fut.result())\n",
    "            except Exception as e:\n",
    "                print(f\"LLM error: {e}\")\n",
    "            # crude rate-limit pacing\n",
    "            if delay:\n",
    "                time.sleep(delay)\n",
    "    return cleaned\n",
    "\n",
    "# ─── Run it ────────────────────────────────────────────────────────────────────\n",
    "clean_p1_texts = clean_articles_fast(raw_p1_texts)\n",
    "clean_p2_texts = clean_articles_fast(raw_p2_texts)\n",
    "\n",
    "print(f\"P1 cleaned: {len(clean_p1_texts)}  |  P2 cleaned: {len(clean_p2_texts)}\")\n"
   ],
   "id": "ce693817ee15d3e3",
   "outputs": [
    {
     "name": "stdout",
     "output_type": "stream",
     "text": [
      "P1 cleaned: 7  |  P2 cleaned: 6\n"
     ]
    }
   ],
   "execution_count": 49
  },
  {
   "metadata": {
    "ExecuteTime": {
     "end_time": "2025-05-08T15:29:06.353935Z",
     "start_time": "2025-05-08T15:29:06.345718Z"
    }
   },
   "cell_type": "code",
   "source": "clean_p1_texts",
   "id": "85254c59fb5a30cf",
   "outputs": [
    {
     "data": {
      "text/plain": [
       "[\"Carlos Alcaraz has already overcome the physical discomfort that prevented him from playing in the Mutua Madrid Open. It all happened in the final of the Conde de Godó against Holger Rune, and despite the efforts of the Murcian to play in the Spanish capital, he decided not to take risks and focus on what was to come. After a few rest days at home and several training sessions, the El Palmar native is ready to play at the ATP Rome, as a prelude to his main goal of this clay court tour: Roland Garros.\\n\\nThe current world number three will make an appearance at a tournament in which he has only participated once, in 2023, and fell in the third round against Fabian Marozsan. Additionally, he will coincide at the Foro Italico with Jannik Sinner, who is returning to the circuit after serving his three-month suspension and with whom he could face in a hypothetical final. The Spaniard will start his journey against Dusan Lajovic, a Serbian player whom he has faced four times and defeated on all occasions.\\n\\nThe match between Carlos Alcaraz and Dusan Lajovic, corresponding to the second round of the ATP Rome, will take place this upcoming Friday, May 9th in the second turn on the central court. This means that the match will be no earlier than 13:00 hours, Spanish mainland time. It can be watched live in Spain through Movistar+, either on channel 7, on #Vamos, or on one of its Deportes+ package channels, while in Latin America, it will be broadcasted by ESPN and Disney+. Additionally, Tennis TV will broadcast it worldwide, allowing viewing from any device using its pay-per-view streaming system.\\n\\nYou can also watch the match live for free at the betting house Bet365, thanks to its live streaming service. You just need to register, make a deposit, and you will automatically have the transmission enabled for Carlos Alcaraz's event at the ATP Rome 2025.\",\n",
       " 'Carlos Alcaraz has won four Grand Slam titles and 14 trophies on the ATP Tourâ\\x80\\x94and he keeps them all at his parentsâ\\x80\\x99 place in Murcia, Spain, where he still sleeps on a twin-sized bed. But just because heâ\\x80\\x99s a simple guy doesnâ\\x80\\x99t mean he canâ\\x80\\x99t treat himself, as Alcaraz revealed on a Spanish-only episode of Tennis Channelâ\\x80\\x99s VIP Tennis Lounge with GarbiÃ±e Muguruza. The former world No. 1s chatted about the glitz and glamour of tour life, with Alcaraz telling Muguruza exactly how he plans to spend his next big tennis paycheck. \"Maybe not after every big win, but for example at the Grand Slams, if I reach the semifinals I like to buy myself a new pair of sneakers,\" said Alcaraz.\\n\\nThat might not seem like the biggest splurge when you consider heâ\\x80\\x99s racked up $40 million in career prize money and counting, but as the 22-year-old reminds us: \"There are some types of sneakers that can get veryâ\\x80¦!\" If he keeps winning more big titles, he might soon need a new place to store all of it. As he took viewers around his bedroom on his Netflix docuseries, he revealed that his ever-growing sneaker collection occupies the same bookshelves as his tennis trophiesâ\\x80\\x94and heâ\\x80\\x99s already running out of room. Luckily for Alcaraz, heâ\\x80\\x99s a guy who likes to have options: \"If I feel like I had a good season, at the end of the year Iâ\\x80\\x99ll buy myself a nice watch.\" Viewers in Spain can check out their full conversation in Spanish on Tennis Channel. For viewers in the US, watch VIP Tennis Lounge with GarbiÃ±e Muguruza for unique conversations and fun vibes featuring Nick Kyrgios, Mirra Andreeva, Coco Gauff and more.',\n",
       " 'Carlos Alcaraz is back in action at the Italian Open, following time out due to his adductor injury. Alcaraz suffered the injury in Barcelona, which he received treatment for during his final against Holger Rune, where the Dane emerged victorious. After withdrawing from the Madrid Open, the Spaniard is now healthy enough to compete at the Italian Open in Rome, which he missed last year due to an arm injury. Alcaraz is looking for his third title of the season, having already added to his collection in Rotterdam and Monte-Carlo.\\n\\nBefore his first-round matchup against Dusan Lajovic, the three-time grand slam champion took to the practice courts with world number eight Alex de Minaur. Carlos Alcaraz looked healthy in practice set victory over Alex de Minaur. As reported by Spanish outlet Marca, Alcaraz and de Minaur trained for an hour on Court 6 of the Foro Italico tennis complex, where they played a set after half an hour of rallying. The Spaniard won 6-2, after de Minaur equalised a 2-0 deficit at the start, before losing four consecutive games. It was clear to see that Alcaraz has regained mobility and is looking to be back to his best, despite wearing a black protection sleeve on his right leg. At the end of the practice, Alcaraz greeted Brazilian rising star Joao Fonseca on the way to the locker room. The world number three also played a practice set against Alexander Zverev, which he lost, but is clearly wanting to test himself against the very best, and can’t have too many concerns about the injury.\\n\\nAlcaraz has enjoyed a successful season on the ATP Tour this year, despite the injury setback in Barcelona. After exiting the Australian Open in the quarter-final at the hands of Novak Djokovic, the 22-year-old immediately bounced back in Rotterdam, where he won the title after defeating de Minaur in the final. Alcaraz lost in the Doha quarter-final to Jiri Lehecka, but reached the final four in the first Masters 1000 tournament of the year at Indian Wells, where he ultimately fell to a red-hot Jack Draper. Following a first-round exit in Miami, Alcaraz clinched the biggest title of his season so far, emerging victorious in Monte Carlo, picking up his first Masters 1000 title in 13 months. Having suffered a loss in the Barcelona final while carrying an injury, Alcaraz will now look to win his 19th career title in the Italian capital.',\n",
       " 'Rafael Nadal’s former coach makes something clear about Alcaraz’s ambitions to be the best in history\\nRafael Nadal’s former coach, Carlos Moyá, shared his thoughts on Carlos Alcaraz’s ambitions to become the greatest player in tennis history, highlighting the challenges of his unique approach.\\nWhen many believed no one in Spain could replicate Rafael Nadal’s extraordinary career, Carlos Alcaraz emerged, breaking records and becoming the youngest player in history to achieve the World No. 1 ranking. Now 22, Alcaraz has made it clear that his ultimate goal is to be the best player in tennis history—but on his own terms.\\nAlcaraz’s philosophy has sparked debate, especially following the release of his documentary “Carlos Alcaraz: My Way,” where he spoke candidly about his ambitions and challenges. “I’m paving my way to becoming the best player in history. And I want to do it my way,” Alcaraz said. “Right now, my biggest fear is seeing tennis as an obligation. Sometimes I feel like I’m enslaved to tennis, and that causes anxiety, frustration, and doubts”.\\nAddressing Alcaraz’s comments, Carlos Moyá, a former World No. 1 and Nadal’s longtime coach, acknowledged the young star’s potential to win more Grand Slam titles in the near future. However, he expressed doubts about Alcaraz’s ability to sustain long-term success with his current mindset.\\n“It’s a viable option if you want to win Grand Slams in the short term. In the long term, it’s complicated because tennis is a long-distance race,” Moyá said during an event with Pedro Escudero. “Can he become one of the best in history? I see it as difficult even if he has a normal life. Being a slave to tennis is already very complicated… Although it’s clear that, given his level, he can be”.\\nMoyá further noted that none of the sport’s legends—Nadal, Novak Djokovic, or Roger Federer—achieved their status while living a “normal life.” “Of the three who have achieved it—Nadal, Djokovic, and Federer—none have done it the way Alcaraz envisions. But he’s still a pioneer, and he could make it happen,” Moyá added.\\nHaving coached Nadal from 2017 through his retirement, Moyá emphasized that Rafa never let tennis consume his life entirely but he was still able to reach the top of the sport.\\n“Rafa had a great life outside of tennis—not so much attending events like Formula 1 or motorcycling, but he had a very full life off the court,” Moyá explained. “I know him well, and I know he had his hobbies and enjoyed his free time. Rafa was not a slave to tennis”.',\n",
       " 'Juan Carlos Ferrero’s public criticism of Carlos Alcaraz labelled ‘a risky move’\\nPatrick Mouratoglou has admitted he was “very surprised” by the comments Juan Carlos Ferrero made about Carlos Alcaraz’s commitment to tennis.\\nAlcaraz‘s Netflix documentary series, Carlos Alcaraz: My Way, was released last month, and the Spanish star’s approach to his career was the central theme.\\nThe four-time major champion stressed that he wants to achieve his lofty ambitions without compromising his happiness.\\n“Right now my biggest fear of all is ending up seeing tennis as an obligation,” Alcaraz explained.\\n“Sometimes I feel like I am enslaved to tennis and that causes anxiety, frustration, doubts.”\\nFerrero, who has coached Alcaraz since\\xa0September 2018, also featured in the series.\\nThe former world No 1 made a revealing admission about Alcaraz’s philosophy being at odds with the way his team sees the sport.\\n“His understanding of work and sacrifice is so different from ours,” said Ferrero. “It’s so different that it makes me doubt whether ‘his way’ of doing things will help him become the best in the world.”\\nMouratoglou, a renowned coach who currently works with Naomi Osaka, gave his verdict on Ferrero’s choice to publicly question Alcaraz.\\n“First of all, what Carlos has accomplished at a young age is unbelievable,” the Frenchman said in an Instagram video.\\n“I was very surprised to read that his coach said publicly that he was not committing 100%. It will bring a lot of criticism. It’s really difficult to manage that.\\n“Apparently, the way he deals with pressure is to not commit 100%, which is actually a behaviour that is quite usual for professional athletes. That’s a way to take pressure away.\\n“Is it the right way? For sure not. I would try to solve the problem between him and me. He (Ferrero) probably did try and probably doesn’t work, so probably, he goes to the next level. Ferrero is trying to motivate his player.\\n“Is it the right way? I don’t know. If it works, then bravo. If it hurts the player and hurts the relationship between the two, then I would say it’s not a good job.\\n“So, we will see what are the consequences — the positive one or the negative one, or maybe a bit of both. Let’s see how Carlos received it. Maybe he will have a reaction to that, a positive one. But it’s risky.”\\nAlcaraz will play Yoshihito Nishioka or Dusan Lajovic in his first match at the Italian Open as he seeks his third title of the 2025 season.',\n",
       " \"Carlos Alcaraz\\n2025 Stats\\n2 | 0 | 24-5\\nCareer\\n18 | 0 | 233-61\\nCareer\\n\\nCURRENT TOURNAMENT\\nInternazionali BNL d'Italia- Rome, Italy\\nMay 5, 2025 to May 18, 2025\\nROUND | OPPONENT | RESULT | SCORE\\nMen's Singles\\n1st |  | W | \\n2nd | Dusan Lajovic | - | May 9 7:00 AM ET\\n\\nSTATS\\nYEAR | PRIZE MONEY | SINGLES TITLES | DOUBLES TITLES | SINGLES W-L\\n2025 | $2,700,922 | 2 | 0 | 24-5\\n2024 | $10,358,429 | 4 | 0 | 54-13\\n2023 | $15,196,504 | 6 | 0 | 65-12\\n2022 | $10,102,330 | 5 | 0 | 57-13\\n2021 | $1,632,676 | 1 | 0 | 32-17\\n2020 | $81,932 | 0 | 0 | 1-1\\nCareer | $40,555,898 | 18 | 0 | 233-61\\n\\nCARLOS ALCARAZ NEWS FEED\\nStruggling Djokovic withdraws from Italian Open\\nNo. 5-ranked Novak Djokovic, in the midst of a three-match losing streak, has pulled out of the Italian Open, putting in question how well he'll be able to play at the French Open.\\nAlcaraz out of Madrid, keys on health for French\\nHome-crowd favorite Carlos Alcaraz has withdrawn from the Madrid Open because of muscle injuries, saying he didn't want to risk making things worse ahead of the French Open.\\nAlcaraz awaiting test results, hopes to play Madrid\\nCarlos Alcaraz said Tuesday he is feeling fine but will wait on results from medical tests on his upper right leg to decide whether he will play at the Madrid Open.\\nCarlos Alcaraz falls in Barcelona Open final to Holger Rune\\nCarlos Alcaraz is unable to get his third Barcelona Open trophy as he falls to Holger Rune in straight sets.\\nRune stuns Alcaraz to win Barcelona Open title\\nHolger Rune defeated Carlos Alcaraz in the Barcelona Open final Sunday to lift his first title in two years.\\nAlcaraz, Rune advance to Barcelona Open final\\nTop-seeded Carlos Alcaraz will play Holger Rune for the Barcelona Open title after straight-set semifinals on Saturday.\\nAlcaraz advances to Barcelona semis; Ruud falls\\nTop-seeded Carlos Alcaraz has earned his season-best eighth straight win after beating Alex de Minaur 7-5, 6-3 in the Barcelona Open quarterfinals. Defending champion Casper Ruud was knocked out by Holger Rune 6-4, 6-2.\\nCarlos Alcaraz wins Monte Carlo Masters\\nCarlos Alcaraz puts the finishing touches on his three-set win over Lorenzo Musetti to win the Monte Carlo Masters.\\nAlcaraz shines on clay, claims Monte Carlo title\\nCarlos Alcaraz won his first Monte Carlo title as he played in his third straight clay-court final and gained momentum ahead of next month's French Open.\\nAlcaraz to take on Musetti in Monte Carlo final\\nCarlos Alcaraz needed six match points to put away Spanish compatriot Alejandro Davidovich Fokina 7-6 (2), 6-4 and reach the final of the Monte Carlo Masters.\",\n",
       " \"Carlos Alcaraz's Coach Risks His Harsh Words About Alcaraz Could Backfire\\nCarlos Alcaraz's coach, Juan Carlos Ferrero, made some risky statements that could backfire in the future. Alcaraz is arguably one of the two best tennis players of his generation.\\n\\nCarlos Alcaraz Reveals How He Likes To Spend His Earned Millions\\nCarlos Alcaraz revealed what he enjoys purchasing for himself when he travels to major tournaments, giving insight into his on-court habits. Despite only turning 22 a few days ago, Alcaraz has already established himself as one of the marketable athletes worldwide.\\n\\nCarlos Moya fires back on idea of Rafael Nadal being 'a slave to tennis' as mentioned in Carlos Alcaraz documentary\\nThe newest Netflix documentary focused on Spanish tennis sensation Carlos Alcaraz sparked some controversy, as it was insinuated that retried compatriot Rafael Nadal was 'a slave to tennis'.\\n\\nDaily Dose of Social Media: Birthday twins Carlos Alcaraz and Aryna Sabalenka enjoy Rome celebrations\\nIn a new Daily Dose of Social Media, Carlos Alcaraz and Aryna Sabalenka were the protagonists of the day as they celebrated their birthdays while preparing for the Rome Open.\\n\\n2025 Italian Open Rome ATP Draw With Sinner, Alcaraz, Zverev & More\\nThe draw for the 2025 Italian Open has been released, and it will make Italian fans happy, as Jannik Sinner's name appears in it. The last ATP Masters 1000 tournament on clay will run from May 7th until May 18th, and only for the second time this season, Jannik Sinner's name will be in the draw of a professional tennis tournament.\\n\\n'Don’t judge him harshly,' Boris Becker addresses the comparison between Carlos Alcaraz and Rafael Nadal\\nFor the past few months, there have been focus on the comparison between Carlos Alcaraz amd Rafael Nadal. The duo shares unique resemblance in their style of play and are from the same country.\\n\\nCarlos Alcaraz's possible path to the final of the Rome Open 2025\\nThe draw for the Rome Open 2025 has been confirmed. Carlos Alcaraz will return to the competition after missing the Madrid Open due to injury. The Spaniard won the Monte Carlo Masters, but was unable to play his home ATP 1000.\\n\\nCarlos Alcaraz Makes Decision About 2025 Italian Open After Injury Setback\\nCarlos Alcaraz seemingly made his decision about the 2025 Italian Open in Rome, which is the final Masters 1000 tournament on clay this season. Alcaraz sustained an adductor injury in the 2025 Barcelona Open final against Holger Rune.\\n\\n'Carlos has more natural talent': Boris Becker analyzes the comparisons between Alcaraz and Nadal\\nSix-time Grand Slam champion Boris Becker addressed the comparisons between Carlos Alcaraz and the Big Three, focusing on the comparisons being made with fellow Spaniard Rafael Nadal.\\n\\nCarlos Alcaraz’s ex-coach weighs in on the evolution of the Spaniard since his early years\\nCarlos Alcaraz has become one of the best players of his generation. He has established himself in the ATP elites just five years after making his debut at the 2020 Barcelona Open.\\n\\nCarlos Alcaraz's Former Coach Explains Why Leaving Him Was 'Best Decision Ever'\\nCoaching Carlos Alcaraz would certainly feel like a privilege for many coaches, but one of his former coaches doesn't regret leaving the young Spaniard.\\n\\nCarlos Alcaraz Gives Huge Injury Update Ahead Of Roland Garros\\nCarlos Alcaraz was almost set to miss the final Masters 1000 tournament on clay this season at the Italian Open. The Spaniard recently missed the Madrid Open after enduring a groin injury during the Barcelona Open final against Holger Rune.\\n\\nFrancisco Cerundolo says he doesn’t consider himself 'a slave to tennis' just like Carlos Alcaraz\\nCarlos Alcaraz has had a near-perfect career just in his fifth year in the ATP. The 21-year-old has established himself in the ATP elites since 2022 and has continued to soar in his game.\\n\\nWatch: Carlos Alcaraz returns to the tennis courts to send major update on his Italian Open participation next week\\nCarlos Alcaraz was expected to skip the upcoming Rome Masters after pulling out of the Madrid Open due to injury. He suffered the injury during his loss to Holger Rune in the Barcelona Open final.\\n\\nRoland Garros priority: Carlos Alcaraz may skip Rome Open despite training return\\nCarlos Alcaraz returned to training this week, but his participation in the Rome Open is still uncertain after suffering an injury that forced him to withdraw from the Madrid Open hours before his debut.\\n\\n'There’s much harder work out there': Jack Draper’s reflection after Carlos Alcaraz’s documentary\\nJack Draper achieved a resounding victory against Tommy Paul (6-2, 6-2) and advanced for the fourth time in his career to the quarterfinals of a Masters 1000, although for the first time on clay courts.\\n\\nWatch: Carlos Alcaraz Returns To Practice But With Very Worrying Signs\\nCarlos Alcaraz returned to the tennis courts after taking some time away because of injuries that forced him to miss the Madrid Open. Alcaraz started this clay-court season at the Monte-Carlo Masters, where he won the title before reaching the final in Barcelona.\\n\\nWhy Carlos Alcaraz Is Not Rafael Nadal 2.0\\nSpanish tennis star Carlos Alcaraz is already making gigantic strides in tennis. The 21-year-old has won four Grand Slam titles and six Masters 1000 titles and became the youngest player to finish the season as World No.\\n\\nRafael Nadal convinced Carlos Alcaraz will have ‘one of the best careers’ but warns him about ‘this’\\nCarlos Alcaraz has become a cynosure of all eyes, but along with praises, criticism and pressure, too, has become his daily companion. It’s due to his inconsistent performance.\\n\\n'It doesn't matter if you're number one in the world': Agent Albert Molina shares one incident where Carlos Alcaraz made him 'very angry'\\nSpain’s Carlos Alcaraz’s agent Albert Molina has revealed that he humbled the former world number one because of an interesting reason. The 21-year-old is already regarded as one of the best players currently playing in men’s tennis in the singles category.\\n\\nCoco Gauff declares she’ll ‘never’ copy Carlos Alcaraz’s ‘this’ habit\\nCarlos Alcaraz loves tattoos on his body. He has commemorated all his first Grand Slam victories by getting tattoos. Coco Gauff, however, is not a fan of inking her body.\\n\\nCarlos Alcaraz withdraws in Madrid with right adductor strain\\nCarlos Alcaraz withdrew from the Madrid Open on Thursday because of a groin injury, shifting his focus to taking the court in Rome and then returning to defend his French Open title.\\n\\nCarlos Alcaraz to undergo MRI after injury scare in Barcelona final\\nWorld No. 3 Carlos Alcaraz is set to undergo an MRI after suffering an injury scare in the Barcelona Open final. After a lukewarm start to the season, by his standards, the four-time major champion was really starting to pick up steam over the past few weeks.\\n\\nCarlos Alcaraz's disastrous 2025 continues\\nAlcaraz suffered a shock loss to David Goffin in the opening round of the Miami Open over the weekend, continuing a recent trend of early ousters from big tournaments for the World No. 3.\"]"
      ]
     },
     "execution_count": 50,
     "metadata": {},
     "output_type": "execute_result"
    }
   ],
   "execution_count": 50
  },
  {
   "metadata": {
    "ExecuteTime": {
     "end_time": "2025-05-08T15:29:06.399054Z",
     "start_time": "2025-05-08T15:29:06.388998Z"
    }
   },
   "cell_type": "code",
   "source": "clean_p2_texts",
   "id": "7baa54d7f4af4a71",
   "outputs": [
    {
     "data": {
      "text/plain": [
       "['Jannik Sinner’s doping case has been one of the biggest stories in tennis since shortly before the 2024 U.S. Open. On August 20 2024, the International Tennis Integrity Agency (ITIA) — the worldwide anti-doping agency for the sport — announced that Sinner, the men’s world No. 1, had twice tested positive for clostebol, a banned anabolic steroid, in March of that year.\\n\\nIt also announced that an independent hearing, convened by the ITIA, had found Sinner bore “no fault or negligence” for those positive tests, accepting his explanation that he had been contaminated by a healing spray purchased by his physio, Umberto Ferrara. Sinner’s physiotherapist, Giacomo Naldi, used the spray on a cut on his hand and then subsequently gave Sinner a massage on his back and applied treatments to his feet.\\n\\nSinner parted company with Ferrara and Naldi, part of the team that took him to world No. 1, on the eve of the U.S. Open, which Sinner won against Taylor Fritz.\\n\\nJust over a month after the ITIA decision, the World Anti-Doping Agency (WADA) announced that it would appeal the “no fault or negligence” ruling at the Court of Arbitration for Sport (CAS). WADA, which sits above the ITIA as the worldwide authority in sports doping is seeking “a period of ineligibility of between one and two years,” in which the two-time Grand Slam champion would be banned from playing tennis.\\n\\nA week later, CAS confirmed its receipt of WADA’s appeal.\\n\\nThen, over three months later CAS set April 16 and 17 2025 as the date for the WADA appeal into Sinner’s case.\\n\\nThat appeal was never heard. Sinner and WADA entered into a case resolution agreement, in which he received a three-month ban. The ban ran February 9 to May 4, meaning that he did not miss any of the four Grand Slam tournaments before returning to competitive tennis at his home event: the Italian Open, in Rome.',\n",
       " 'Jannik Sinner has officially returned to the court after serving a three-month suspension resulting from a positive drug test. He’s also officially single.\\n\\nThe top-ranked men’s singles tennis pro clarified his relationship status ahead of the Italian Open this week after an Italian publication shared photos of him spending time with Russian model Lara Leito last month.\\n\\nThe news seemingly confirmed Sinner’s split from fellow tennis pro Anna Kalinskaya.\\n\\n\"I’m very happy to be back here. It has been three very long months,\" Sinner said during a press conference on Tuesday. \"I was glad to share some great moments with my family, with my friends. We were practicing very hard, especially in the gym in the beginning, coming back to the court again.\"\\n\\nOn top of sharing information about his training, Sinner got ahead of reporters to confirm that he is \"single.\"\\n\\n\"I saw there is a lot of attention also kind of off the court, and I was also very surprised to see some pictures which, nothing serious, let’s say like this: I’m not in a relationship, so for whoever is asking, it’s all good.\"\\n\\nSinner and Kalinskaya were linked last year, which he confirmed at the French Open in May 2024, the New York Post reported. The couple shared a kiss a few months later after he won the U.S. Open in September.\\n\\nBut the paparazzi snaps and Sinner’s comments this week have confirmed their split.\\n\\nBack on the court, Sinner expressed joy at returning to tennis after the World Anti-Doping Agency (WADA) suspended him as a result of testing positive for a banned anabolic steroid twice more than a year ago.\\n\\n\"I didn’t want to do it in the beginning, and also it was a bit not easy for me to accept it, because I know what really happened,\" Sinner said. \"But sometimes we have to choose the best in a very bad moment, and that’s what we did. So it’s all over now. So I’m happy to play tennis again.\"\\n\\nSinner, 23, tested positive for low levels of metabolite of clostebol, a banned anabolic steroid that can be used for ophthalmological and dermatological use, in March 2024. Eight days after the Indian Wells tournament, Sinner tested positive again in an out-of-competition sample.\\n\\nAccording to the International Tennis Integrity Agency’s initial findings, Sinner explained that he tested positive after receiving a massage from a trainer who had used an over-the-counter spray that contained clostebol to treat a small wound after cutting his own finger.\\n\\nWhile WADA accepted the no-fault explanation, the organization said the three-month suspension was necessary as \"an athlete bears responsibility for the entourage’s negligence.\"',\n",
       " 'Jannik Sinner is in his singles era. Speaking to reporters Monday after completing a three-month doping ban ahead of the Italian Open, the three-time Grand Slam champion — who was involved with fellow tennis pro Anna Kalinskaya in 2024 — said he is “not in a relationship” after being linked to Russian model Lara Leito in April. “I was very surprised to see some pictures, which, you know, nothing serious … I’m not in a relationship,” Sinner said, as covered by People. “So, whoever is asking, that’s it. It’s all good.”\\n\\nThe comments from Sinner, 23, come after Italian publication Chi Magazine published snaps of the reigning U.S. Open victor with Leito. Chi reported last month that as the Italian athlete trained at the Monte Carlo Country Club, Leito was in the stands. Leito, who boasts more than 350,000 followers on Instagram, previously dated Oscar winner Adrien Brody, according to reports.\\n\\nSinner, currently the top-ranked player in the world, previously confirmed his relationship with Kalinskaya, 26, in May 2024 during the French Open. “I don’t like to talk about my private life much, but yes, Anna and I are dating,” he said at the time. Sinner and Kalinskaya were photographed kissing last September after his U.S. Open triumph against American Taylor Fritz.\\n\\nHe last competed at the Australian Open in January, defeating Germany’s Alexander Zverev in straight sets in the final, to claim back-to-back grand slam titles Down Under. In February, Sinner accepted a three-month ban in a settlement with the World Anti-Doping Agency stemming from two positive doping tests. He said the positive tests resulted from his trainer buying an over-the-counter spray containing Clostebol, which was given to Sinner’s physiotherapist to treat a cut on their finger. The physiotherapist tended to Sinner sans gloves. “I didn’t want to do it in the beginning, and also it was a bit not easy for me to accept it, because I know what really happened,” Sinner said, per ESPN. “But sometimes we have to choose the best in a very bad moment, and that’s what we did. So it’s all over now. So I’m happy to play tennis again.”\\n\\nSinner will compete in the first round of the Italian Open on May 9.',\n",
       " 'ROME (AP)—The conclave to elect a new pope isn\\'t the only international event attracting visitors to Rome this week.\\nThe return of top-ranked Jannik Sinner from a three-month doping ban at the Italian Open tennis tournament just up the road from the Vatican is stirring up so much attention that local headlines are declaring \"Habemus Sinner\"—a variant of the Latin words “Habemus Papam!” that are announced from the balcony of St. Peter\\'s Basilica when a pope is elected.\\nIt will mark the first time that Italy has had a No. 1 player for its home tournament. Every move that Sinner makes is being documented with the same sort of detail reserved for cardinals moving around the Vatican before the conclave starts on Wednesday.\\nThe ban, which was agreed on in a settlement with the World Anti-Doping Agency, expired on Monday morning and Sinner was scheduled to hold an open practice session later on Campo Centrale that is expected to attract a soldout crowd of 10,500 spectators. It will be broadcast live on Italian TV.\\nBefore the practice session, Sinner is to be honored alongside his Davis Cup teammates and the Billie Jean King Cup players after Italy swept both of tennis\\' biggest team titles last year.\\nSinner hasn\\'t played a match since he won his second straight Australian Open title in January.\\nThe settlement in the doping case was made in February, after WADA appealed a decision last year by the International Tennis Integrity Agency to fully exonerate Sinner for what it deemed to be an accidental contamination by a banned anabolic steroid in March, 2024.\\nThe settlement raised questions, since it conveniently allows Sinner to return at his home tournament and not miss any Grand Slams. The Italian Open is the last big clay-court tournament before the French Open — the year\\'s second Grand Slam — starts on May 25.\\nMany fellow pros feel that Sinner was treated too lightly. But there likely won\\'t be much criticism of Sinner in Rome. Especially since his main detractor, Nick Kyrgios, is not competing. Kyrgios hasn\\'t played the Italian Open since he threw a chair onto the red clay in a fit of rage during a 2019 match and was defaulted from the tournament.\\nSinner, who has a first-round bye, will be play his opening match Friday or Saturday. The last Italian man to win the title in Rome was Adriano Panatta in 1976.\\nIt\\'s not just Sinner that the locals are hoping to see. Italian tennis is booming.\\nLorenzo Musetti joined Sinner in the top 10 of the rankings at No. 9 on Monday after reaching the Monte Carlo Masters final and the semifinals of the Madrid Open.\\nRome-born Matteo Berrettini has shown signs of rediscovering the form that took him to the Wimbledon final in 2021. Matteo Arnaldi beat Novak Djokovic in Madrid and 18-year-old Federico Cina has won matches at his first two Masters 1000 events.\\nWith six-time champion Djokovic having withdrawn from Rome and record 10-time champion Rafael Nadal retiring last year, even more attention is being directed to Sinner. Alexander Zverev is the defending champion in Rome and No. 3 Carlos Alcaraz is expected back after withdrawing from Madrid due to muscle injuries.\\nOn the women\\'s side, Jasmine Paolini reached the final of both the French Open and Wimbledon last year, then led Italy to the Billie Jean King Cup trophy.\\nAlso, 17-year-old Tyra Grant, a three-time junior Grand Slam doubles champion, announced that she was switching nationalities from the United States to Italy—the country where she grew up as the daughter of American basketball player Tyrone Grant and Italian mother Cinzia Giovinco, who taught her to play tennis.\\nGrant was given a wild card to play the Italian Open.',\n",
       " \"Jannik Sinner returns to action at the Internazionali BNL d’Italia in Rome not with bold predictions, but with quiet curiosity and a sense of purpose. The 23-year-old Italian is set to compete in his first event since winning the Australian Open in January, after completing a three-month period of ineligibility in a case resolution agreement with WADA. While the anticipation surrounding his return to the capital builds, Sinner, who has never progressed past the quarter-finals at the Italian ATP Masters 1000, is keeping his expectations to a minimum.\\n\\n“It's a very, very low expectation tournament in general, talking results wise,” said Sinner, who faces Mariano Navone or wild card Federico Cina in his opening match. “For me, what's missing is the complete feedback of where my level is. That's going to come slowly with time. After the first round match, I'm going to have a better picture of myself, where I am at.\\n\\n“It's very strange feeling again in the beginning to be around so many people and attention. But it's nice to be back, me and my team are very happy.”\\n\\nDespite his absence from the ATP Tour, Sinner has maintained his spot as the No. 1 player in the PIF ATP Rankings. The Italian, who remains unbeaten in his previous 21 tour-level matches, claims not to have been casting a watchful eye on Tour proceedings as his peers continue to build momentum. Sinner has, however, been keeping tabs on the PIF ATP Live Race To Turin, in which he currently sits at fourth after claiming his third major title at the Australian Open.\\n\\n“To be honest, I was barely looking at any match, especially in the beginning,” Sinner said of his absence. “Of course I saw the results because it's normal, but the tennis itself, I was not watching as much. I started again from Madrid, trying to study and then trying to understand some of the players which are very interesting to see.\\n\\n“For me, what's most important is the Race To Turin, which gives you a better picture of how players [are] in that moment. Now I'm happy in the position I am, but I would be happy even if I'm No. 3 or No. 4 in the world, to be honest, I'm just happy to be back here. I'm happy to play again in front of the fans.”\\n\\nFans in Rome have been forced to wait 24 months for Sinner’s return to the capital after he withdrew from last year’s tournament with a hip injury. The 23-year-old was unsurprisingly greeted with raucous cheers as he passed over the bridge at the Foro Italico on his way to Monday’s press conference. Sinner owns a 9-5 record in Rome, according to the Infosys ATP Win/Loss Index, with his best result coming in his quarter-final run in 2022, when he lost to Stefanos Tsitsipas. Following the draw ceremony, the Italian is seeded to set a quarter-final clash with Casper Ruud, who is fresh from claiming his maiden Masters 1000 trophy in Madrid.\\n\\nThe 19-time tour-level champion, Sinner will look to quickly build some rhythm as he heads into the remainder of the European clay-court swing. “[They have been] very long months, but I was glad to share some great moments with my family, with my friends,” said Sinner. “We were practising very hard, especially in the gym in the beginning, coming back to court again.\\n\\n“It was good, but I could feel that I'm not playing for quite a long time. The body still has to adjust, the blisters in hands… They didn't come again because you're not used to it anymore, but all good, I'm just very happy, very curious to see where I am at.”\\n\\nAfter his media duties, Sinner then offered fans a glimpse of the preparation that has been going on behind the scenes. Met with a chorus of “Ole, Ole, Ole, Sinner” from the buzzing crowd in attendance at Campo Centrale, the home favourite practised with World No. 38 Jiri Lehecka. While there were inevitable signs of rust, including a framed forehand sent into the upper stands during the warmup, Sinner also unleashed his trademark power with a barrage of groundstrokes. Yet Lehecka was able to go toe to toe with Sinner during the practice set, and it was the Czech player who broke first for a 4-3 lead. Nevertheless, the Foro Italico remained in hysteria. “We love you, Jannik,” shouted one Italian teenager, summing up the mood.\\n\\nSinner has cultivated a deep connection with the Italian public over the past two years, notably after becoming the first player from his country to reach No. 1 in the history of the PIF ATP Rankings in June 2024, and leading Italy to consecutive Davis Cup titles in 2023-24.\",\n",
       " 'Jannik Sinner shoots down relationship rumors, talks Rome return\\nROME, Italy—Jannik Sinner arrived to a smattering of applause ahead of a standing room only pre-tournament press conference at the Internazionali BNL d’Italia. The world No. 1 is playing at home for his first tournament since serving a three-month anti-doping ban for two positive tests in 2024, and opened with an apparent eagerness to address a media interest that has only amplified since he was last on court at the Australian Open.\\n\\n“There’s a lot of attention,” said Sinner, who is competing in Rome for the first time since 2023. “Also, off the court, I was surprised to see some pictures, which, nothing serious,” he added with a laugh, referencing paparazzi photos of him and model Laura Leito last month. “I’m not in a relationship!”\\n\\nSinner addressed more serious questions about his time away from the game, having served a ban that wouldn’t prevent him from competing at any major tournaments in 2025.\\n\\n“The body still has to adjust,” said the top seed who, following a first-round bye will play his opening-round match against either Mariano Navone or Italian wild card Federico Cinà. “The blisters on the hands, they’ll come again when you’re not used to it anymore. But all good. I’m just very happy and very curious to see where I’m at.”\\n\\nSinner was initially found to bear No Fault or Negligence by the International Tennis Integrity Association (ITIA) for tests, both in and out of competition dating back to the 2024 BNP Paribas Open, that revealed the presence of banned substance Clostebol. At the time, Sinner and his team successfully argued that the substance came into his system from a massage given by physiotherapist Giacomo Naldi. Naldi had used an anti-septic spray containing the banned substance last March and proceeded to treat Sinner with a bandaged but ungloved hand. Though the ITIA, who provisionally suspended Sinner upon notice of the positive tests, initially declined to hand the now-three-time Grand Slam champion a suspension, the World Anti-Doping Agency (WADA) appealed the decision, leading to the three-month ban that Sinner served in what was described by some as a \"plea deal\".\\n\\n“This kind of agreement, I didn’t want to do it in the beginning,” Sinner admitted on Monday. “It was not easy for me to accept it because I know what really happened, but sometimes we have to choose the best in a very bad moment.”\\n\\nSinner’s suspension not only kept him from competing at the last four Masters 1000 tournaments, he was further prevented from attending any professional sporting events. “I don’t know how many knows this, but for example, to watch a simple match in a football stadium, I couldn’t go watch it,” said Sinner. “I wanted to support my friends in cycling or motorsport; I couldn’t go there. That, for me, was the toughest part. But all things considered, I tried to make the best out of it, being ready mentally for the point when I started to play tennis again. It’s all fine. I’m very glad to have spent that time with my family.”\\n\\nSinner went on to speak of the emotional toll of the last 12 months that culminated in his ban, and his low expectations as he officially begins preparations for Roland Garros, the year’s second major tournament in Paris.\\n\\n“To be honest, I was barely looking at any match, especially at the beginning,” said Sinner. “I wasn’t following Indian Wells and Miami. Of course, I saw the results because it’s normal, but the tennis itself, I was not watching as much. I started again from Madrid, trying to study and trying to understand some of the players which are very interesting to see. I couldn’t control anything. The new players, new generation is coming stronger and stronger. For me, what’s most important is the race to Turin, which gives you a bigger picture of how players play in that moment. I’m happy with the position I’m in, but I would be happy to be No. 3 or No. 4 in the world, to be honest. I’m back here and happy to play again in front of the fans. In what might serve as a warning to the field, Sinner added, “I also have a goal in front of my eyes.”']"
      ]
     },
     "execution_count": 51,
     "metadata": {},
     "output_type": "execute_result"
    }
   ],
   "execution_count": 51
  },
  {
   "metadata": {
    "ExecuteTime": {
     "end_time": "2025-05-08T15:29:06.452157Z",
     "start_time": "2025-05-08T15:29:06.443975Z"
    }
   },
   "cell_type": "code",
   "source": [
    "docs: list[Document] = []\n",
    "seen_urls = set()\n",
    "\n",
    "\n",
    "def _make_docs(clean_texts, raw_articles, player_name, player_id):\n",
    "    for i, (body, raw) in enumerate(zip(clean_texts, raw_articles)):\n",
    "        url = raw.get(\"url\")\n",
    "        if not url or url in seen_urls:\n",
    "            continue                      # skip duplicate\n",
    "        seen_urls.add(url)\n",
    "        docs.append(\n",
    "            Document(\n",
    "                page_content=body,\n",
    "                metadata={\n",
    "                    \"player_name\": player_name,\n",
    "                    \"player_id\": player_id,\n",
    "                    \"url\": raw.get(\"url\"),\n",
    "                    \"uuid\": str(uuid.uuid4())[:8]  # unique key\n",
    "                }\n",
    "            )\n",
    "        )\n",
    "\n",
    "_make_docs(clean_p1_texts, news_p1, p1_name, PLAYER1_ID)\n",
    "_make_docs(clean_p2_texts, news_p2, p2_name, PLAYER2_ID)\n",
    "\n",
    "print(f\"Total docs to store: {len(docs)}\")"
   ],
   "id": "a4b78ff0917e7500",
   "outputs": [
    {
     "name": "stdout",
     "output_type": "stream",
     "text": [
      "Total docs to store: 13\n"
     ]
    }
   ],
   "execution_count": 52
  },
  {
   "metadata": {
    "ExecuteTime": {
     "end_time": "2025-05-08T15:29:09.417302Z",
     "start_time": "2025-05-08T15:29:06.515531Z"
    }
   },
   "cell_type": "code",
   "source": [
    "persist_dir = \"chroma_store\"\n",
    "embeddings = OpenAIEmbeddings(model=\"text-embedding-3-small\")\n",
    "\n",
    "vectordb = Chroma.from_documents(\n",
    "    documents        = docs,\n",
    "    embedding        = embeddings,\n",
    "    persist_directory= persist_dir\n",
    ")\n",
    "print(\"Vector DB saved to\", pathlib.Path(persist_dir).resolve())\n"
   ],
   "id": "11ff02a9d5723bb0",
   "outputs": [
    {
     "name": "stdout",
     "output_type": "stream",
     "text": [
      "Vector DB saved to C:\\Users\\iosif\\PycharmProjects\\TennisCenter\\LLMs\\chroma_store\n"
     ]
    }
   ],
   "execution_count": 53
  },
  {
   "metadata": {},
   "cell_type": "code",
   "source": [
    "ruud_docs = vectordb.similarity_search(\n",
    "    query   = \"Rome\",\n",
    "    k       = 3,\n",
    "    filter  = {\"player_name\": p1_name}   # filter by metadata\n",
    ")\n",
    "for d in ruud_docs:\n",
    "    print(\"-\" * 60)\n",
    "    print(\"URL:\", d.metadata[\"url\"])\n",
    "    print(d.page_content)"
   ],
   "id": "721a40e3438398fe",
   "outputs": [],
   "execution_count": null
  },
  {
   "metadata": {
    "ExecuteTime": {
     "end_time": "2025-05-08T16:28:32.461589Z",
     "start_time": "2025-05-08T16:28:32.451283Z"
    }
   },
   "cell_type": "code",
   "source": [
    "def head2head_summary(df: pd.DataFrame, p1: str, p2: str) -> str:\n",
    "    if df.empty:\n",
    "        return \"These players have never met on tour.\"\n",
    "\n",
    "    # Count wins, regardless of who is p1/p2 in each row\n",
    "    wins = {p1: 0, p2: 0}\n",
    "    for _, r in df.iterrows():\n",
    "        # RESULT == 1 if p1_name won; RESULT == 0 if p2_name won\n",
    "        winner = r[\"p1_name\"] if r[\"RESULT\"] == 1 else r[\"p2_name\"]\n",
    "        if winner == p1:\n",
    "            wins[p1] += 1\n",
    "        elif winner == p2:\n",
    "            wins[p2] += 1\n",
    "\n",
    "    # Last 3 meetings\n",
    "    last3 = df.sort_values(\"tourney_date\", ascending=False).head(3)\n",
    "    lines = []\n",
    "    for _, r in last3.iterrows():\n",
    "        if r[\"RESULT\"] == 1:\n",
    "            winner, loser = r[\"p1_name\"], r[\"p2_name\"]\n",
    "        else:\n",
    "            winner, loser = r[\"p2_name\"], r[\"p1_name\"]\n",
    "        lines.append(\n",
    "            f\"{r['tourney_date']} | {r['surface']} | {r['tourney_name']} | \"\n",
    "            f\"{r['round']} | {winner} d. {loser} {r['score']}\"\n",
    "        )\n",
    "\n",
    "    return (\n",
    "        f\"Total meetings: {len(df)}  —  {p1} {wins[p1]}W vs {p2} {wins[p2]}W\\n\"\n",
    "        \"Last 3 meetings:\\n\" + \"\\n\".join(lines)\n",
    "    )\n",
    "\n",
    "h2h_summary = head2head_summary(matches_df, p1_name, p2_name)\n",
    "print(\"Head-to-Head Summary:\\n\", h2h_summary)\n"
   ],
   "id": "53e4a60151842f38",
   "outputs": [
    {
     "name": "stdout",
     "output_type": "stream",
     "text": [
      "Head-to-Head Summary:\n",
      " Total meetings: 10  —  Carlos Alcaraz 6W vs Jannik Sinner 4W\n",
      "Last 3 meetings:\n",
      "20240926 | Hard | Beijing | F | Carlos Alcaraz d. Jannik Sinner 6-7(6) 6-4 7-6(3)\n",
      "20240527 | Clay | Roland Garros | SF | Carlos Alcaraz d. Jannik Sinner 2-6 6-3 3-6 6-4 6-3\n",
      "20240304 | Hard | Indian Wells Masters | SF | Carlos Alcaraz d. Jannik Sinner 1-6 6-3 6-2\n"
     ]
    }
   ],
   "execution_count": 68
  },
  {
   "metadata": {
    "ExecuteTime": {
     "end_time": "2025-05-08T16:28:42.112608Z",
     "start_time": "2025-05-08T16:28:42.103284Z"
    }
   },
   "cell_type": "code",
   "source": [
    "def head2head_surface_summary(df: pd.DataFrame, p1: str, p2: str, surface: str) -> str:\n",
    "    sf = df[df[\"surface\"].str.lower() == surface.lower()]\n",
    "    if sf.empty:\n",
    "        return f\"No prior meetings on {surface}.\"\n",
    "\n",
    "    wins = {p1: 0, p2: 0}\n",
    "    for _, r in sf.iterrows():\n",
    "        winner = r[\"p1_name\"] if r[\"RESULT\"] == 1 else r[\"p2_name\"]\n",
    "        if winner == p1:\n",
    "            wins[p1] += 1\n",
    "        elif winner == p2:\n",
    "            wins[p2] += 1\n",
    "\n",
    "    last3 = sf.sort_values(\"tourney_date\", ascending=False).head(3)\n",
    "    lines = []\n",
    "    for _, r in last3.iterrows():\n",
    "        if r[\"RESULT\"] == 1:\n",
    "            winner, loser = r[\"p1_name\"], r[\"p2_name\"]\n",
    "        else:\n",
    "            winner, loser = r[\"p2_name\"], r[\"p1_name\"]\n",
    "        lines.append(\n",
    "            f\"{r['tourney_date']} | {r['tourney_name']} | {r['round']} | \"\n",
    "            f\"{winner} d. {loser} {r['score']}\"\n",
    "        )\n",
    "\n",
    "    return (\n",
    "        f\"{surface} meetings: {len(sf)}  —  {p1} {wins[p1]}W vs {p2} {wins[p2]}W\\n\"\n",
    "        \"Last on surface:\\n\" + \"\\n\".join(lines)\n",
    "    )\n",
    "\n",
    "h2h_surface_summary = head2head_surface_summary(matches_df, p1_name, p2_name, SURFACE)\n",
    "print(\"Surface-Specific Head-to-Head:\\n\", h2h_surface_summary)\n"
   ],
   "id": "f011f755900edddb",
   "outputs": [
    {
     "name": "stdout",
     "output_type": "stream",
     "text": [
      "Surface-Specific Head-to-Head:\n",
      " Clay meetings: 2  —  Carlos Alcaraz 1W vs Jannik Sinner 1W\n",
      "Last on surface:\n",
      "20240527 | Roland Garros | SF | Carlos Alcaraz d. Jannik Sinner 2-6 6-3 3-6 6-4 6-3\n",
      "20220725 | Umag | F | Jannik Sinner d. Carlos Alcaraz 6-7(5) 6-1 6-1\n"
     ]
    }
   ],
   "execution_count": 69
  },
  {
   "metadata": {
    "ExecuteTime": {
     "end_time": "2025-05-08T15:54:55.490758Z",
     "start_time": "2025-05-08T15:54:53.854633Z"
    }
   },
   "cell_type": "code",
   "source": [
    "def gather_news_snippets(vdb, player_name: str, k: int = 3) -> str:\n",
    "    docs = vdb.similarity_search(\n",
    "        query=\"recent form and news\",\n",
    "        k=k,\n",
    "        filter={\"player_name\": player_name}\n",
    "    )\n",
    "    if not docs:\n",
    "        return \"No recent news snippets found.\"\n",
    "    snippets = []\n",
    "    for d in docs:\n",
    "        # shorten to 500 chars \n",
    "        snippets.append(textwrap.shorten(d.page_content, width=500, placeholder=\"…\"))\n",
    "    return \"\\n\\n\".join(snippets)\n",
    "\n",
    "news_p1_snip = gather_news_snippets(vectordb, p1_name, k=3)\n",
    "news_p2_snip = gather_news_snippets(vectordb, p2_name, k=3)\n",
    "\n",
    "print(f\"Snippets for {p1_name}:\\n\", news_p1_snip, \"\\n\\n\")\n",
    "print(f\"Snippets for {p2_name}:\\n\", news_p2_snip)\n"
   ],
   "id": "51674096a3f930fe",
   "outputs": [
    {
     "name": "stdout",
     "output_type": "stream",
     "text": [
      "Snippets for Carlos Alcaraz:\n",
      " Carlos Alcaraz 2025 Stats 2 | 0 | 24-5 Career 18 | 0 | 233-61 Career CURRENT TOURNAMENT Internazionali BNL d'Italia- Rome, Italy May 5, 2025 to May 18, 2025 ROUND | OPPONENT | RESULT | SCORE Men's Singles 1st | | W | 2nd | Dusan Lajovic | - | May 9 7:00 AM ET STATS YEAR | PRIZE MONEY | SINGLES TITLES | DOUBLES TITLES | SINGLES W-L 2025 | $2,700,922 | 2 | 0 | 24-5 2024 | $10,358,429 | 4 | 0 | 54-13 2023 | $15,196,504 | 6 | 0 | 65-12 2022 | $10,102,330 | 5 | 0 | 57-13 2021 | $1,632,676 | 1 | 0 |…\n",
      "\n",
      "Carlos Alcaraz is back in action at the Italian Open, following time out due to his adductor injury. Alcaraz suffered the injury in Barcelona, which he received treatment for during his final against Holger Rune, where the Dane emerged victorious. After withdrawing from the Madrid Open, the Spaniard is now healthy enough to compete at the Italian Open in Rome, which he missed last year due to an arm injury. Alcaraz is looking for his third title of the season, having already added to his…\n",
      "\n",
      "Carlos Alcaraz has already overcome the physical discomfort that prevented him from playing in the Mutua Madrid Open. It all happened in the final of the Conde de Godó against Holger Rune, and despite the efforts of the Murcian to play in the Spanish capital, he decided not to take risks and focus on what was to come. After a few rest days at home and several training sessions, the El Palmar native is ready to play at the ATP Rome, as a prelude to his main goal of this clay court tour: Roland… \n",
      "\n",
      "\n",
      "Snippets for Jannik Sinner:\n",
      " Jannik Sinner has officially returned to the court after serving a three-month suspension resulting from a positive drug test. He’s also officially single. The top-ranked men’s singles tennis pro clarified his relationship status ahead of the Italian Open this week after an Italian publication shared photos of him spending time with Russian model Lara Leito last month. The news seemingly confirmed Sinner’s split from fellow tennis pro Anna Kalinskaya. \"I’m very happy to be back here. It has…\n",
      "\n",
      "Jannik Sinner is in his singles era. Speaking to reporters Monday after completing a three-month doping ban ahead of the Italian Open, the three-time Grand Slam champion — who was involved with fellow tennis pro Anna Kalinskaya in 2024 — said he is “not in a relationship” after being linked to Russian model Lara Leito in April. “I was very surprised to see some pictures, which, you know, nothing serious … I’m not in a relationship,” Sinner said, as covered by People. “So, whoever is asking,…\n",
      "\n",
      "ROME (AP)—The conclave to elect a new pope isn't the only international event attracting visitors to Rome this week. The return of top-ranked Jannik Sinner from a three-month doping ban at the Italian Open tennis tournament just up the road from the Vatican is stirring up so much attention that local headlines are declaring \"Habemus Sinner\"—a variant of the Latin words “Habemus Papam!” that are announced from the balcony of St. Peter's Basilica when a pope is elected. It will mark the first…\n"
     ]
    }
   ],
   "execution_count": 59
  },
  {
   "metadata": {
    "ExecuteTime": {
     "end_time": "2025-05-08T16:29:29.126352Z",
     "start_time": "2025-05-08T16:29:20.335186Z"
    }
   },
   "cell_type": "code",
   "source": [
    "llm = ChatOpenAI(\n",
    "    model_name=\"gpt-4o-mini\",\n",
    "    temperature=0.2)\n",
    "\n",
    "prompt = PromptTemplate(\n",
    "    input_variables=[\n",
    "        \"p1_name\", \"p2_name\", \"prediction\",\n",
    "        \"h2h\", \"h2h_surface\", \"surface\",\n",
    "        \"news_p1\", \"news_p2\"\n",
    "    ],\n",
    "    template=\"\"\"\n",
    "You are a professional tennis analyst AI. Using the data below, provide:\n",
    "\n",
    "1. A concise narrative of each player’s recent form.\n",
    "2. Key tactical factors likely to decide the match.\n",
    "3. Your own predicted winner and confidence (0–100%).\n",
    "4. A brief rationale (2–3 sentences).\n",
    "\n",
    "Model prediction:\n",
    "{prediction}\n",
    "\n",
    "Head-to-Head (All surfaces):\n",
    "{h2h}\n",
    "\n",
    "Head-to-Head on {surface}:\n",
    "{h2h_surface}\n",
    "\n",
    "Recent news about {p1_name}:\n",
    "{news_p1}\n",
    "\n",
    "Recent news about {p2_name}:\n",
    "{news_p2}\n",
    "\n",
    "Respond as an expert analyst, not the model itself.\n",
    "\"\"\"\n",
    ")\n",
    "\n",
    "analysis_chain = LLMChain(llm=llm, prompt=prompt)\n",
    "\n",
    "analysis = analysis_chain.invoke({\n",
    "    \"p1_name\":     p1_name,\n",
    "    \"p2_name\":     p2_name,\n",
    "    \"prediction\":  prediction_str,\n",
    "    \"h2h\":         h2h_summary,\n",
    "    \"h2h_surface\": h2h_surface_summary,\n",
    "    \"surface\":     SURFACE,\n",
    "    \"news_p1\":     news_p1_snip,\n",
    "    \"news_p2\":     news_p2_snip\n",
    "})\n",
    "\n",
    "print(\"Analyst Insight:\\n\", analysis if isinstance(analysis, str) else analysis[\"text\"])"
   ],
   "id": "d969de252eeebb21",
   "outputs": [
    {
     "name": "stdout",
     "output_type": "stream",
     "text": [
      "Analyst Insight:\n",
      " ### 1. Recent Form Narrative\n",
      "\n",
      "**Carlos Alcaraz:**  \n",
      "Carlos Alcaraz has recently returned to competitive tennis after recovering from an adductor injury that sidelined him for the Madrid Open. Prior to his injury, he was performing well, with a solid record of 24 wins and 5 losses in 2025, including two titles. His recent matches show resilience, particularly in his last encounter against Jannik Sinner at the Beijing final, where he triumphed in a closely contested match. Alcaraz's ability to bounce back from injury and his determination to reclaim his top form make him a formidable opponent.\n",
      "\n",
      "**Jannik Sinner:**  \n",
      "Jannik Sinner has just made his return to the tour after a three-month suspension due to a positive drug test. His absence from the circuit raises questions about his match fitness and mental readiness. Despite being a three-time Grand Slam champion, the break could impact his rhythm and confidence. Sinner's recent comments indicate a focus on his game rather than personal distractions, but the lack of competitive play may hinder his performance against a seasoned player like Alcaraz.\n",
      "\n",
      "### 2. Key Tactical Factors\n",
      "\n",
      "- **Baseline Play:** Both players excel at baseline rallies, but Alcaraz's ability to change direction and hit powerful forehands could give him an edge. Sinner will need to counter this with his own aggressive baseline game and effective shot placement.\n",
      "  \n",
      "- **Serve and Return:** Alcaraz's serve has been a significant weapon, especially on clay. Sinner must focus on returning effectively to neutralize Alcaraz's serve and create opportunities to attack. Conversely, Alcaraz will aim to capitalize on Sinner's potential rustiness in returning serves.\n",
      "\n",
      "- **Mental Resilience:** Given Sinner's recent absence from the tour, mental fortitude will be crucial. Alcaraz's experience in high-pressure situations may play a pivotal role, especially in tight moments during the match.\n",
      "\n",
      "### 3. Predicted Winner and Confidence\n",
      "\n",
      "**Predicted Winner:** Carlos Alcaraz  \n",
      "**Confidence Level:** 65%\n",
      "\n",
      "### 4. Rationale\n",
      "\n",
      "Carlos Alcaraz's recent form, coupled with his successful track record against Sinner, gives him a slight advantage heading into this match. While Sinner's talent is undeniable, the uncertainty surrounding his fitness and mental state after a long break could hinder his performance. Alcaraz's resilience and experience in crucial moments make him the favorite to win this encounter.\n"
     ]
    }
   ],
   "execution_count": 70
  }
 ],
 "metadata": {
  "kernelspec": {
   "name": "python3",
   "language": "python",
   "display_name": "Python 3 (ipykernel)"
  }
 },
 "nbformat": 4,
 "nbformat_minor": 5
}
