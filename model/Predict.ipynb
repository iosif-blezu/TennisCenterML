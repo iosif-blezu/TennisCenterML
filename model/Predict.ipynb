{
 "cells": [
  {
   "cell_type": "code",
   "id": "initial_id",
   "metadata": {
    "collapsed": true,
    "ExecuteTime": {
     "end_time": "2025-04-30T11:15:23.546133Z",
     "start_time": "2025-04-30T11:15:23.289467Z"
    }
   },
   "source": [
    "import numpy as np\n",
    "import pandas as pd\n",
    "from tqdm import tqdm\n",
    "from sklearn.preprocessing import StandardScaler\n",
    "from sklearn.tree import DecisionTreeClassifier\n",
    "from sklearn.ensemble import RandomForestClassifier\n",
    "from sklearn.model_selection import train_test_split\n",
    "from sklearn.tree import plot_tree\n",
    "from sklearn import tree\n",
    "from xgboost import XGBClassifier\n",
    "from sklearn.model_selection import GridSearchCV\n",
    "from sklearn.metrics import accuracy_score\n",
    "from utils.updateStats import getStats, updateStats, createStats\n",
    "pd.set_option('display.max_columns', None)"
   ],
   "outputs": [],
   "execution_count": 1
  },
  {
   "metadata": {
    "ExecuteTime": {
     "end_time": "2025-04-30T11:39:57.652160Z",
     "start_time": "2025-04-30T11:39:48.822117Z"
    }
   },
   "cell_type": "code",
   "source": [
    "clean_data = pd.read_csv(\"../data/cleanedDataset.csv\")\n",
    "previous_stats = createStats()\n",
    "\n",
    "# Iterate through each row in clean_data\n",
    "for index, row in tqdm(clean_data.iterrows(), total=len(clean_data)):\n",
    "    # update stats\n",
    "    previous_stats = updateStats(row, previous_stats)"
   ],
   "id": "7bcdd90486e08234",
   "outputs": [
    {
     "name": "stderr",
     "output_type": "stream",
     "text": [
      "100%|██████████| 95375/95375 [00:08<00:00, 11585.08it/s]\n"
     ]
    }
   ],
   "execution_count": 17
  },
  {
   "metadata": {
    "ExecuteTime": {
     "end_time": "2025-04-30T11:48:31.066042Z",
     "start_time": "2025-04-30T11:48:31.047768Z"
    }
   },
   "cell_type": "code",
   "source": [
    "# Load the model from models\n",
    "xgb_model = XGBClassifier()\n",
    "xgb_model.load_model(\"../models/xgb_model.json\")\n",
    "\n",
    "# I define this here to make the results more easy to interpret\n",
    "mapper = np.vectorize(lambda x: \"Player 2 Wins\" if x == 0 else \"Player 1 Wins\")"
   ],
   "id": "3b2dc67231a5b04",
   "outputs": [],
   "execution_count": 30
  },
  {
   "metadata": {
    "ExecuteTime": {
     "end_time": "2025-04-30T11:48:32.849807Z",
     "start_time": "2025-04-30T11:48:32.841753Z"
    }
   },
   "cell_type": "code",
   "source": [
    "player1 = {\n",
    "    \"Name\": \"Jannik Sinner\",                    # name, not necessary\n",
    "    \"ID\": 206173,                               # ID\n",
    "    \"ATP_POINTS\": 9730,                         # ATP points\n",
    "    \"ATP_RANK\": 1,                              # ATP rank\n",
    "    \"AGE\": 23,                                  # age \n",
    "    \"HEIGHT\": 191,                              # height\n",
    "}\n",
    "\n",
    "player2 = {\n",
    "    \"Name\": \"Carlos Alcaraz\",\n",
    "    \"ID\": 207989,\n",
    "    \"ATP_POINTS\": 7850,\n",
    "    \"ATP_RANK\": 3,\n",
    "    \"AGE\": 21,\n",
    "    \"HEIGHT\": 183,\n",
    "}\n",
    "\n",
    "match = {\n",
    "    \"BEST_OF\": 5,                               # 3 or 5 (grand slams)\n",
    "    \"DRAW_SIZE\": 128,                           \n",
    "    \"SURFACE\": \"Hard\",                          # Surface of the match. Options are (Hard, Clay, Grass, Carpet)\n",
    "}\n",
    "\n",
    "# Call getStatsPlayers function\n",
    "output = getStats(player1, player2, match, previous_stats)\n",
    "\n",
    "match_data = pd.DataFrame([dict(sorted(output.items()))])\n",
    "mapper(xgb_model.predict(np.array(match_data, dtype=object)))"
   ],
   "id": "30d432db7229399f",
   "outputs": [
    {
     "data": {
      "text/plain": [
       "array(['Player 1 Wins'], dtype='<U13')"
      ]
     },
     "execution_count": 31,
     "metadata": {},
     "output_type": "execute_result"
    }
   ],
   "execution_count": 31
  },
  {
   "metadata": {
    "ExecuteTime": {
     "end_time": "2025-04-30T11:48:36.207105Z",
     "start_time": "2025-04-30T11:48:36.185526Z"
    }
   },
   "cell_type": "code",
   "source": [
    "player1 = {\n",
    "    \"Name\": \"Fritz\",                            # name, not necessary\n",
    "    \"ID\": 126203,                               # ID\n",
    "    \"ATP_POINTS\": 4815,                         # ATP points\n",
    "    \"ATP_RANK\": 4,                              # ATP rank\n",
    "    \"AGE\": 28,                                  # age \n",
    "    \"HEIGHT\": 196,                              # height\n",
    "}\n",
    "\n",
    "player2 = {\n",
    "    \"Name\": \"Ruud\",\n",
    "    \"ID\": 134770,\n",
    "    \"ATP_POINTS\": 2915,\n",
    "    \"ATP_RANK\": 14,\n",
    "    \"AGE\": 27,\n",
    "    \"HEIGHT\": 183,\n",
    "}\n",
    "\n",
    "match = {\n",
    "    \"BEST_OF\": 3,                               # 3 or 5 (grand slams)\n",
    "    \"DRAW_SIZE\": 128,                           \n",
    "    \"SURFACE\": \"Clay\",                          # Surface of the match. Options are (Hard, Clay, Grass, Carpet)\n",
    "}\n",
    "\n",
    "# Call getStatsPlayers function\n",
    "output = getStats(player1, player2, match, previous_stats)\n",
    "\n",
    "match_data = pd.DataFrame([dict(sorted(output.items()))])\n",
    "mapper(xgb_model.predict(np.array(match_data, dtype=object)))"
   ],
   "id": "3f61e4b3eef8d0b",
   "outputs": [
    {
     "data": {
      "text/plain": [
       "array(['Player 2 Wins'], dtype='<U13')"
      ]
     },
     "execution_count": 32,
     "metadata": {},
     "output_type": "execute_result"
    }
   ],
   "execution_count": 32
  },
  {
   "metadata": {
    "ExecuteTime": {
     "end_time": "2025-04-30T11:48:38.346320Z",
     "start_time": "2025-04-30T11:48:38.331353Z"
    }
   },
   "cell_type": "code",
   "source": "match_data",
   "id": "b36883ca31688c6d",
   "outputs": [
    {
     "data": {
      "text/plain": [
       "   AGE_DIFF  ATP_POINTS_DIFF  ATP_RANK_DIFF  BEST_OF  DRAW_SIZE    ELO_DIFF  \\\n",
       "0         1             1900            -10        3        128  152.524575   \n",
       "\n",
       "   ELO_GRAD_LAST_100_DIFF  ELO_GRAD_LAST_10_DIFF  ELO_GRAD_LAST_200_DIFF  \\\n",
       "0                0.000804              -0.042424                 0.00052   \n",
       "\n",
       "   ELO_GRAD_LAST_25_DIFF  ELO_GRAD_LAST_3_DIFF  ELO_GRAD_LAST_50_DIFF  \\\n",
       "0               0.005385                   0.0               0.011477   \n",
       "\n",
       "   ELO_GRAD_LAST_5_DIFF  ELO_SURFACE_DIFF  H2H_DIFF  H2H_SURFACE_DIFF  \\\n",
       "0                  -0.1       -119.995234        -1                -1   \n",
       "\n",
       "   HEIGHT_DIFF  N_GAMES_DIFF  P_1ST_IN_LAST_100_DIFF  P_1ST_IN_LAST_10_DIFF  \\\n",
       "0           13            81               -2.954803              -2.953234   \n",
       "\n",
       "   P_1ST_IN_LAST_200_DIFF  P_1ST_IN_LAST_25_DIFF  P_1ST_IN_LAST_3_DIFF  \\\n",
       "0               -3.496765              -4.302408             -10.89653   \n",
       "\n",
       "   P_1ST_IN_LAST_50_DIFF  P_1ST_IN_LAST_5_DIFF  P_1ST_WON_LAST_100_DIFF  \\\n",
       "0              -2.890145             -8.223294                 6.476002   \n",
       "\n",
       "   P_1ST_WON_LAST_10_DIFF  P_1ST_WON_LAST_200_DIFF  P_1ST_WON_LAST_25_DIFF  \\\n",
       "0                4.654115                 5.357632                5.571129   \n",
       "\n",
       "   P_1ST_WON_LAST_3_DIFF  P_1ST_WON_LAST_50_DIFF  P_1ST_WON_LAST_5_DIFF  \\\n",
       "0               2.546896                7.958218               6.923672   \n",
       "\n",
       "   P_2ND_WON_LAST_100_DIFF  P_2ND_WON_LAST_10_DIFF  P_2ND_WON_LAST_200_DIFF  \\\n",
       "0                  2.13115               -2.187207                 0.270346   \n",
       "\n",
       "   P_2ND_WON_LAST_25_DIFF  P_2ND_WON_LAST_3_DIFF  P_2ND_WON_LAST_50_DIFF  \\\n",
       "0                1.109648                0.31746                1.091473   \n",
       "\n",
       "   P_2ND_WON_LAST_5_DIFF  P_ACE_LAST_100_DIFF  P_ACE_LAST_10_DIFF  \\\n",
       "0                1.56074             6.716255            3.484558   \n",
       "\n",
       "   P_ACE_LAST_200_DIFF  P_ACE_LAST_25_DIFF  P_ACE_LAST_3_DIFF  \\\n",
       "0              5.78068            4.073385           2.616184   \n",
       "\n",
       "   P_ACE_LAST_50_DIFF  P_ACE_LAST_5_DIFF  P_BP_SAVED_LAST_100_DIFF  \\\n",
       "0            7.069818           5.276409                   7.23054   \n",
       "\n",
       "   P_BP_SAVED_LAST_10_DIFF  P_BP_SAVED_LAST_200_DIFF  P_BP_SAVED_LAST_25_DIFF  \\\n",
       "0                28.785714                  5.540188                21.949533   \n",
       "\n",
       "   P_BP_SAVED_LAST_3_DIFF  P_BP_SAVED_LAST_50_DIFF  P_BP_SAVED_LAST_5_DIFF  \\\n",
       "0               19.444444                19.476543               24.428571   \n",
       "\n",
       "   P_DF_LAST_100_DIFF  P_DF_LAST_10_DIFF  P_DF_LAST_200_DIFF  \\\n",
       "0           -0.322109          -0.932926           -0.137076   \n",
       "\n",
       "   P_DF_LAST_25_DIFF  P_DF_LAST_3_DIFF  P_DF_LAST_50_DIFF  P_DF_LAST_5_DIFF  \\\n",
       "0          -0.256273          2.173708          -0.191981          1.304225   \n",
       "\n",
       "   WIN_LAST_100_DIFF  WIN_LAST_10_DIFF  WIN_LAST_200_DIFF  WIN_LAST_25_DIFF  \\\n",
       "0                  6                 3                  7                 6   \n",
       "\n",
       "   WIN_LAST_3_DIFF  WIN_LAST_50_DIFF  WIN_LAST_5_DIFF  \n",
       "0                0                 3                1  "
      ],
      "text/html": [
       "<div>\n",
       "<style scoped>\n",
       "    .dataframe tbody tr th:only-of-type {\n",
       "        vertical-align: middle;\n",
       "    }\n",
       "\n",
       "    .dataframe tbody tr th {\n",
       "        vertical-align: top;\n",
       "    }\n",
       "\n",
       "    .dataframe thead th {\n",
       "        text-align: right;\n",
       "    }\n",
       "</style>\n",
       "<table border=\"1\" class=\"dataframe\">\n",
       "  <thead>\n",
       "    <tr style=\"text-align: right;\">\n",
       "      <th></th>\n",
       "      <th>AGE_DIFF</th>\n",
       "      <th>ATP_POINTS_DIFF</th>\n",
       "      <th>ATP_RANK_DIFF</th>\n",
       "      <th>BEST_OF</th>\n",
       "      <th>DRAW_SIZE</th>\n",
       "      <th>ELO_DIFF</th>\n",
       "      <th>ELO_GRAD_LAST_100_DIFF</th>\n",
       "      <th>ELO_GRAD_LAST_10_DIFF</th>\n",
       "      <th>ELO_GRAD_LAST_200_DIFF</th>\n",
       "      <th>ELO_GRAD_LAST_25_DIFF</th>\n",
       "      <th>ELO_GRAD_LAST_3_DIFF</th>\n",
       "      <th>ELO_GRAD_LAST_50_DIFF</th>\n",
       "      <th>ELO_GRAD_LAST_5_DIFF</th>\n",
       "      <th>ELO_SURFACE_DIFF</th>\n",
       "      <th>H2H_DIFF</th>\n",
       "      <th>H2H_SURFACE_DIFF</th>\n",
       "      <th>HEIGHT_DIFF</th>\n",
       "      <th>N_GAMES_DIFF</th>\n",
       "      <th>P_1ST_IN_LAST_100_DIFF</th>\n",
       "      <th>P_1ST_IN_LAST_10_DIFF</th>\n",
       "      <th>P_1ST_IN_LAST_200_DIFF</th>\n",
       "      <th>P_1ST_IN_LAST_25_DIFF</th>\n",
       "      <th>P_1ST_IN_LAST_3_DIFF</th>\n",
       "      <th>P_1ST_IN_LAST_50_DIFF</th>\n",
       "      <th>P_1ST_IN_LAST_5_DIFF</th>\n",
       "      <th>P_1ST_WON_LAST_100_DIFF</th>\n",
       "      <th>P_1ST_WON_LAST_10_DIFF</th>\n",
       "      <th>P_1ST_WON_LAST_200_DIFF</th>\n",
       "      <th>P_1ST_WON_LAST_25_DIFF</th>\n",
       "      <th>P_1ST_WON_LAST_3_DIFF</th>\n",
       "      <th>P_1ST_WON_LAST_50_DIFF</th>\n",
       "      <th>P_1ST_WON_LAST_5_DIFF</th>\n",
       "      <th>P_2ND_WON_LAST_100_DIFF</th>\n",
       "      <th>P_2ND_WON_LAST_10_DIFF</th>\n",
       "      <th>P_2ND_WON_LAST_200_DIFF</th>\n",
       "      <th>P_2ND_WON_LAST_25_DIFF</th>\n",
       "      <th>P_2ND_WON_LAST_3_DIFF</th>\n",
       "      <th>P_2ND_WON_LAST_50_DIFF</th>\n",
       "      <th>P_2ND_WON_LAST_5_DIFF</th>\n",
       "      <th>P_ACE_LAST_100_DIFF</th>\n",
       "      <th>P_ACE_LAST_10_DIFF</th>\n",
       "      <th>P_ACE_LAST_200_DIFF</th>\n",
       "      <th>P_ACE_LAST_25_DIFF</th>\n",
       "      <th>P_ACE_LAST_3_DIFF</th>\n",
       "      <th>P_ACE_LAST_50_DIFF</th>\n",
       "      <th>P_ACE_LAST_5_DIFF</th>\n",
       "      <th>P_BP_SAVED_LAST_100_DIFF</th>\n",
       "      <th>P_BP_SAVED_LAST_10_DIFF</th>\n",
       "      <th>P_BP_SAVED_LAST_200_DIFF</th>\n",
       "      <th>P_BP_SAVED_LAST_25_DIFF</th>\n",
       "      <th>P_BP_SAVED_LAST_3_DIFF</th>\n",
       "      <th>P_BP_SAVED_LAST_50_DIFF</th>\n",
       "      <th>P_BP_SAVED_LAST_5_DIFF</th>\n",
       "      <th>P_DF_LAST_100_DIFF</th>\n",
       "      <th>P_DF_LAST_10_DIFF</th>\n",
       "      <th>P_DF_LAST_200_DIFF</th>\n",
       "      <th>P_DF_LAST_25_DIFF</th>\n",
       "      <th>P_DF_LAST_3_DIFF</th>\n",
       "      <th>P_DF_LAST_50_DIFF</th>\n",
       "      <th>P_DF_LAST_5_DIFF</th>\n",
       "      <th>WIN_LAST_100_DIFF</th>\n",
       "      <th>WIN_LAST_10_DIFF</th>\n",
       "      <th>WIN_LAST_200_DIFF</th>\n",
       "      <th>WIN_LAST_25_DIFF</th>\n",
       "      <th>WIN_LAST_3_DIFF</th>\n",
       "      <th>WIN_LAST_50_DIFF</th>\n",
       "      <th>WIN_LAST_5_DIFF</th>\n",
       "    </tr>\n",
       "  </thead>\n",
       "  <tbody>\n",
       "    <tr>\n",
       "      <th>0</th>\n",
       "      <td>1</td>\n",
       "      <td>1900</td>\n",
       "      <td>-10</td>\n",
       "      <td>3</td>\n",
       "      <td>128</td>\n",
       "      <td>152.524575</td>\n",
       "      <td>0.000804</td>\n",
       "      <td>-0.042424</td>\n",
       "      <td>0.00052</td>\n",
       "      <td>0.005385</td>\n",
       "      <td>0.0</td>\n",
       "      <td>0.011477</td>\n",
       "      <td>-0.1</td>\n",
       "      <td>-119.995234</td>\n",
       "      <td>-1</td>\n",
       "      <td>-1</td>\n",
       "      <td>13</td>\n",
       "      <td>81</td>\n",
       "      <td>-2.954803</td>\n",
       "      <td>-2.953234</td>\n",
       "      <td>-3.496765</td>\n",
       "      <td>-4.302408</td>\n",
       "      <td>-10.89653</td>\n",
       "      <td>-2.890145</td>\n",
       "      <td>-8.223294</td>\n",
       "      <td>6.476002</td>\n",
       "      <td>4.654115</td>\n",
       "      <td>5.357632</td>\n",
       "      <td>5.571129</td>\n",
       "      <td>2.546896</td>\n",
       "      <td>7.958218</td>\n",
       "      <td>6.923672</td>\n",
       "      <td>2.13115</td>\n",
       "      <td>-2.187207</td>\n",
       "      <td>0.270346</td>\n",
       "      <td>1.109648</td>\n",
       "      <td>0.31746</td>\n",
       "      <td>1.091473</td>\n",
       "      <td>1.56074</td>\n",
       "      <td>6.716255</td>\n",
       "      <td>3.484558</td>\n",
       "      <td>5.78068</td>\n",
       "      <td>4.073385</td>\n",
       "      <td>2.616184</td>\n",
       "      <td>7.069818</td>\n",
       "      <td>5.276409</td>\n",
       "      <td>7.23054</td>\n",
       "      <td>28.785714</td>\n",
       "      <td>5.540188</td>\n",
       "      <td>21.949533</td>\n",
       "      <td>19.444444</td>\n",
       "      <td>19.476543</td>\n",
       "      <td>24.428571</td>\n",
       "      <td>-0.322109</td>\n",
       "      <td>-0.932926</td>\n",
       "      <td>-0.137076</td>\n",
       "      <td>-0.256273</td>\n",
       "      <td>2.173708</td>\n",
       "      <td>-0.191981</td>\n",
       "      <td>1.304225</td>\n",
       "      <td>6</td>\n",
       "      <td>3</td>\n",
       "      <td>7</td>\n",
       "      <td>6</td>\n",
       "      <td>0</td>\n",
       "      <td>3</td>\n",
       "      <td>1</td>\n",
       "    </tr>\n",
       "  </tbody>\n",
       "</table>\n",
       "</div>"
      ]
     },
     "execution_count": 33,
     "metadata": {},
     "output_type": "execute_result"
    }
   ],
   "execution_count": 33
  },
  {
   "metadata": {
    "ExecuteTime": {
     "end_time": "2025-05-05T08:03:46.405394Z",
     "start_time": "2025-05-05T08:03:46.372414Z"
    }
   },
   "cell_type": "code",
   "source": [
    "# see how sure of the prediction the model is\n",
    "probs = xgb_model.predict_proba(np.array(match_data, dtype=object))\n",
    "\n",
    "# Extract probability of each class\n",
    "prob_player1_wins = probs[0][1]\n",
    "prob_player2_wins = probs[0][0]\n",
    "\n",
    "print(f\"Probability of {player1['Name']} winning: {prob_player1_wins:.2%}\")\n",
    "print(f\"Probability of {player2['Name']} winning: {prob_player2_wins:.2%}\")"
   ],
   "id": "9cf649a4ebe4c186",
   "outputs": [
    {
     "name": "stdout",
     "output_type": "stream",
     "text": [
      "Probability of Fritz winning: 48.77%\n",
      "Probability of Ruud winning: 51.23%\n"
     ]
    }
   ],
   "execution_count": 35
  }
 ],
 "metadata": {
  "kernelspec": {
   "display_name": "Python 3",
   "language": "python",
   "name": "python3"
  },
  "language_info": {
   "codemirror_mode": {
    "name": "ipython",
    "version": 2
   },
   "file_extension": ".py",
   "mimetype": "text/x-python",
   "name": "python",
   "nbconvert_exporter": "python",
   "pygments_lexer": "ipython2",
   "version": "2.7.6"
  }
 },
 "nbformat": 4,
 "nbformat_minor": 5
}
